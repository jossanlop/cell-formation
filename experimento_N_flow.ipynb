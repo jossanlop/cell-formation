{
 "cells": [
  {
   "cell_type": "code",
   "execution_count": 21,
   "metadata": {},
   "outputs": [],
   "source": [
    "import numpy as np\n",
    "import pandas as pd\n",
    "from os import listdir\n",
    "import reproduccion_ulutas as rp\n",
    "import reproduccion_ulutas_N_flow as nf\n",
    "import time"
   ]
  },
  {
   "cell_type": "code",
   "execution_count": 22,
   "metadata": {},
   "outputs": [],
   "source": [
    "mypath = 'data/instances/A1_A16'\n",
    "datasets = [f for f in listdir(mypath)] #dataset reading"
   ]
  },
  {
   "cell_type": "code",
   "execution_count": 23,
   "metadata": {},
   "outputs": [],
   "source": [
    "POPULATION_SIZE = 4   # indicate the initial size of antibodies population\n",
    "# N is a random % of antibodies with highest sum_intercell_transport selected to be cloned\n",
    "R = 0.5 # % of best cloned antibodies to the pool of antibodies\n",
    "B = 0.5 # worst % of the whole population (RECEPTOR EDITING)\n",
    "\n",
    "MAX_ITERATIONS = 1\n",
    "MAX_ITERATIONS_WITHOUT_IMPROVEMENT = 1\n",
    "number_of_runs = 1\n",
    "log = True # Boolean: print logs at the execution of the algorithm."
   ]
  },
  {
   "cell_type": "code",
   "execution_count": 24,
   "metadata": {},
   "outputs": [
    {
     "name": "stdout",
     "output_type": "stream",
     "text": [
      "\n",
      "Part-machine matrix\n",
      "     M1  M2  M3  M4  M5\n",
      "P1   0   1   1   0   1\n",
      "P2   1   0   0   1   0\n",
      "P3   0   1   1   0   0\n",
      "P4   1   0   0   1   0\n",
      "P5   1   0   0   0   0\n",
      "P6   1   0   0   1   0\n",
      "P7   0   0   1   0   1\n",
      "\n",
      "Initial antibodies\n",
      " [[ 5  0  3  9 12  6  4  2  0 11  1  0  0  7 10  8]\n",
      " [ 4 12  1  6  0  9  3  8  0  0 10  7  2  0 11  5]\n",
      " [ 4 12  6  0  0  1  7 10  3  8 11  0  2  0  9  5]\n",
      " [ 8  0  4  0  2  0 11  0 10  6  7 12  3  9  5  1]]\n",
      "\n",
      " Iteration number 1\n",
      "\n",
      " Cells\n",
      " [[[5], [3, 9, 12, 6, 4, 2], [11, 1], [7, 10, 8]], [[4, 12, 1, 6], [9, 3, 8], [10, 7, 2], [11, 5]], [[4, 12, 6], [1, 7, 10, 3, 8, 11], [2], [9, 5]], [[8], [4], [2], [11], [10, 6, 7, 12, 3, 9, 5, 1]]]\n",
      "decoded antibodies [['P5'], ['P3', 'M2', 'M5', 'P6', 'P4', 'P2'], ['M4', 'P1'], ['P7', 'M3', 'M1']]\n",
      "decoded antibodies [['P4', 'M5', 'P1', 'P6'], ['M2', 'P3', 'M1'], ['M3', 'P7', 'P2'], ['M4', 'P5']]\n",
      "decoded antibodies [['P4', 'M5', 'P6'], ['P1', 'P7', 'M3', 'P3', 'M1', 'M4'], ['P2'], ['M2', 'P5']]\n",
      "decoded antibodies [['M1'], ['P4'], ['P2'], ['M4'], ['M3', 'P6', 'P7', 'M5', 'P3', 'M2', 'P5', 'P1']]\n",
      "\n",
      " Efficacies [0.04347826086956524, 0.15789473684210525, 0.06521739130434784, 0.0]\n",
      "\n",
      " Intercell Transports [[2, 2, 2, 2, 1, 2, 2], [3, 2, 2, 2, 1, 2, 2], [3, 1, 2, 1, 1, 1, 2], [1, 2, 1, 2, 1, 2, 1]]\n",
      "\n",
      " Sum of Intercell Transports [13, 14, 11, 10]\n",
      "N% = 0.288353914495439\n",
      "\n",
      " Cloned antibodies\n",
      " [[ 4 12  6  0  0  1  7 10  3  8 11  0  2  0  9  5]\n",
      " [ 5  0  3  9 12  6  4  2  0 11  1  0  0  7 10  8]\n",
      " [ 4 12  1  6  0  9  3  8  0  0 10  7  2  0 11  5]]\n",
      "\n",
      " Cloned antibodies positions (pool)\n",
      " [2 0 1]\n",
      "\n",
      " Mutation of cloned antibodies\n",
      " [[ 4  7  6  0  0  1 12 10  3  8 11  0  2  0  9  5]\n",
      " [ 5  0  3  9 12  6  4  2  1 11  0  0  0  7 10  8]\n",
      " [ 4 12 10  6  0  9  3  8  0  0  1  7  2  0 11  5]]\n",
      "decoded antibodies [['P4', 'P7', 'P6'], ['P1', 'M5', 'M3', 'P3', 'M1', 'M4'], ['P2'], ['M2', 'P5']]\n",
      "decoded antibodies [['P5'], ['P3', 'M2', 'M5', 'P6', 'P4', 'P2', 'P1', 'M4'], ['P7', 'M3', 'M1']]\n",
      "decoded antibodies [['P4', 'M5', 'M3', 'P6'], ['M2', 'P3', 'M1'], ['P1', 'P7', 'P2'], ['M4', 'P5']]\n",
      "\n",
      " Cloned Efficacies [0.075, 0.14583333333333331, 0.024999999999999988]\n",
      "\n",
      " Cloned Intercell Transports [[2, 2, 2, 2, 1, 2, 2], [3, 2, 2, 2, 1, 2, 2], [3, 1, 2, 1, 1, 1, 2], [1, 2, 1, 2, 1, 2, 1]]\n",
      "\n",
      " Cloned Sum of Intercell Transports [13, 14, 11, 10]\n",
      "\n",
      "clon [ 4 12 10  6  0  9  3  8  0  0  1  7  2  0 11  5] presents worse efficacy while mutating\n",
      "Mutated clon efficacy 0.024999999999999988\n",
      "Non-mutated clon efficacy 0.15789473684210525\n",
      "Keep original clon [ 4 12  1  6  0  9  3  8  0  0 10  7  2  0 11  5]\n",
      "\n",
      "Positions (clone-pool) of antibodies that improved while mutating [0, 1]\n",
      "\n",
      "1 antibodies were selected and updated in the pool\n",
      "Positions (pool) of updated antibodies [0]\n",
      "\n",
      " New antibodies pool \n",
      " [[ 5  0  3  9 12  6  4  2  1 11  0  0  0  7 10  8]\n",
      " [ 4 12  1  6  0  9  3  8  0  0 10  7  2  0 11  5]\n",
      " [ 4 12  6  0  0  1  7 10  3  8 11  0  2  0  9  5]\n",
      " [ 8  0  4  0  2  0 11  0 10  6  7 12  3  9  5  1]]\n",
      "\n",
      "2 antibodies were deleted\n",
      "\n",
      " Antibodies pool after removal \n",
      " [[ 4 12  6  0  0  1  7 10  3  8 11  0  2  0  9  5]\n",
      " [ 8  0  4  0  2  0 11  0 10  6  7 12  3  9  5  1]]\n",
      "\n",
      " New random antibodies \n",
      " [[ 8 11  0  7  0  0  2  6  9  1  0  5 12  4  3 10]\n",
      " [ 9  7 12  4  2  5  0  0 11 10  0  6  3  1  0  8]]\n",
      "\n",
      " Antibodies pool after adding new random antibodies \n",
      " [[ 4 12  6  0  0  1  7 10  3  8 11  0  2  0  9  5]\n",
      " [ 8  0  4  0  2  0 11  0 10  6  7 12  3  9  5  1]\n",
      " [ 8 11  0  7  0  0  2  6  9  1  0  5 12  4  3 10]\n",
      " [ 9  7 12  4  2  5  0  0 11 10  0  6  3  1  0  8]]\n",
      "\n",
      " Best solution at the moment is 11 (antibody [ 4 12  6  0  0  1  7 10  3  8 11  0  2  0  9  5], index 0)\n",
      "\n",
      " Iteration number 2\n",
      "\n",
      " Cells\n",
      " [[[4, 12, 6], [1, 7, 10, 3, 8, 11], [2], [9, 5]], [[8], [4], [2], [11], [10, 6, 7, 12, 3, 9, 5, 1]], [[8, 11], [7], [2, 6, 9, 1], [5, 12, 4, 3, 10]], [[9, 7, 12, 4, 2, 5], [11, 10], [6, 3, 1], [8]]]\n",
      "decoded antibodies [['P4', 'M5', 'P6'], ['P1', 'P7', 'M3', 'P3', 'M1', 'M4'], ['P2'], ['M2', 'P5']]\n",
      "decoded antibodies [['M1'], ['P4'], ['P2'], ['M4'], ['M3', 'P6', 'P7', 'M5', 'P3', 'M2', 'P5', 'P1']]\n",
      "decoded antibodies [['M1', 'M4'], ['P7'], ['P2', 'P6', 'M2', 'P1'], ['P5', 'M5', 'P4', 'P3', 'M3']]\n",
      "decoded antibodies [['M2', 'P7', 'M5', 'P4', 'P2', 'P5'], ['M4', 'M3'], ['P6', 'P3', 'P1'], ['M1']]\n",
      "\n",
      " Efficacies [0.06521739130434784, 0.0, 0.0, 0.0]\n",
      "\n",
      " Intercell Transports [[3, 1, 2, 1, 1, 1, 2], [1, 2, 1, 2, 1, 2, 1], [2, 1, 2, 1, 1, 1, 1], [2, 2, 2, 2, 1, 2, 2]]\n",
      "\n",
      " Sum of Intercell Transports [11, 10, 9, 13]\n",
      "N% = 0.05803290517191795\n",
      "\n",
      " Cloned antibodies\n",
      " [[ 8 11  0  7  0  0  2  6  9  1  0  5 12  4  3 10]\n",
      " [ 8  0  4  0  2  0 11  0 10  6  7 12  3  9  5  1]\n",
      " [ 4 12  6  0  0  1  7 10  3  8 11  0  2  0  9  5]\n",
      " [ 9  7 12  4  2  5  0  0 11 10  0  6  3  1  0  8]]\n",
      "\n",
      " Cloned antibodies positions (pool)\n",
      " [2 1 0 3]\n",
      "\n",
      " Mutation of cloned antibodies\n",
      " [[ 8 11  0  7  0  3  2  6  9  1  0  5 12  4  0 10]\n",
      " [ 8  0  4  7  2  0 11  0 10  6  0 12  3  9  5  1]\n",
      " [ 4 12  6  5  0  1  7 10  3  8 11  0  2  0  9  0]\n",
      " [ 9  7 12  4  2  8  0  0 11 10  0  6  3  1  0  5]]\n",
      "decoded antibodies [['M1', 'M4'], ['P7'], ['P3', 'P2', 'P6', 'M2', 'P1'], ['P5', 'M5', 'P4'], ['M3']]\n",
      "decoded antibodies [['M1'], ['P4', 'P7', 'P2'], ['M4'], ['M3', 'P6'], ['M5', 'P3', 'M2', 'P5', 'P1']]\n",
      "decoded antibodies [['P4', 'M5', 'P6', 'P5'], ['P1', 'P7', 'M3', 'P3', 'M1', 'M4'], ['P2'], ['M2']]\n",
      "decoded antibodies [['M2', 'P7', 'M5', 'P4', 'P2', 'M1'], ['M4', 'M3'], ['P6', 'P3', 'P1'], ['P5']]\n",
      "\n",
      " Cloned Efficacies [0.0, 0.0, 0.0, 0.0]\n",
      "\n",
      " Cloned Intercell Transports [[3, 1, 2, 1, 1, 1, 2], [1, 2, 1, 2, 1, 2, 1], [2, 1, 2, 1, 1, 1, 1], [2, 2, 2, 2, 1, 2, 2]]\n",
      "\n",
      " Cloned Sum of Intercell Transports [11, 10, 9, 13]\n",
      "\n",
      "clon [ 4 12  6  5  0  1  7 10  3  8 11  0  2  0  9  0] presents worse efficacy while mutating\n",
      "Mutated clon efficacy 0.0\n",
      "Non-mutated clon efficacy 0.06521739130434784\n",
      "Keep original clon [ 4 12  6  0  0  1  7 10  3  8 11  0  2  0  9  5]\n",
      "\n",
      "Positions (clone-pool) of antibodies that improved while mutating [0, 1, 3]\n",
      "\n",
      "2 antibodies were selected and updated in the pool\n",
      "Positions (pool) of updated antibodies [0 1]\n",
      "\n",
      " New antibodies pool \n",
      " [[ 4 12  6  0  0  1  7 10  3  8 11  0  2  0  9  5]\n",
      " [ 8  0  4  7  2  0 11  0 10  6  0 12  3  9  5  1]\n",
      " [ 8 11  0  7  0  0  2  6  9  1  0  5 12  4  3 10]\n",
      " [ 9  7 12  4  2  8  0  0 11 10  0  6  3  1  0  5]]\n",
      "\n",
      "2 antibodies were deleted\n",
      "\n",
      " Antibodies pool after removal \n",
      " [[ 8  0  4  7  2  0 11  0 10  6  0 12  3  9  5  1]\n",
      " [ 8 11  0  7  0  0  2  6  9  1  0  5 12  4  3 10]]\n",
      "\n",
      " New random antibodies \n",
      " [[ 6  7  3  9  0  8  0  4  5 11  2  1  0  0 10 12]\n",
      " [ 6  0  5 12  0  4 11 10  7  0  1  8  0  2  3  9]]\n",
      "\n",
      " Antibodies pool after adding new random antibodies \n",
      " [[ 8  0  4  7  2  0 11  0 10  6  0 12  3  9  5  1]\n",
      " [ 8 11  0  7  0  0  2  6  9  1  0  5 12  4  3 10]\n",
      " [ 6  7  3  9  0  8  0  4  5 11  2  1  0  0 10 12]\n",
      " [ 6  0  5 12  0  4 11 10  7  0  1  8  0  2  3  9]]\n",
      "\n",
      " Best solution at the moment is 10 (antibody [ 8  0  4  7  2  0 11  0 10  6  0 12  3  9  5  1], index 0)\n",
      "5x7_King_Nakornchai(1982)[Figure-1a].txt \tEficcacy:  0.0 \tTransports:  10 \tNumber of iterations: 2 \tElapsed time 0.0658273696899414\n"
     ]
    }
   ],
   "source": [
    "#reads data and translates it into part-machine matrix\n",
    "problem_names, grouping_efficacies, number_of_iterations, elapsed_time = [],[],[],[]\n",
    "path = mypath + '/'\n",
    "for dataset in datasets:\n",
    "    data = path + dataset\n",
    "    runs = 0\n",
    "    while runs < number_of_runs: #number of runs for each instance\n",
    "        matrix, m, p,number_of_operations, columns, rows = rp.part_machine_incidence_matrix(data)\n",
    "        if log == True: print(\"\\nPart-machine matrix\\n\",matrix)\n",
    "        #GENERATION OF INITIAL POPULATION\n",
    "        antibodies = rp.generation_initial_population(p = p, m= m, population_size = POPULATION_SIZE)\n",
    "        if log == True: print(\"\\nInitial antibodies\\n\",antibodies)\n",
    "        iterations, best_solution, improvement_counter = 0, 100, 0\n",
    "        start = time.time() #start time for each problem\n",
    "\n",
    "        while iterations <= MAX_ITERATIONS:\n",
    "            if log == True: print(\"\\n Iteration number\",iterations+1)\n",
    "            #identifies cells in the antibodies\n",
    "            total_cells = rp.cell_identification(antibodies = antibodies)\n",
    "            if log == True: print(\"\\n Cells\\n\", total_cells)\n",
    "            #translates numbers into parts and machines\n",
    "            total_machines, total_parts = rp.decode_cells(total_cells = total_cells, rows= rows, columns = columns, p = p, log = log) \n",
    "\n",
    "            #calculates part-machine matrix for each antibody\n",
    "            antibody_matrices = rp.create_machine_part_matrix(matrix = matrix, \n",
    "                                                            antibodies = antibodies, \n",
    "                                                            total_machines = total_machines, \n",
    "                                                            total_parts = total_parts)\n",
    "            #evaluates efficacie of each antibody\n",
    "            efficacies, voids, exceptions = nf.evaluate_antibodies(antibody_matrices = antibody_matrices, \n",
    "                                                                                total_cells = total_cells,\n",
    "                                                                                number_of_operations = number_of_operations)\n",
    "            if log == True: print(\"\\n Efficacies\",efficacies)\n",
    "            #evaluates intercell transports of each antibody\n",
    "            intercell_transports, sum_intercell_transport = nf.evaluate_intercell_transport(antibody_matrices = antibody_matrices,\n",
    "                                                                                            total_cells = total_cells,\n",
    "                                                                                            rows = rows)\n",
    "            if log == True: print(\"\\n Intercell Transports\",intercell_transports)\n",
    "            if log == True: print(\"\\n Sum of Intercell Transports\",sum_intercell_transport)\n",
    "            # SELECTS N% OF ANTIBODIES WITH HIGHES ANTIBODIES (SELECTION ROULETTE WHEEL)\n",
    "            N = np.random.rand(1) # N is a random number each iteration\n",
    "            if log: print(\"N% =\",N[0])\n",
    "            cloned_antibodies, positions_antibodies_selected = nf.antibodies_selection_v3(antibodies=antibodies, N=N[0], sum_intercell_transport = sum_intercell_transport)\n",
    "            if log == True: print(\"\\n Cloned antibodies\\n\",cloned_antibodies)\n",
    "            if log == True: print(\"\\n Cloned antibodies positions (pool)\\n\",positions_antibodies_selected)\n",
    "            # MUTATION\n",
    "            rp.mutate_cloned_antibodies(cloned_antibodies = cloned_antibodies, log= log)\n",
    "            if log == True: print(\"\\n Mutation of cloned antibodies\\n\",cloned_antibodies)\n",
    "            #CLONES: identifies cells in the antibody\n",
    "            cloned_total_cells = rp.cell_identification(cloned_antibodies)\n",
    "            #CLONES: translates numbers into parts and machines\n",
    "            cloned_total_machines, cloned_total_parts = rp.decode_cells(total_cells = cloned_total_cells,rows= rows, columns = columns, p = p, log = log)\n",
    "            #CLONES: calculates part-machine matrix for each antibody\n",
    "            cloned_antibody_matrices = rp.create_machine_part_matrix(matrix = matrix,\n",
    "                                                                        antibodies = cloned_antibodies, \n",
    "                                                                        total_machines = cloned_total_machines, \n",
    "                                                                        total_parts = cloned_total_parts)                                                          \n",
    "            #CLONES evaluates efficacie of each cloned antibody\n",
    "            cloned_efficacies, cloned_voids, cloned_exceptions = nf.evaluate_antibodies(cloned_antibody_matrices,\n",
    "                                                                                        cloned_total_cells,\n",
    "                                                                                        number_of_operations)\n",
    "            if log == True: print(\"\\n Cloned Efficacies\",cloned_efficacies)\n",
    "            #CLONES evaluates intercell transports of each cloned antibody\n",
    "            cloned_intercell_transports, cloned_sum_intercell_transport = nf.evaluate_intercell_transport(antibody_matrices = antibody_matrices,\n",
    "                                                                                            total_cells = total_cells,\n",
    "                                                                                            rows = rows)\n",
    "            if log == True: print(\"\\n Cloned Intercell Transports\",cloned_intercell_transports)\n",
    "            if log == True: print(\"\\n Cloned Sum of Intercell Transports\",cloned_sum_intercell_transport)\n",
    "            # Add R% of best cloned antibodies to the pool of antibodies\n",
    "            antibodies, efficacies, sum_intercell_transport = nf.select_best_cloned_antibodies_v2(antibodies = antibodies,\n",
    "                                                                            cloned_antibodies = cloned_antibodies,\n",
    "                                                                            efficacies = efficacies, \n",
    "                                                                            cloned_efficacies = cloned_efficacies,\n",
    "                                                                            sum_intercell_transport = sum_intercell_transport, \n",
    "                                                                            cloned_sum_intercell_transport = cloned_sum_intercell_transport,\n",
    "                                                                            R = R,\n",
    "                                                                            positions_antibodies_selected = positions_antibodies_selected, \n",
    "                                                                            log = log)\n",
    "            if log == True: print(\"\\n New antibodies pool \\n\",antibodies)                                                                        \n",
    "            # RECEPTOR EDITING: Remove worst members of the antibodies pool\n",
    "            antibodies, efficacies, sum_intercell_transport, amount_antibodies_erased = nf.receptor_editing(antibodies_pool = antibodies, \n",
    "                                                                                        efficacies = efficacies, \n",
    "                                                                                        sum_intercell_transport=sum_intercell_transport, \n",
    "                                                                                        B = B, \n",
    "                                                                                        log = log)\n",
    "            if log == True: print(\"\\n Antibodies pool after removal \\n\", antibodies)\n",
    "            #GENERATION OF NEW RANDOM ANTIBODIES\n",
    "            number_new_random_antibodies = amount_antibodies_erased\n",
    "            new_random_antibodies = rp.generation_initial_population(p = p, \n",
    "                                                                m = m, \n",
    "                                                                population_size = number_new_random_antibodies)\n",
    "            if log == True: print(\"\\n New random antibodies \\n\",new_random_antibodies)                                                        \n",
    "            antibodies = np.concatenate((antibodies, new_random_antibodies), axis = 0)\n",
    "            if log == True: print(\"\\n Antibodies pool after adding new random antibodies \\n\",antibodies)\n",
    "            \n",
    "            #TERMINATION CRITERIA AND SELECTION OF BEST SOLUTION\n",
    "            iteration_best_solution = np.amax(sum_intercell_transport) #max value efficacy for this iteration\n",
    "            index_best_solution = np.argmax(sum_intercell_transport)\n",
    "            best_solution_efficacy = efficacies[index_best_solution]\n",
    "            best_antibody = antibodies[index_best_solution]\n",
    "            if log: print(\"\\n Best solution at the moment is {} (antibody {}, index {})\".format(iteration_best_solution,best_antibody,index_best_solution))\n",
    "            if iteration_best_solution >= best_solution:\n",
    "                improvement_counter = improvement_counter + 1\n",
    "                if improvement_counter >= MAX_ITERATIONS_WITHOUT_IMPROVEMENT:\n",
    "                    if log: print(\"Maximun number of iterations without improvement reached: {}\".format(MAX_ITERATIONS_WITHOUT_IMPROVEMENT))\n",
    "                    if log: print(\"Best solution obtained is {}\".format(best_solution))\n",
    "                    break\n",
    "            else:\n",
    "                best_solution = iteration_best_solution\n",
    "                improvement_counter = 0\n",
    "            #update iteration counter\n",
    "            iterations = iterations + 1\n",
    "        runs = runs + 1\n",
    "        end = time.time()\n",
    "        #saving results:\n",
    "        problem_names.append(dataset)\n",
    "        grouping_efficacies.append(iteration_best_solution)\n",
    "        number_of_iterations.append(iterations)\n",
    "        elapsed_time.append(end-start)\n",
    "        print(dataset,\"\\tEficcacy: \", best_solution_efficacy, \"\\tTransports: \",iteration_best_solution, \"\\tNumber of iterations:\", iterations, \"\\tElapsed time\", end-start)\n",
    "        \n",
    "results = {\"Problem\": problem_names,\n",
    "            \"Efficacy\": grouping_efficacies,\n",
    "            \"Iterations\": number_of_iterations,\n",
    "            \"Elapsed Time\": elapsed_time}\n",
    "results = pd.DataFrame(results)\n",
    "results.to_csv('resultsN_flow.csv')"
   ]
  },
  {
   "cell_type": "code",
   "execution_count": 25,
   "metadata": {},
   "outputs": [
    {
     "data": {
      "text/plain": [
       "10"
      ]
     },
     "execution_count": 25,
     "metadata": {},
     "output_type": "execute_result"
    }
   ],
   "source": [
    "best_solution"
   ]
  },
  {
   "cell_type": "code",
   "execution_count": 26,
   "metadata": {},
   "outputs": [
    {
     "data": {
      "text/plain": [
       "10"
      ]
     },
     "execution_count": 26,
     "metadata": {},
     "output_type": "execute_result"
    }
   ],
   "source": [
    "iteration_best_solution"
   ]
  },
  {
   "cell_type": "code",
   "execution_count": 27,
   "metadata": {},
   "outputs": [
    {
     "data": {
      "text/plain": [
       "array([ 8,  0,  4,  7,  2,  0, 11,  0, 10,  6,  0, 12,  3,  9,  5,  1])"
      ]
     },
     "execution_count": 27,
     "metadata": {},
     "output_type": "execute_result"
    }
   ],
   "source": [
    "best_antibody"
   ]
  },
  {
   "cell_type": "code",
   "execution_count": 28,
   "metadata": {},
   "outputs": [
    {
     "data": {
      "text/plain": [
       "[[[8], [4, 7, 2], [11], [10, 6], [12, 3, 9, 5, 1]]]"
      ]
     },
     "execution_count": 28,
     "metadata": {},
     "output_type": "execute_result"
    }
   ],
   "source": [
    "cell_identified_best_antibody = rp.cell_identification([best_antibody])\n",
    "cell_identified_best_antibody"
   ]
  },
  {
   "cell_type": "code",
   "execution_count": 29,
   "metadata": {},
   "outputs": [
    {
     "name": "stdout",
     "output_type": "stream",
     "text": [
      "decoded antibodies [['M1'], ['P4', 'P7', 'P2'], ['M4'], ['M3', 'P6'], ['M5', 'P3', 'M2', 'P5', 'P1']]\n"
     ]
    },
    {
     "data": {
      "text/plain": [
       "[    M1  M4  M3  M5  M2\n",
       " P4   1   1   0   0   0\n",
       " P7   0   0   1   1   0\n",
       " P2   1   1   0   0   0\n",
       " P6   1   1   0   0   0\n",
       " P3   0   0   1   0   1\n",
       " P5   1   0   0   0   0\n",
       " P1   0   0   1   1   1]"
      ]
     },
     "execution_count": 29,
     "metadata": {},
     "output_type": "execute_result"
    }
   ],
   "source": [
    "total_machines, total_parts = rp.decode_cells(total_cells = cell_identified_best_antibody, rows= rows, columns = columns, p = p, log = log)\n",
    "\n",
    "antibody_matrices = rp.create_machine_part_matrix(matrix=matrix,\n",
    "                                                antibodies=[best_antibody], \n",
    "                                                total_machines=total_machines, \n",
    "                                                total_parts=total_parts)\n",
    "antibody_matrices    "
   ]
  },
  {
   "cell_type": "code",
   "execution_count": 30,
   "metadata": {},
   "outputs": [
    {
     "data": {
      "text/plain": [
       "[0.0]"
      ]
     },
     "execution_count": 30,
     "metadata": {},
     "output_type": "execute_result"
    }
   ],
   "source": [
    "efficacies, affinities, voids, exceptions = rp.evaluate_antibodies(antibody_matrices = antibody_matrices, \n",
    "                                                                    total_cells=cell_identified_best_antibody,\n",
    "                                                                    number_of_operations = number_of_operations)\n",
    "efficacies"
   ]
  }
 ],
 "metadata": {
  "interpreter": {
   "hash": "b3ba2566441a7c06988d0923437866b63cedc61552a5af99d1f4fb67d367b25f"
  },
  "kernelspec": {
   "display_name": "Python 3.8.8 64-bit ('base': conda)",
   "name": "python3"
  },
  "language_info": {
   "codemirror_mode": {
    "name": "ipython",
    "version": 3
   },
   "file_extension": ".py",
   "mimetype": "text/x-python",
   "name": "python",
   "nbconvert_exporter": "python",
   "pygments_lexer": "ipython3",
   "version": "3.8.8"
  },
  "orig_nbformat": 4
 },
 "nbformat": 4,
 "nbformat_minor": 2
}
