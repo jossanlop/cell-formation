{
 "cells": [
  {
   "cell_type": "code",
   "execution_count": 162,
   "metadata": {},
   "outputs": [],
   "source": [
    "import numpy as np\n",
    "import pandas as pd\n",
    "from os import listdir\n",
    "import reproduccion_ulutas as rp\n",
    "import time"
   ]
  },
  {
   "cell_type": "code",
   "execution_count": 163,
   "metadata": {},
   "outputs": [],
   "source": [
    "mypath = 'data/instances/A1_A16'\n",
    "datasets = [f for f in listdir(mypath)] #dataset reading"
   ]
  },
  {
   "cell_type": "code",
   "execution_count": 164,
   "metadata": {},
   "outputs": [],
   "source": [
    "POPULATION_SIZE = 100\n",
    "log = False\n",
    "ejecuciones = 100\n",
    "\n",
    "path = mypath + '/'\n",
    "data = path + datasets[0]"
   ]
  },
  {
   "cell_type": "code",
   "execution_count": 165,
   "metadata": {},
   "outputs": [
    {
     "name": "stdout",
     "output_type": "stream",
     "text": [
      "[10  1  4  0  0  0  0  8  9  5  3  2 11  7  6 12]\n",
      "[ 0  0  7  8  1  0  0  6  5  9  4  2 11 12 10  3]\n",
      "[ 0  6 12  3 10  9  4 11  7  1  2  8  5  0  0  0]\n",
      "[ 3 10  0 12  9  8  2  1  5  6  7 11  4  0  0  0]\n",
      "[ 0  7  4 10 12  5  6  0  0  0  8  1  3  9  2 11]\n",
      "[11  3  6 12  5  7  4  2 10  1  9  8  0  0  0  0]\n",
      "[ 0  3 12  6  5  8 11  2  7  4  9  0  0  0  1 10]\n",
      "[ 0  7 10  0  0  5  6 11  8 12  3  9  1  2  4  0]\n",
      "[ 0  8  7  0  0  5  2  4  1 12 11  3 10  9  6  0]\n",
      "[ 1  9  0  4 12  8 10 11  2  3  7  5  6  0  0  0]\n",
      "[ 0  0  2  5  4 12  3 11 10  6  0  1  8  0  7  9]\n",
      "[ 0  2 11  0  8  3  1  9  6  7 12  4  5 10  0  0]\n",
      "[ 0  0  0 10  2  8  3  7  6  4 11  1 12  5  9  0]\n",
      "[ 0  6  1 10  3  7  8  9  4 11  5 12  2  0  0  0]\n",
      "[ 0  7  9  3  2  0 11  6  8  1 10  4  5 12  0  0]\n",
      "[ 6  8  0  0  2 12  7  1  5  3 10  4  9 11  0  0]\n",
      "[ 8  7  0  0  1  4  9 11 10 12  2  5  6  3  0  0]\n",
      "[ 0  9  3  2  5 11 12  4 10  1  0  7  6  8  0  0]\n",
      "[ 0  0  2  4  1  3  6  9 12 11 10  0  5  7  8  0]\n",
      "[ 0  9 11  1  3  0  0  8  6  2  4  5 10  7 12  0]\n",
      "[10  5 12  6  8  1  0  0  0  0  2  3  9  7  4 11]\n",
      "[ 0  0  2  4  8  1 10  5 12  7 11  6  3  9  0  0]\n",
      "[ 0  4  9  1  3 10  0 11  2  0  6  5 12  8  7  0]\n",
      "[ 0  0  7  4  6  3 12  5 11  9 10  0  8  1  2  0]\n",
      "[ 0 10  4 11  3  0  2  5  8 12  6  7  0  9  1  0]\n",
      "[ 0  0  8  6 12  7 10  5  1  0  0  3  9  4 11  2]\n",
      "[ 0  0  2  6  1  8 12  0  3 11  7  5  4  9 10  0]\n",
      "[ 0  0  0  8 12  5 10  6  3  4  0  7  1  9 11  2]\n",
      "[ 0  0  0  8  1  5  6  4  2 10  9 12  3 11  7  0]\n",
      "[ 0  0 12  9  1  2  5  8  0  6 10  4  3  7 11  0]\n",
      "[ 0 12  6  0 10  7  9  8 11  1  3  2  5  4  0  0]\n",
      "[ 0  2  7 11  9  0  0  0 12  1  3 10  6  4  5  8]\n",
      "[ 0  3 11 12  4  2  5  6  1  9 10  8  7  0  0  0]\n",
      "[ 0  0  0  4 12  9  5  8  6 10  3  7  0  2 11  1]\n",
      "[ 0  0  0  5 10  3  7  6  8  0  2  9 12  4  1 11]\n",
      "[ 0  9  7  0  0 11  1 10  3  4  2  6 12  8  5  0]\n",
      "[ 8  6  0  0  7  5 12  0  0 10  4  3 11  2  9  1]\n",
      "[ 0  0  5  6  9  8  2  7  0  3 12  1  4 10 11  0]\n",
      "[ 0  0 12  6  0  8  7  4  0  9  5 11  2  3 10  1]\n",
      "[ 7 12  4  2  1  5  9  8 11  0  3 10  6  0  0  0]\n",
      "[ 0  1 12  0  0  9  4 10  7 11  2  3  5  6  8  0]\n",
      "[ 0  0  0  6  1  2 11 10  7  8 12  9  5  3  4  0]\n",
      "[ 0  0  0  5  1  6  8 12  0  2  4 11  3  9  7 10]\n",
      "[ 0  0  0  7  4  6  8  5 10  3 12  2 11  9  1  0]\n",
      "[12  1  0  0  0 11  9  7  6  4  3  5  2 10  8  0]\n",
      "[ 0  0  0  1  9  4  0  3 11  7  2  6  8  5 12 10]\n",
      "[ 5  1  2 11 12 10  9  4  3  0  0  6  7  8  0  0]\n",
      "[ 0 10  6  0  3  7  1  8  0  0  4 12  9 11  2  5]\n",
      "[ 0  0  0  7 12  4  5  6  2  1  8  9  3 11 10  0]\n",
      "[ 7  4  1  8  0  3  2  9  6 10  5 12 11  0  0  0]\n",
      "[ 0  4 10  0  0  0  7  6  2 11 12  3  8  9  1  5]\n",
      "[ 0  0  0  0  7  1  8 11  3  9 12  5  6 10  2  4]\n",
      "[ 0  0  4 11  2 12  1  7  0  5  8  9  0  3 10  6]\n",
      "[ 7  8 12  6  5 10  1  4  3 11  9  2  0  0  0  0]\n",
      "[ 7 11  0  0  0  8 12  1  3  6  4  9 10  2  5  0]\n",
      "[ 0  2  5  9 12  8  3 11 10  1  7  6  4  0  0  0]\n",
      "[ 0  9  7 10  5  8  3  0  2 11  4  1 12  6  0  0]\n",
      "[ 0  5 10  7  3 11  1  8  6  2  0  0  9  4 12  0]\n",
      "[ 0 11  3  0  4  9  7  0 12  2  5  1  6  8 10  0]\n",
      "[ 0  0  0  1  3  8  7 11 10 12  4  6  9  5  2  0]\n",
      "[ 5  8  0  0  7  6 12  0  2  3  9 10 11  4  1  0]\n",
      "[12  4 11  0  0 10  1  5  6  2  9  7  3  8  0  0]\n",
      "[ 0  3  7  5 10  0  1 11 12  9  2  4  0  0  6  8]\n",
      "[12  2  0  0  8  7  4 10  3  5  6  9  1 11  0  0]\n",
      "[ 5  3  2  8  6 11 10 12  1  4  0  0  7  9  0  0]\n",
      "[ 0  0  0  3 11  7  8  1  4  9  0  2 12  5 10  6]\n",
      "[ 0  0  0  1  3  7  4  8  2  5 11  6 10 12  9  0]\n",
      "[ 0  6  1 11  0  5  4 12  9  3 10  0  8  7  2  0]\n",
      "[ 0  0  7  3 12  2  6 10  9  4  1 11  5  8  0  0]\n",
      "[ 0  0  7 11  0  6  8  0 10 12  9  2  4  5  3  1]\n",
      "[ 0  0  0  4 12  8  2  1  6 11  3  5 10  9  7  0]\n",
      "[ 0  7  5 10  0  0  8 11  9  1  4  3 12  6  2  0]\n",
      "[11 10  1  4  0  0  0  5 12  9  3  8  6  2  7  0]\n",
      "[ 0  0  1 11  4 10  7 12  6  2  0  0  9  8  3  5]\n",
      "[ 5 12  2  7  0  0  0  6  8  0 10  9 11  3  4  1]\n",
      "[10  5  0 11  6  1  7  2 12  3  9  8  4  0  0  0]\n",
      "[ 0  0  8 10  5  9  4  1  6 11  0  7  3  2 12  0]\n",
      "[11  7  8  4  3  1  0  6  9 12  5 10  2  0  0  0]\n",
      "[ 1  6 12  5  8  4  9 10  3  0  0  7 11  2  0  0]\n",
      "[ 9  4  3  0  0  0  0 10  6  1  5  7 12  8  2 11]\n",
      "[ 0  0  0  4 10  5  9  3 12  7  1 11  6  2  8  0]\n",
      "[12  8  6  3  5 10  4  0  0  0  2  9  0 11  7  1]\n",
      "[ 0  4  3  9  0  0  7 11  6  5 12  2 10  1  8  0]\n",
      "[ 4  3  5  8  6  7 10 12  1  9  0 11  2  0  0  0]\n",
      "[ 0  5  9  8  7  3  2 11 12  4 10  1  6  0  0  0]\n",
      "[ 0  0  0 10  6  0  9 11  3  7  8  1  4  5 12  2]\n",
      "[ 0  0 12 10  7 11  4  8  5  6  1  2  9  3  0  0]\n",
      "[ 9  2  4 10  3  8  5  6  7 11  0  1 12  0  0  0]\n",
      "[11  4  7 10  8  3  2  0  1  9  5 12  6  0  0  0]\n",
      "[ 3  1 11  0  0  0 12 10  8  9  4  2  5  6  7  0]\n",
      "[ 0  0  9  5 12  0  7  6  8  0  2  4 11  1 10  3]\n",
      "[ 6 12  1  5  0  0 10 11  2  4  9  3  0  0  7  8]\n",
      "[ 0  0  0  4  9  0 10 11 12  2  3  1  8  7  5  6]\n",
      "[ 0  9 11  2  0 10  3  0  7  1  6  4 12  8  5  0]\n",
      "[ 0  8  7  2 10  9  3  5  1  6 12  0  0  0 11  4]\n",
      "[ 0  9  2 11 12  0  0  6  5  7  4  1  8  3 10  0]\n",
      "[ 4 10  1 11  0  0  7  2 12  3  8  9  5  6  0  0]\n",
      "[ 0  0  0  8 12 11  4  5  9  7  6 10  1  3  2  0]\n",
      "[ 0  8  2  9  3  7  4 10  5  6  1 12 11  0  0  0]\n",
      "[ 0  0 12  6  2  9  3 11 10  5  4  0  7  8  1  0]\n"
     ]
    }
   ],
   "source": [
    "i = 0\n",
    "historial_efficacies = []\n",
    "while i < ejecuciones:    \n",
    "    matrix, m, p,number_of_operations, columns, rows = rp.part_machine_incidence_matrix(data)\n",
    "    antibodies = rp.generation_initial_population(p = p, m= m, population_size = POPULATION_SIZE)\n",
    "    total_cells = rp.cell_identification(antibodies = antibodies)\n",
    "    total_machines, total_parts = rp.decode_cells(total_cells = total_cells, rows= rows, columns = columns, p = p, log = log)\n",
    "    antibody_matrices = rp.create_machine_part_matrix(matrix = matrix, \n",
    "                                                                antibodies = antibodies, \n",
    "                                                                total_machines = total_machines, \n",
    "                                                                total_parts = total_parts)\n",
    "    efficacies, affinities, voids, exceptions = rp.evaluate_antibodies(antibody_matrices = antibody_matrices, \n",
    "                                                                                    total_cells = total_cells,\n",
    "                                                                                    number_of_operations = number_of_operations)\n",
    "    # print(np.amax(efficacies), \"\\t\", antibodies[np.argmax(efficacies)])\n",
    "    print(antibodies[np.argmax(efficacies)])\n",
    "    historial_efficacies.append(np.amax(efficacies))\n",
    "    i = i +1"
   ]
  },
  {
   "cell_type": "code",
   "execution_count": 166,
   "metadata": {},
   "outputs": [
    {
     "data": {
      "text/plain": [
       "0.4983569667262659"
      ]
     },
     "execution_count": 166,
     "metadata": {},
     "output_type": "execute_result"
    }
   ],
   "source": [
    "np.mean(historial_efficacies)"
   ]
  },
  {
   "cell_type": "code",
   "execution_count": 167,
   "metadata": {},
   "outputs": [
    {
     "data": {
      "text/plain": [
       "0.6799999999999999"
      ]
     },
     "execution_count": 167,
     "metadata": {},
     "output_type": "execute_result"
    }
   ],
   "source": [
    "np.max(historial_efficacies)"
   ]
  },
  {
   "cell_type": "markdown",
   "metadata": {},
   "source": [
    "0.486   0.625\n",
    "\n",
    "0.506   0.6         "
   ]
  },
  {
   "cell_type": "code",
   "execution_count": 168,
   "metadata": {},
   "outputs": [
    {
     "data": {
      "text/html": [
       "<div>\n",
       "<style scoped>\n",
       "    .dataframe tbody tr th:only-of-type {\n",
       "        vertical-align: middle;\n",
       "    }\n",
       "\n",
       "    .dataframe tbody tr th {\n",
       "        vertical-align: top;\n",
       "    }\n",
       "\n",
       "    .dataframe thead th {\n",
       "        text-align: right;\n",
       "    }\n",
       "</style>\n",
       "<table border=\"1\" class=\"dataframe\">\n",
       "  <thead>\n",
       "    <tr style=\"text-align: right;\">\n",
       "      <th></th>\n",
       "      <th>M1</th>\n",
       "      <th>M2</th>\n",
       "      <th>M3</th>\n",
       "      <th>M4</th>\n",
       "      <th>M5</th>\n",
       "    </tr>\n",
       "  </thead>\n",
       "  <tbody>\n",
       "    <tr>\n",
       "      <th>P1</th>\n",
       "      <td>1</td>\n",
       "      <td>0</td>\n",
       "      <td>0</td>\n",
       "      <td>1</td>\n",
       "      <td>0</td>\n",
       "    </tr>\n",
       "    <tr>\n",
       "      <th>P2</th>\n",
       "      <td>0</td>\n",
       "      <td>1</td>\n",
       "      <td>0</td>\n",
       "      <td>1</td>\n",
       "      <td>1</td>\n",
       "    </tr>\n",
       "    <tr>\n",
       "      <th>P3</th>\n",
       "      <td>0</td>\n",
       "      <td>1</td>\n",
       "      <td>1</td>\n",
       "      <td>1</td>\n",
       "      <td>0</td>\n",
       "    </tr>\n",
       "    <tr>\n",
       "      <th>P4</th>\n",
       "      <td>0</td>\n",
       "      <td>1</td>\n",
       "      <td>1</td>\n",
       "      <td>1</td>\n",
       "      <td>1</td>\n",
       "    </tr>\n",
       "    <tr>\n",
       "      <th>P5</th>\n",
       "      <td>1</td>\n",
       "      <td>1</td>\n",
       "      <td>1</td>\n",
       "      <td>0</td>\n",
       "      <td>1</td>\n",
       "    </tr>\n",
       "    <tr>\n",
       "      <th>P6</th>\n",
       "      <td>1</td>\n",
       "      <td>0</td>\n",
       "      <td>1</td>\n",
       "      <td>0</td>\n",
       "      <td>1</td>\n",
       "    </tr>\n",
       "    <tr>\n",
       "      <th>P7</th>\n",
       "      <td>1</td>\n",
       "      <td>0</td>\n",
       "      <td>0</td>\n",
       "      <td>0</td>\n",
       "      <td>0</td>\n",
       "    </tr>\n",
       "  </tbody>\n",
       "</table>\n",
       "</div>"
      ],
      "text/plain": [
       "    M1  M2  M3  M4  M5\n",
       "P1   1   0   0   1   0\n",
       "P2   0   1   0   1   1\n",
       "P3   0   1   1   1   0\n",
       "P4   0   1   1   1   1\n",
       "P5   1   1   1   0   1\n",
       "P6   1   0   1   0   1\n",
       "P7   1   0   0   0   0"
      ]
     },
     "execution_count": 168,
     "metadata": {},
     "output_type": "execute_result"
    }
   ],
   "source": [
    "matrix"
   ]
  }
 ],
 "metadata": {
  "interpreter": {
   "hash": "b3ba2566441a7c06988d0923437866b63cedc61552a5af99d1f4fb67d367b25f"
  },
  "kernelspec": {
   "display_name": "Python 3.8.8 64-bit ('base': conda)",
   "name": "python3"
  },
  "language_info": {
   "codemirror_mode": {
    "name": "ipython",
    "version": 3
   },
   "file_extension": ".py",
   "mimetype": "text/x-python",
   "name": "python",
   "nbconvert_exporter": "python",
   "pygments_lexer": "ipython3",
   "version": "3.8.8"
  },
  "orig_nbformat": 4
 },
 "nbformat": 4,
 "nbformat_minor": 2
}
