{
 "cells": [
  {
   "cell_type": "code",
   "execution_count": 104,
   "metadata": {},
   "outputs": [],
   "source": [
    "import numpy as np\n",
    "import pandas as pd\n",
    "from os import listdir\n",
    "import reproduccion_ulutas as rp\n",
    "import time\n",
    "import random\n",
    "import copy"
   ]
  },
  {
   "cell_type": "code",
   "execution_count": 105,
   "metadata": {},
   "outputs": [],
   "source": [
    "data = \"data/instances/A1_A16/5x7_Waghodekar_Sahu(1984)[Problem-2].txt\"\n",
    "data = \"data/instances/A1_A16/5x7_King_Nakornchai(1982)[Figure-1a].txt\"\n",
    "data = \"data/instances/A27_A35/40x100_Chandrasekharan_Rajagopalan(1987).txt\"\n",
    "log = False"
   ]
  },
  {
   "cell_type": "code",
   "execution_count": 106,
   "metadata": {},
   "outputs": [],
   "source": [
    "matrix, m, p,number_of_operations, columns, rows = rp.part_machine_incidence_matrix(data)\n"
   ]
  },
  {
   "cell_type": "markdown",
   "metadata": {},
   "source": [
    "# NOTAS\n",
    "- Integrar en una función la evaluación de la f.o. de una única solución."
   ]
  },
  {
   "cell_type": "code",
   "execution_count": 107,
   "metadata": {},
   "outputs": [],
   "source": [
    "def my_shuffle(array):\n",
    "    source = []\n",
    "    destination = []\n",
    "    source = copy.deepcopy(array)\n",
    "    size = len(source)\n",
    "    while( size > 1):\n",
    "        size = len(source)\n",
    "        index = random.randint(0, size-1)\n",
    "        destination.append(source[index])\n",
    "        source[index] = -1\n",
    "        source = [source[i] for i in range(size) if i != index]\n",
    "    \n",
    "    return destination"
   ]
  },
  {
   "cell_type": "code",
   "execution_count": 110,
   "metadata": {},
   "outputs": [
    {
     "name": "stdout",
     "output_type": "stream",
     "text": [
      "[1, 2, 3, 4, 5, 6, 7, 8, 9, 10, 11, 12, 13, 14, 15, 16, 17, 18, 19, 20, 21, 22, 23, 24, 25, 26, 27, 28, 29, 30, 31, 32, 33, 34, 35, 36, 37, 38, 39, 40, 41, 42, 43, 44, 45, 46, 47, 48, 49, 50, 51, 52, 53, 54, 55, 56, 57, 58, 59, 60, 61, 62, 63, 64, 65, 66, 67, 68, 69, 70, 71, 72, 73, 74, 75, 76, 77, 78, 79, 80, 81, 82, 83, 84, 85, 86, 87, 88, 89, 90, 91, 92, 93, 94, 95, 96, 97, 98, 99, 100, 1, 2, 3, 4, 5, 6, 7, 8, 9, 10, 11, 12, 13, 14, 15, 16, 17, 18, 19, 20, 21, 22, 23, 24, 25, 26, 27, 28, 29, 30, 31, 32, 33, 34, 35, 36, 37, 38, 39, 40, 1, 2, 3, 4, 5, 6, 7, 8, 9, 10, 11, 12, 13, 14, 15, 16, 17, 18, 19, 20, 21, 22, 23, 24, 25, 26, 27, 28, 29, 30, 31, 32, 33, 34, 35, 36, 37, 38, 39]\n"
     ]
    }
   ],
   "source": [
    "population = []\n",
    "#solucion = [1,2,8,9,0,3,4,5,6,7,10,11,12,0,0,0]\n",
    "solucion = []\n",
    "for i in range(p):\n",
    "    solucion.append(i+1)\n",
    "for i in range(m):\n",
    "    solucion.append(p+i+1)\n",
    "for i in range(min(m,p)-1):\n",
    "    solucion.append(0)\n",
    "\n",
    "print(solucion)\n",
    "\n",
    "# for i in range(10000):\n",
    "#     #population.append(solucion)\n",
    "#     population.append(my_shuffle(solucion))\n",
    "#     #np.random.shuffle(population[i])  \n",
    "#population"
   ]
  },
  {
   "cell_type": "code",
   "execution_count": 109,
   "metadata": {},
   "outputs": [
    {
     "data": {
      "text/plain": [
       "0.5"
      ]
     },
     "execution_count": 109,
     "metadata": {},
     "output_type": "execute_result"
    }
   ],
   "source": [
    "\n",
    "\n",
    "#GENERATION OF INITIAL POPULATION\n",
    "#antibodies = rp.generation_initial_population(p = p, m= m, population_size = 1)\n",
    "# #identifies cells in the antibodies\n",
    "total_cells = rp.cell_identification(antibodies = population)\n",
    "#             # if log == True: print(\"\\n Cells\\n\", total_cells)\n",
    "#             # #translates numbers into parts and machines\n",
    "#print(total_cells)\n",
    "total_machines, total_parts = rp.decode_cells(total_cells = total_cells, rows= rows, columns = columns, p = p, log = log) \n",
    "\n",
    "#             # #calculates part-machine matrix for each antibody\n",
    "antibody_matrices = rp.create_machine_part_matrix(matrix = matrix, antibodies = population, total_machines = total_machines, total_parts = total_parts)\n",
    "#             # #evaluates efficacie of each antibody\n",
    "efficacies, affinities, voids, exceptions = rp.evaluate_antibodies(antibody_matrices = antibody_matrices, total_cells = total_cells,number_of_operations = number_of_operations)\n",
    "#             # if log == True: print(\"\\n Efficacies\",efficacies)\n",
    "#             # if log == True: print(\"\\n Affinities\",affinities)\n",
    "\n",
    "# total_cells\n",
    "#antibody_matrices[0]\n",
    "max(efficacies)"
   ]
  }
 ],
 "metadata": {
  "interpreter": {
   "hash": "c9a4bdb2bae8a8551a702e37f0aa6c72aee53bad5121795bf5e36aa2f5ee22db"
  },
  "kernelspec": {
   "display_name": "Python 3.8.8 64-bit ('base': conda)",
   "name": "python3"
  },
  "language_info": {
   "codemirror_mode": {
    "name": "ipython",
    "version": 3
   },
   "file_extension": ".py",
   "mimetype": "text/x-python",
   "name": "python",
   "nbconvert_exporter": "python",
   "pygments_lexer": "ipython3",
   "version": "3.8.8"
  },
  "orig_nbformat": 4
 },
 "nbformat": 4,
 "nbformat_minor": 2
}
