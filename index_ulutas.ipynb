{
 "cells": [
  {
   "cell_type": "markdown",
   "source": [
    "# Index"
   ],
   "metadata": {}
  },
  {
   "cell_type": "code",
   "execution_count": 16,
   "source": [
    "import reproduccion_ulutas as rp"
   ],
   "outputs": [],
   "metadata": {}
  },
  {
   "cell_type": "markdown",
   "source": [
    "Read problem data and show it as a part-machine-incidence matrix"
   ],
   "metadata": {}
  },
  {
   "cell_type": "code",
   "execution_count": 17,
   "source": [
    "dataset = 'data/instances/testset_a/5x7_Waghodekar_Sahu(1984)[Problem-2].txt'\r\n",
    "matrix, m, p, columns, rows = rp.part_machine_incidence_matrix(dataset)\r\n",
    "matrix"
   ],
   "outputs": [
    {
     "output_type": "execute_result",
     "data": {
      "text/html": [
       "<div>\n",
       "<style scoped>\n",
       "    .dataframe tbody tr th:only-of-type {\n",
       "        vertical-align: middle;\n",
       "    }\n",
       "\n",
       "    .dataframe tbody tr th {\n",
       "        vertical-align: top;\n",
       "    }\n",
       "\n",
       "    .dataframe thead th {\n",
       "        text-align: right;\n",
       "    }\n",
       "</style>\n",
       "<table border=\"1\" class=\"dataframe\">\n",
       "  <thead>\n",
       "    <tr style=\"text-align: right;\">\n",
       "      <th></th>\n",
       "      <th>M1</th>\n",
       "      <th>M2</th>\n",
       "      <th>M3</th>\n",
       "      <th>M4</th>\n",
       "      <th>M5</th>\n",
       "    </tr>\n",
       "  </thead>\n",
       "  <tbody>\n",
       "    <tr>\n",
       "      <th>P1</th>\n",
       "      <td>1</td>\n",
       "      <td>0</td>\n",
       "      <td>0</td>\n",
       "      <td>1</td>\n",
       "      <td>0</td>\n",
       "    </tr>\n",
       "    <tr>\n",
       "      <th>P2</th>\n",
       "      <td>0</td>\n",
       "      <td>1</td>\n",
       "      <td>0</td>\n",
       "      <td>1</td>\n",
       "      <td>1</td>\n",
       "    </tr>\n",
       "    <tr>\n",
       "      <th>P3</th>\n",
       "      <td>0</td>\n",
       "      <td>1</td>\n",
       "      <td>1</td>\n",
       "      <td>1</td>\n",
       "      <td>0</td>\n",
       "    </tr>\n",
       "    <tr>\n",
       "      <th>P4</th>\n",
       "      <td>0</td>\n",
       "      <td>1</td>\n",
       "      <td>1</td>\n",
       "      <td>1</td>\n",
       "      <td>1</td>\n",
       "    </tr>\n",
       "    <tr>\n",
       "      <th>P5</th>\n",
       "      <td>1</td>\n",
       "      <td>1</td>\n",
       "      <td>1</td>\n",
       "      <td>0</td>\n",
       "      <td>1</td>\n",
       "    </tr>\n",
       "    <tr>\n",
       "      <th>P6</th>\n",
       "      <td>1</td>\n",
       "      <td>0</td>\n",
       "      <td>1</td>\n",
       "      <td>0</td>\n",
       "      <td>1</td>\n",
       "    </tr>\n",
       "    <tr>\n",
       "      <th>P7</th>\n",
       "      <td>1</td>\n",
       "      <td>0</td>\n",
       "      <td>0</td>\n",
       "      <td>0</td>\n",
       "      <td>0</td>\n",
       "    </tr>\n",
       "  </tbody>\n",
       "</table>\n",
       "</div>"
      ],
      "text/plain": [
       "    M1  M2  M3  M4  M5\n",
       "P1   1   0   0   1   0\n",
       "P2   0   1   0   1   1\n",
       "P3   0   1   1   1   0\n",
       "P4   0   1   1   1   1\n",
       "P5   1   1   1   0   1\n",
       "P6   1   0   1   0   1\n",
       "P7   1   0   0   0   0"
      ]
     },
     "metadata": {},
     "execution_count": 17
    }
   ],
   "metadata": {}
  },
  {
   "cell_type": "markdown",
   "source": [
    "## Generation of initial population and cells identification"
   ],
   "metadata": {}
  },
  {
   "cell_type": "code",
   "execution_count": 18,
   "source": [
    "POPULATION_SIZE = 10  # indicate the initial size of antibodies population\r\n",
    "\r\n",
    "antibodies = rp.generation_initial_population(p = p, m= m, population_size = POPULATION_SIZE, seed = 2021)\r\n",
    "\r\n",
    "total_cells = rp.cell_identification(antibodies = antibodies)\r\n",
    "\r\n",
    "total_cells\r\n"
   ],
   "outputs": [
    {
     "output_type": "stream",
     "name": "stdout",
     "text": [
      "antibodie [ 4  0  0  3 11  2  8  0 12  9  0  7  1 10  6  5]\n",
      "antibodie [ 3  1  5  0  0  0  0 10  7 12  6  8  4  9  2 11]\n",
      "antibodie [ 0  4 11  5  6  1 10  9  8  7  2  0  3 12  0  0]\n",
      "antibodie [ 5  3  0 11  2  4  9 12  0  8  0 10  0  7  1  6]\n",
      "antibodie [11  0  6  0  0  3 12  7 10  0  1  9  5  8  4  2]\n",
      "antibodie [ 0  5  2  6  1  0  7  8  9 10  4 12 11  0  3  0]\n",
      "antibodie [ 6 11  0  2  4  5  8  0 12  9  3  7  0 10  0  1]\n",
      "antibodie [ 2  0  1  0  3 11  0 10  7 12  0  8  6  9  5  4]\n",
      "antibodie [ 0  6  4  1  0  0 10  9  8  7  5  0  2 12 11  3]\n",
      "antibodie [ 1  2  3  4  5  6  9 12  0  8 11 10  0  7  0  0]\n"
     ]
    },
    {
     "output_type": "execute_result",
     "data": {
      "text/plain": [
       "[[[4], [3, 11, 2, 8], [12, 9], [7, 1, 10, 6, 5]],\n",
       " [[3, 1, 5], [10, 7, 12, 6, 8, 4, 9, 2, 11]],\n",
       " [[], [4, 11, 5, 6, 1, 10, 9, 8, 7, 2], [3, 12]],\n",
       " [[5, 3], [11, 2, 4, 9, 12], [8], [10], [7, 1, 6]],\n",
       " [[11], [6], [3, 12, 7, 10], [1, 9, 5, 8, 4, 2]],\n",
       " [[], [5, 2, 6, 1], [7, 8, 9, 10, 4, 12, 11], [3]],\n",
       " [[6, 11], [2, 4, 5, 8], [12, 9, 3, 7], [10], [1]],\n",
       " [[2], [1], [3, 11], [10, 7, 12], [8, 6, 9, 5, 4]],\n",
       " [[], [6, 4, 1], [10, 9, 8, 7, 5], [2, 12, 11, 3]],\n",
       " [[1, 2, 3, 4, 5, 6, 9, 12], [8, 11, 10], [7]]]"
      ]
     },
     "metadata": {},
     "execution_count": 18
    }
   ],
   "metadata": {}
  },
  {
   "cell_type": "markdown",
   "source": [
    "# ERROR: parece que hay un fallo en la traducción de celdas de los anticuerpos que empiezan por cero "
   ],
   "metadata": {}
  },
  {
   "cell_type": "markdown",
   "source": [
    "## Translation from antibodies into part-machine matrices and evaluation of antibodies"
   ],
   "metadata": {}
  },
  {
   "cell_type": "code",
   "execution_count": 19,
   "source": [
    "total_machines, total_parts = rp.decode_cells(total_cells = total_cells) #translates numbers into parts and machines\r\n",
    "\r\n",
    "antibody_matrices = rp.create_machine_part_matrix(matrix=matrix,\r\n",
    "                                                antibodies=antibodies, \r\n",
    "                                                total_machines=total_machines, \r\n",
    "                                                total_parts=total_parts)\r\n",
    "\r\n",
    "efficacies, voids, exceptions = rp.evaluate_antibodies(antibody_matrices = antibody_matrices, total_cells = total_cells)"
   ],
   "outputs": [
    {
     "output_type": "stream",
     "name": "stdout",
     "text": [
      "antibodie [[4], [3, 11, 2, 8], [12, 9], [7, 1, 10, 6, 5]]\n",
      "decoded [['P4'], ['P3', 'M4', 'P2', 'M1'], ['M5', 'M2'], ['P7', 'P1', 'M3', 'P6', 'P5']]\n",
      "antibodie [[3, 1, 5], [10, 7, 12, 6, 8, 4, 9, 2, 11]]\n",
      "decoded [['P3', 'P1', 'P5'], ['M3', 'P7', 'M5', 'P6', 'M1', 'P4', 'M2', 'P2', 'M4']]\n",
      "antibodie [[], [4, 11, 5, 6, 1, 10, 9, 8, 7, 2], [3, 12]]\n",
      "decoded [[], ['P4', 'M4', 'P5', 'P6', 'P1', 'M3', 'M2', 'M1', 'P7', 'P2'], ['P3', 'M5']]\n",
      "antibodie [[5, 3], [11, 2, 4, 9, 12], [8], [10], [7, 1, 6]]\n",
      "decoded [['P5', 'P3'], ['M4', 'P2', 'P4', 'M2', 'M5'], ['M1'], ['M3'], ['P7', 'P1', 'P6']]\n",
      "antibodie [[11], [6], [3, 12, 7, 10], [1, 9, 5, 8, 4, 2]]\n",
      "decoded [['M4'], ['P6'], ['P3', 'M5', 'P7', 'M3'], ['P1', 'M2', 'P5', 'M1', 'P4', 'P2']]\n",
      "antibodie [[], [5, 2, 6, 1], [7, 8, 9, 10, 4, 12, 11], [3]]\n",
      "decoded [[], ['P5', 'P2', 'P6', 'P1'], ['P7', 'M1', 'M2', 'M3', 'P4', 'M5', 'M4'], ['P3']]\n",
      "antibodie [[6, 11], [2, 4, 5, 8], [12, 9, 3, 7], [10], [1]]\n",
      "decoded [['P6', 'M4'], ['P2', 'P4', 'P5', 'M1'], ['M5', 'M2', 'P3', 'P7'], ['M3'], ['P1']]\n",
      "antibodie [[2], [1], [3, 11], [10, 7, 12], [8, 6, 9, 5, 4]]\n",
      "decoded [['P2'], ['P1'], ['P3', 'M4'], ['M3', 'P7', 'M5'], ['M1', 'P6', 'M2', 'P5', 'P4']]\n",
      "antibodie [[], [6, 4, 1], [10, 9, 8, 7, 5], [2, 12, 11, 3]]\n",
      "decoded [[], ['P6', 'P4', 'P1'], ['M3', 'M2', 'M1', 'P7', 'P5'], ['P2', 'M5', 'M4', 'P3']]\n",
      "antibodie [[1, 2, 3, 4, 5, 6, 9, 12], [8, 11, 10], [7]]\n",
      "decoded [['P1', 'P2', 'P3', 'P4', 'P5', 'P6', 'M2', 'M5'], ['M1', 'M4', 'M3'], ['P7']]\n"
     ]
    }
   ],
   "metadata": {}
  },
  {
   "cell_type": "markdown",
   "source": [
    "## Select N% of antibodies with highest affinities & Clone selected antibodies"
   ],
   "metadata": {}
  },
  {
   "cell_type": "markdown",
   "source": [
    "## AQUI FALTA INCLUIR LA SELECTION ROULETTE WHEEL. DE MOMENTO, LA SELECCIÓN ES ALEATORIA"
   ],
   "metadata": {}
  },
  {
   "cell_type": "code",
   "execution_count": 20,
   "source": [
    "cloned_antibodies, positions_antibodies_selected = rp.antibodies_selection(antibodies=antibodies, N=0.66)\r\n",
    "\r\n",
    "rp.mutate_cloned_antibodies(cloned_antibodies = cloned_antibodies)"
   ],
   "outputs": [
    {
     "output_type": "stream",
     "name": "stdout",
     "text": [
      "[11  0  6  0  0  3 12  7 10  0  1  9  5  8  4  2]\n",
      "[15  0]\n",
      "[ 1  2  3  4  5  6  9 12  0  8 11 10  0  7  0  0]\n",
      "[0 6]\n",
      "[ 6 11  0  2  4  5  8  0 12  9  3  7  0 10  0  1]\n",
      "[15  0]\n",
      "[ 0  6  4  1  0  0 10  9  8  7  5  0  2 12 11  3]\n",
      "[ 8 14]\n",
      "[ 2  0  1  0  3 11  0 10  7 12  0  8  6  9  5  4]\n",
      "[15  4]\n",
      "[ 3  1  5  0  0  0  0 10  7 12  6  8  4  9  2 11]\n",
      "[8 2]\n",
      "[ 5  3  0 11  2  4  9 12  0  8  0 10  0  7  1  6]\n",
      "[13  4]\n"
     ]
    },
    {
     "output_type": "execute_result",
     "data": {
      "text/plain": [
       "array([[ 2,  0,  6,  0,  0,  3, 12,  7, 10,  0,  1,  9,  5,  8,  4, 11],\n",
       "       [ 9,  2,  3,  4,  5,  6,  1, 12,  0,  8, 11, 10,  0,  7,  0,  0],\n",
       "       [ 1, 11,  0,  2,  4,  5,  8,  0, 12,  9,  3,  7,  0, 10,  0,  6],\n",
       "       [ 0,  6,  4,  1,  0,  0, 10,  9, 11,  7,  5,  0,  2, 12,  8,  3],\n",
       "       [ 2,  0,  1,  0,  4, 11,  0, 10,  7, 12,  0,  8,  6,  9,  5,  3],\n",
       "       [ 3,  1,  7,  0,  0,  0,  0, 10,  5, 12,  6,  8,  4,  9,  2, 11],\n",
       "       [ 5,  3,  0, 11,  7,  4,  9, 12,  0,  8,  0, 10,  0,  2,  1,  6]])"
      ]
     },
     "metadata": {},
     "execution_count": 20
    }
   ],
   "metadata": {}
  },
  {
   "cell_type": "markdown",
   "source": [
    "## Identify cells and evaluate new mutated antibodies"
   ],
   "metadata": {}
  },
  {
   "cell_type": "code",
   "execution_count": 21,
   "source": [
    "cloned_total_cells = rp.cell_identification(cloned_antibodies)\r\n",
    "\r\n",
    "cloned_total_machines, cloned_total_parts = rp.decode_cells(cloned_total_cells)\r\n",
    "\r\n",
    "cloned_antibody_matrices = rp.create_machine_part_matrix(matrix = matrix,\r\n",
    "                                                        antibodies=cloned_antibodies, \r\n",
    "                                                        total_machines = cloned_total_machines, \r\n",
    "                                                        total_parts= cloned_total_parts)\r\n",
    "\r\n",
    "cloned_efficacies, cloned_voids, cloned_exceptions = rp.evaluate_antibodies(cloned_antibody_matrices, cloned_total_cells)"
   ],
   "outputs": [
    {
     "output_type": "stream",
     "name": "stdout",
     "text": [
      "antibodie [ 2  0  6  0  0  3 12  7 10  0  1  9  5  8  4 11]\n",
      "antibodie [ 9  2  3  4  5  6  1 12  0  8 11 10  0  7  0  0]\n",
      "antibodie [ 1 11  0  2  4  5  8  0 12  9  3  7  0 10  0  6]\n",
      "antibodie [ 0  6  4  1  0  0 10  9 11  7  5  0  2 12  8  3]\n",
      "antibodie [ 2  0  1  0  4 11  0 10  7 12  0  8  6  9  5  3]\n",
      "antibodie [ 3  1  7  0  0  0  0 10  5 12  6  8  4  9  2 11]\n",
      "antibodie [ 5  3  0 11  7  4  9 12  0  8  0 10  0  2  1  6]\n",
      "antibodie [[2], [6], [3, 12, 7, 10], [1, 9, 5, 8, 4, 11]]\n",
      "decoded [['P2'], ['P6'], ['P3', 'M5', 'P7', 'M3'], ['P1', 'M2', 'P5', 'M1', 'P4', 'M4']]\n",
      "antibodie [[9, 2, 3, 4, 5, 6, 1, 12], [8, 11, 10], [7]]\n",
      "decoded [['M2', 'P2', 'P3', 'P4', 'P5', 'P6', 'P1', 'M5'], ['M1', 'M4', 'M3'], ['P7']]\n",
      "antibodie [[1, 11], [2, 4, 5, 8], [12, 9, 3, 7], [10], [6]]\n",
      "decoded [['P1', 'M4'], ['P2', 'P4', 'P5', 'M1'], ['M5', 'M2', 'P3', 'P7'], ['M3'], ['P6']]\n",
      "antibodie [[], [6, 4, 1], [10, 9, 11, 7, 5], [2, 12, 8, 3]]\n",
      "decoded [[], ['P6', 'P4', 'P1'], ['M3', 'M2', 'M4', 'P7', 'P5'], ['P2', 'M5', 'M1', 'P3']]\n",
      "antibodie [[2], [1], [4, 11], [10, 7, 12], [8, 6, 9, 5, 3]]\n",
      "decoded [['P2'], ['P1'], ['P4', 'M4'], ['M3', 'P7', 'M5'], ['M1', 'P6', 'M2', 'P5', 'P3']]\n",
      "antibodie [[3, 1, 7], [10, 5, 12, 6, 8, 4, 9, 2, 11]]\n",
      "decoded [['P3', 'P1', 'P7'], ['M3', 'P5', 'M5', 'P6', 'M1', 'P4', 'M2', 'P2', 'M4']]\n",
      "antibodie [[5, 3], [11, 7, 4, 9, 12], [8], [10], [2, 1, 6]]\n",
      "decoded [['P5', 'P3'], ['M4', 'P7', 'P4', 'M2', 'M5'], ['M1'], ['M3'], ['P2', 'P1', 'P6']]\n"
     ]
    }
   ],
   "metadata": {}
  },
  {
   "cell_type": "code",
   "execution_count": 22,
   "source": [
    "antibodies_pool, updated_efficacies = rp.select_best_cloned_antibodies(antibodies = antibodies,\r\n",
    "                                                                    cloned_antibodies = cloned_antibodies,\r\n",
    "                                                                    efficacies = efficacies, cloned_efficacies = cloned_efficacies, R = 0.5)"
   ],
   "outputs": [
    {
     "output_type": "stream",
     "name": "stdout",
     "text": [
      "4 antibodies were added to the antibodies pool\n"
     ]
    }
   ],
   "metadata": {}
  },
  {
   "cell_type": "code",
   "execution_count": 23,
   "source": [
    "antibodies_pool = rp.receptor_editing(antibodies_pool = antibodies_pool, \r\n",
    "                                    updated_efficacies = updated_efficacies, \r\n",
    "                                    B = 0.5)\r\n"
   ],
   "outputs": [
    {
     "output_type": "stream",
     "name": "stdout",
     "text": [
      "Se han borrado 7 anticuerpos\n",
      "[6, 0, 5, 4, 7, 13, 12]\n"
     ]
    }
   ],
   "metadata": {}
  }
 ],
 "metadata": {
  "orig_nbformat": 4,
  "language_info": {
   "name": "python",
   "version": "3.8.8",
   "mimetype": "text/x-python",
   "codemirror_mode": {
    "name": "ipython",
    "version": 3
   },
   "pygments_lexer": "ipython3",
   "nbconvert_exporter": "python",
   "file_extension": ".py"
  },
  "kernelspec": {
   "name": "python3",
   "display_name": "Python 3.8.8 64-bit ('base': conda)"
  },
  "interpreter": {
   "hash": "b3ba2566441a7c06988d0923437866b63cedc61552a5af99d1f4fb67d367b25f"
  }
 },
 "nbformat": 4,
 "nbformat_minor": 2
}