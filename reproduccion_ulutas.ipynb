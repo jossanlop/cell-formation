{
 "cells": [
  {
   "cell_type": "code",
   "execution_count": 42,
   "source": [
    "import numpy as np\r\n",
    "import pandas as pd"
   ],
   "outputs": [],
   "metadata": {}
  },
  {
   "cell_type": "markdown",
   "source": [
    "# Generation of initial population of random antibodies"
   ],
   "metadata": {}
  },
  {
   "cell_type": "code",
   "execution_count": 153,
   "source": [
    "# m: number of machines\r\n",
    "# p: number of parts\r\n",
    "# population_size : number of antibody of the initial population\r\n",
    "# seed: seed for reproducible results\r\n",
    "def generation_initial_population(p, m, population_size, seed):\r\n",
    "    MaxCell = min(p,m) #calculation of max number of cells\r\n",
    "    number_of_zeros = MaxCell - 1 #number of zeros in each antibody\r\n",
    "    antibodies = np.empty(shape=(population_size, p+m+number_of_zeros), dtype=int)\r\n",
    "    antibody = np.append(np.array([*range(1,p+m+1)]), np.zeros(number_of_zeros,dtype=int))\r\n",
    "    for i in range(0,population_size):\r\n",
    "        np.random.seed(seed) \r\n",
    "        np.random.shuffle(antibody) #random positions in the array\r\n",
    "        antibodies[i] = antibody\r\n",
    "    return antibodies"
   ],
   "outputs": [],
   "metadata": {}
  },
  {
   "cell_type": "code",
   "execution_count": 154,
   "source": [
    "antibodies = generation_initial_population(p = 7, m = 5, population_size = 3, seed = 1995)\r\n",
    "antibodies"
   ],
   "outputs": [
    {
     "output_type": "execute_result",
     "data": {
      "text/plain": [
       "array([[ 1,  8, 11,  0,  0, 12,  0,  9, 10,  0,  6,  2,  4,  7,  3,  5],\n",
       "       [ 1,  9,  6,  3,  4,  2,  7, 10,  0,  5, 12,  8,  0,  0, 11,  0],\n",
       "       [ 1, 10, 12, 11,  0,  8,  0,  0,  5,  0,  2,  9,  3,  7,  6,  4]])"
      ]
     },
     "metadata": {},
     "execution_count": 154
    }
   ],
   "metadata": {}
  },
  {
   "cell_type": "markdown",
   "source": [
    "# Evaluate all existing antibodies and compute their affinities"
   ],
   "metadata": {}
  },
  {
   "cell_type": "markdown",
   "source": [
    "Lectura de los datos del problema + Traducción del formato del dataset a matriz trabajo-estación"
   ],
   "metadata": {}
  },
  {
   "cell_type": "code",
   "execution_count": 165,
   "source": [
    "def part_machine_incidence_matrix(data):    \r\n",
    "    f = open(data,'r')\r\n",
    "    lines = [line.split('\\n') for line in f]\r\n",
    "    f.close()\r\n",
    "\r\n",
    "    m,p = [int(num) for num in lines[8][0].split(' ')] #m: number of machines, p: number of parts\r\n",
    "\r\n",
    "    machines=[[m,p]]\r\n",
    "    for i in range(9,9+m):\r\n",
    "        #machines.append([int(num) for num in lines[i][0].split(' ')])\r\n",
    "        machines.append([int(lines[i][0].split(' ')[j]) for j in range(1,m)])\r\n",
    "\r\n",
    "    columns, rows = ['M'+str(i) for i in range(1,m+1)], ['P'+str(i) for i in range(1,p+1)]\r\n",
    "    m_p_matrix = pd.DataFrame(columns= columns, index= rows)\r\n",
    "\r\n",
    "    ones_zeros = []\r\n",
    "    for i in range(1,len(machines)):\r\n",
    "        aux = []\r\n",
    "        for j in range(1,p+1):\r\n",
    "            if j in machines[i]: aux.append(1)\r\n",
    "            else: aux.append(0)\r\n",
    "        ones_zeros.append(aux)\r\n",
    "\r\n",
    "    for i in range(0,len(columns)):\r\n",
    "        m_p_matrix[columns[i]] = ones_zeros[i]\r\n",
    "\r\n",
    "    return m_p_matrix, m, p"
   ],
   "outputs": [],
   "metadata": {}
  },
  {
   "cell_type": "code",
   "execution_count": 166,
   "source": [
    "matrix, m, p = part_machine_incidence_matrix('data/instances/testset_a/5x7_Waghodekar_Sahu(1984)[Problem-2].txt')\r\n",
    "matrix"
   ],
   "outputs": [
    {
     "output_type": "execute_result",
     "data": {
      "text/html": [
       "<div>\n",
       "<style scoped>\n",
       "    .dataframe tbody tr th:only-of-type {\n",
       "        vertical-align: middle;\n",
       "    }\n",
       "\n",
       "    .dataframe tbody tr th {\n",
       "        vertical-align: top;\n",
       "    }\n",
       "\n",
       "    .dataframe thead th {\n",
       "        text-align: right;\n",
       "    }\n",
       "</style>\n",
       "<table border=\"1\" class=\"dataframe\">\n",
       "  <thead>\n",
       "    <tr style=\"text-align: right;\">\n",
       "      <th></th>\n",
       "      <th>M1</th>\n",
       "      <th>M2</th>\n",
       "      <th>M3</th>\n",
       "      <th>M4</th>\n",
       "      <th>M5</th>\n",
       "    </tr>\n",
       "  </thead>\n",
       "  <tbody>\n",
       "    <tr>\n",
       "      <th>P1</th>\n",
       "      <td>1</td>\n",
       "      <td>0</td>\n",
       "      <td>0</td>\n",
       "      <td>1</td>\n",
       "      <td>0</td>\n",
       "    </tr>\n",
       "    <tr>\n",
       "      <th>P2</th>\n",
       "      <td>0</td>\n",
       "      <td>1</td>\n",
       "      <td>0</td>\n",
       "      <td>1</td>\n",
       "      <td>1</td>\n",
       "    </tr>\n",
       "    <tr>\n",
       "      <th>P3</th>\n",
       "      <td>0</td>\n",
       "      <td>1</td>\n",
       "      <td>1</td>\n",
       "      <td>1</td>\n",
       "      <td>0</td>\n",
       "    </tr>\n",
       "    <tr>\n",
       "      <th>P4</th>\n",
       "      <td>0</td>\n",
       "      <td>1</td>\n",
       "      <td>1</td>\n",
       "      <td>1</td>\n",
       "      <td>1</td>\n",
       "    </tr>\n",
       "    <tr>\n",
       "      <th>P5</th>\n",
       "      <td>1</td>\n",
       "      <td>1</td>\n",
       "      <td>1</td>\n",
       "      <td>0</td>\n",
       "      <td>1</td>\n",
       "    </tr>\n",
       "    <tr>\n",
       "      <th>P6</th>\n",
       "      <td>1</td>\n",
       "      <td>0</td>\n",
       "      <td>1</td>\n",
       "      <td>0</td>\n",
       "      <td>1</td>\n",
       "    </tr>\n",
       "    <tr>\n",
       "      <th>P7</th>\n",
       "      <td>1</td>\n",
       "      <td>0</td>\n",
       "      <td>0</td>\n",
       "      <td>0</td>\n",
       "      <td>0</td>\n",
       "    </tr>\n",
       "  </tbody>\n",
       "</table>\n",
       "</div>"
      ],
      "text/plain": [
       "    M1  M2  M3  M4  M5\n",
       "P1   1   0   0   1   0\n",
       "P2   0   1   0   1   1\n",
       "P3   0   1   1   1   0\n",
       "P4   0   1   1   1   1\n",
       "P5   1   1   1   0   1\n",
       "P6   1   0   1   0   1\n",
       "P7   1   0   0   0   0"
      ]
     },
     "metadata": {},
     "execution_count": 166
    }
   ],
   "metadata": {}
  },
  {
   "cell_type": "markdown",
   "source": [
    "## Decodificación de anticuerpos\r\n",
    "1er Paso: Separación de celdas."
   ],
   "metadata": {}
  },
  {
   "cell_type": "code",
   "execution_count": 157,
   "source": [
    "def cell_identification(antibodies):\r\n",
    "    total_cells = []\r\n",
    "    for antibodie in antibodies:\r\n",
    "        print(\"antibodie\", antibodie)\r\n",
    "        flag = 0 #bandera que indica si el num anterior es un cero\r\n",
    "        cells, cell = [],[]\r\n",
    "        i = 0\r\n",
    "        for num in antibodie:\r\n",
    "            if num == 0 or num == antibodie[len(antibodie)-1]: \r\n",
    "                if flag == 0: \r\n",
    "                    i=i+1\r\n",
    "                    cells.append(cell)\r\n",
    "                    # print(cell)\r\n",
    "                    cell = []\r\n",
    "                flag = 1\r\n",
    "            else: \r\n",
    "                cell.append(num)\r\n",
    "                # print(num)\r\n",
    "                flag = 0\r\n",
    "        total_cells.append(cells)\r\n",
    "        # print(\"cells\", cells)\r\n",
    "    # print(\"list of all cells for all antibodies\",total_cells)\r\n",
    "    # print(\"cells for antibody 1\",total_cells[0])\r\n",
    "    return total_cells\r\n"
   ],
   "outputs": [],
   "metadata": {}
  },
  {
   "cell_type": "code",
   "execution_count": 158,
   "source": [
    "cell_identification(antibodies = antibodies)"
   ],
   "outputs": [
    {
     "output_type": "stream",
     "name": "stdout",
     "text": [
      "antibodie [ 1  8 11  0  0 12  0  9 10  0  6  2  4  7  3  5]\n",
      "antibodie [ 1  9  6  3  4  2  7 10  0  5 12  8  0  0 11  0]\n",
      "antibodie [ 1 10 12 11  0  8  0  0  5  0  2  9  3  7  6  4]\n"
     ]
    },
    {
     "output_type": "execute_result",
     "data": {
      "text/plain": [
       "[[[1, 8, 11], [12], [9, 10], [6, 2, 4, 7, 3]],\n",
       " [[1, 9, 6, 3, 4, 2, 7, 10], [5, 12, 8], [11]],\n",
       " [[1, 10, 12, 11], [8], [5], [2, 9, 3, 7, 6]]]"
      ]
     },
     "metadata": {},
     "execution_count": 158
    }
   ],
   "metadata": {}
  },
  {
   "cell_type": "markdown",
   "source": [
    "reorganizar filas y columnas de la matriz maquinas-trabajos en función de lo descrito por el anticuerpo"
   ],
   "metadata": {}
  },
  {
   "cell_type": "code",
   "execution_count": null,
   "source": [],
   "outputs": [],
   "metadata": {}
  },
  {
   "cell_type": "markdown",
   "source": [
    "# Select N% of antibodies with highest affinities"
   ],
   "metadata": {}
  },
  {
   "cell_type": "markdown",
   "source": [
    "# Clone the selected antibodies"
   ],
   "metadata": {}
  },
  {
   "cell_type": "code",
   "execution_count": null,
   "source": [],
   "outputs": [],
   "metadata": {}
  }
 ],
 "metadata": {
  "orig_nbformat": 4,
  "language_info": {
   "name": "python",
   "version": "3.7.3",
   "mimetype": "text/x-python",
   "codemirror_mode": {
    "name": "ipython",
    "version": 3
   },
   "pygments_lexer": "ipython3",
   "nbconvert_exporter": "python",
   "file_extension": ".py"
  },
  "kernelspec": {
   "name": "python3",
   "display_name": "Python 3.7.3 64-bit ('base': conda)"
  },
  "interpreter": {
   "hash": "260c81b1808bb268933ac0cd2d87e46c10df0a6720413cb9cd024e4be74a9d76"
  }
 },
 "nbformat": 4,
 "nbformat_minor": 2
}