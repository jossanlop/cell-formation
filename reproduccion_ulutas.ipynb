{
 "cells": [
  {
   "cell_type": "code",
   "execution_count": 314,
   "source": [
    "import numpy as np\r\n",
    "import pandas as pd\r\n",
    "import heapq\r\n",
    "import random"
   ],
   "outputs": [],
   "metadata": {}
  },
  {
   "cell_type": "markdown",
   "source": [
    "# Generation of initial population of random antibodies"
   ],
   "metadata": {}
  },
  {
   "cell_type": "code",
   "execution_count": 315,
   "source": [
    "# m: number of machines\r\n",
    "# p: number of parts\r\n",
    "# population_size : number of antibody of the initial population\r\n",
    "# seed: seed for reproducible results\r\n",
    "def generation_initial_population(p, m, population_size, seed):\r\n",
    "    MaxCell = min(p,m) #calculation of max number of cells\r\n",
    "    number_of_zeros = MaxCell - 1 #number of zeros in each antibody\r\n",
    "    antibodies = np.empty(shape=(population_size, p+m+number_of_zeros), dtype=int)\r\n",
    "    antibody = np.append(np.array([*range(1,p+m+1)]), np.zeros(number_of_zeros,dtype=int))\r\n",
    "    for i in range(0,population_size):\r\n",
    "        np.random.seed(seed) \r\n",
    "        np.random.shuffle(antibody) #random positions in the array\r\n",
    "        antibodies[i] = antibody\r\n",
    "    return antibodies"
   ],
   "outputs": [],
   "metadata": {}
  },
  {
   "cell_type": "code",
   "execution_count": 316,
   "source": [
    "antibodies = generation_initial_population(p = 7, m = 5, population_size = 100, seed = 1995)\r\n",
    "antibodies"
   ],
   "outputs": [
    {
     "output_type": "execute_result",
     "data": {
      "text/plain": [
       "array([[ 1,  8, 11, ...,  7,  3,  5],\n",
       "       [ 1,  9,  6, ...,  0, 11,  0],\n",
       "       [ 1, 10, 12, ...,  7,  6,  4],\n",
       "       ...,\n",
       "       [ 1,  4, 10, ...,  0,  9,  6],\n",
       "       [ 1,  0,  0, ...,  7, 10, 12],\n",
       "       [ 1,  3,  5, ...,  0,  0,  2]])"
      ]
     },
     "metadata": {},
     "execution_count": 316
    }
   ],
   "metadata": {}
  },
  {
   "cell_type": "markdown",
   "source": [
    "# Evaluate all existing antibodies and compute their affinities"
   ],
   "metadata": {}
  },
  {
   "cell_type": "markdown",
   "source": [
    "Lectura de los datos del problema + Traducción del formato del dataset a matriz trabajo-estación"
   ],
   "metadata": {}
  },
  {
   "cell_type": "code",
   "execution_count": 317,
   "source": [
    "def part_machine_incidence_matrix(data):    \r\n",
    "    f = open(data,'r')\r\n",
    "    lines = [line.split('\\n') for line in f]\r\n",
    "    f.close()\r\n",
    "\r\n",
    "    m,p = [int(num) for num in lines[8][0].split(' ')] #m: number of machines, p: number of parts\r\n",
    "\r\n",
    "    machines=[[m,p]]\r\n",
    "    for i in range(9,9+m):\r\n",
    "        #machines.append([int(num) for num in lines[i][0].split(' ')])\r\n",
    "        machines.append([int(lines[i][0].split(' ')[j]) for j in range(1,m)])\r\n",
    "\r\n",
    "    columns, rows = ['M'+str(i) for i in range(1,m+1)], ['P'+str(i) for i in range(1,p+1)]\r\n",
    "    m_p_matrix = pd.DataFrame(columns= columns, index= rows)\r\n",
    "\r\n",
    "    ones_zeros = []\r\n",
    "    for i in range(1,len(machines)):\r\n",
    "        aux = []\r\n",
    "        for j in range(1,p+1):\r\n",
    "            if j in machines[i]: aux.append(1)\r\n",
    "            else: aux.append(0)\r\n",
    "        ones_zeros.append(aux)\r\n",
    "\r\n",
    "    for i in range(0,len(columns)):\r\n",
    "        m_p_matrix[columns[i]] = ones_zeros[i]\r\n",
    "\r\n",
    "    return m_p_matrix, m, p, columns, rows"
   ],
   "outputs": [],
   "metadata": {}
  },
  {
   "cell_type": "code",
   "execution_count": 318,
   "source": [
    "matrix, m, p, columns, rows = part_machine_incidence_matrix('data/instances/testset_a/5x7_Waghodekar_Sahu(1984)[Problem-2].txt')\r\n",
    "matrix"
   ],
   "outputs": [
    {
     "output_type": "execute_result",
     "data": {
      "text/html": [
       "<div>\n",
       "<style scoped>\n",
       "    .dataframe tbody tr th:only-of-type {\n",
       "        vertical-align: middle;\n",
       "    }\n",
       "\n",
       "    .dataframe tbody tr th {\n",
       "        vertical-align: top;\n",
       "    }\n",
       "\n",
       "    .dataframe thead th {\n",
       "        text-align: right;\n",
       "    }\n",
       "</style>\n",
       "<table border=\"1\" class=\"dataframe\">\n",
       "  <thead>\n",
       "    <tr style=\"text-align: right;\">\n",
       "      <th></th>\n",
       "      <th>M1</th>\n",
       "      <th>M2</th>\n",
       "      <th>M3</th>\n",
       "      <th>M4</th>\n",
       "      <th>M5</th>\n",
       "    </tr>\n",
       "  </thead>\n",
       "  <tbody>\n",
       "    <tr>\n",
       "      <th>P1</th>\n",
       "      <td>1</td>\n",
       "      <td>0</td>\n",
       "      <td>0</td>\n",
       "      <td>1</td>\n",
       "      <td>0</td>\n",
       "    </tr>\n",
       "    <tr>\n",
       "      <th>P2</th>\n",
       "      <td>0</td>\n",
       "      <td>1</td>\n",
       "      <td>0</td>\n",
       "      <td>1</td>\n",
       "      <td>1</td>\n",
       "    </tr>\n",
       "    <tr>\n",
       "      <th>P3</th>\n",
       "      <td>0</td>\n",
       "      <td>1</td>\n",
       "      <td>1</td>\n",
       "      <td>1</td>\n",
       "      <td>0</td>\n",
       "    </tr>\n",
       "    <tr>\n",
       "      <th>P4</th>\n",
       "      <td>0</td>\n",
       "      <td>1</td>\n",
       "      <td>1</td>\n",
       "      <td>1</td>\n",
       "      <td>1</td>\n",
       "    </tr>\n",
       "    <tr>\n",
       "      <th>P5</th>\n",
       "      <td>1</td>\n",
       "      <td>1</td>\n",
       "      <td>1</td>\n",
       "      <td>0</td>\n",
       "      <td>1</td>\n",
       "    </tr>\n",
       "    <tr>\n",
       "      <th>P6</th>\n",
       "      <td>1</td>\n",
       "      <td>0</td>\n",
       "      <td>1</td>\n",
       "      <td>0</td>\n",
       "      <td>1</td>\n",
       "    </tr>\n",
       "    <tr>\n",
       "      <th>P7</th>\n",
       "      <td>1</td>\n",
       "      <td>0</td>\n",
       "      <td>0</td>\n",
       "      <td>0</td>\n",
       "      <td>0</td>\n",
       "    </tr>\n",
       "  </tbody>\n",
       "</table>\n",
       "</div>"
      ],
      "text/plain": [
       "    M1  M2  M3  M4  M5\n",
       "P1   1   0   0   1   0\n",
       "P2   0   1   0   1   1\n",
       "P3   0   1   1   1   0\n",
       "P4   0   1   1   1   1\n",
       "P5   1   1   1   0   1\n",
       "P6   1   0   1   0   1\n",
       "P7   1   0   0   0   0"
      ]
     },
     "metadata": {},
     "execution_count": 318
    }
   ],
   "metadata": {}
  },
  {
   "cell_type": "markdown",
   "source": [
    "## Decodificación de anticuerpos\r\n",
    "1er Paso: Separación de celdas."
   ],
   "metadata": {}
  },
  {
   "cell_type": "code",
   "execution_count": 319,
   "source": [
    "def cell_identification(antibodies):\r\n",
    "    total_cells = []\r\n",
    "    for antibodie in antibodies:\r\n",
    "        # print(\"antibodie\", antibodie)\r\n",
    "        flag = 1 #bandera que indica si el num anterior es un cero\r\n",
    "        cells, cell = [],[]\r\n",
    "        i = 0\r\n",
    "        for num in antibodie:\r\n",
    "            if (num == 0): \r\n",
    "                if flag == 0: \r\n",
    "                    i=i+1\r\n",
    "                    cells.append(cell)\r\n",
    "                    # print(cell)\r\n",
    "                    cell = []\r\n",
    "                flag = 1\r\n",
    "            else: \r\n",
    "                cell.append(num)\r\n",
    "                # print(num)\r\n",
    "                flag = 0\r\n",
    "                if num == antibodie[len(antibodie)-1]:\r\n",
    "                    cells.append(cell)\r\n",
    "        total_cells.append(cells)\r\n",
    "        # print(\"cells\", cells)\r\n",
    "    # print(\"list of all cells for all antibodies\",total_cells)\r\n",
    "    # print(\"cells for antibody 1\",total_cells[0])\r\n",
    "    return total_cells"
   ],
   "outputs": [],
   "metadata": {}
  },
  {
   "cell_type": "code",
   "execution_count": 320,
   "source": [
    "total_cells = cell_identification(antibodies = antibodies)\r\n",
    "total_cells"
   ],
   "outputs": [
    {
     "output_type": "execute_result",
     "data": {
      "text/plain": [
       "[[[1, 8, 11], [12], [9, 10], [6, 2, 4, 7, 3, 5]],\n",
       " [[1, 9, 6, 3, 4, 2, 7, 10], [5, 12, 8], [11]],\n",
       " [[1, 10, 12, 11], [8], [5], [2, 9, 3, 7, 6, 4]],\n",
       " [[1], [2, 6, 3, 9, 7, 5], [4, 8, 10, 11], [12]],\n",
       " [[1, 5, 8, 12, 11, 10], [4], [9], [6, 7, 2, 3]],\n",
       " [[1], [9, 2, 6], [7, 4], [3, 10, 5, 12], [8, 11]],\n",
       " [[1, 4, 10, 8, 12, 5], [3, 11], [2, 7, 9, 6]],\n",
       " [[1], [9, 2], [7, 3, 11, 6, 5, 4, 8], [10, 12]],\n",
       " [[1, 3, 5, 10, 8, 4], [11, 6, 12], [9, 7], [2]],\n",
       " [[1, 11], [9], [7, 6, 12, 2, 4, 3, 10], [5, 8]],\n",
       " [[1, 6, 4, 5, 10, 3], [12, 2, 8], [11], [7], [9]],\n",
       " [[1, 12], [11, 7, 2, 8, 9, 3, 6, 5], [4, 10]],\n",
       " [[1, 2, 3, 4, 5, 6], [8, 9, 10, 11, 12], [7]],\n",
       " [[1, 8, 11], [12, 7, 9, 10], [6, 2, 4], [3, 5]],\n",
       " [[1, 9, 6, 3, 4, 2], [10], [5, 12, 8], [7, 11]],\n",
       " [[1, 10, 12, 11], [8, 7], [5], [2, 9, 3], [6, 4]],\n",
       " [[1], [2, 6, 3, 9], [5], [4, 8, 10, 11, 7, 12]],\n",
       " [[1, 5, 8, 12, 11, 10, 7], [4], [9], [6], [2, 3]],\n",
       " [[1], [9, 2, 6], [4], [3, 10, 5, 12, 7, 8, 11]],\n",
       " [[1, 4, 10, 8, 12, 5, 7], [3, 11], [2], [9, 6]],\n",
       " [[1], [9, 2], [3, 11, 6, 5, 4, 8, 7, 10, 12]],\n",
       " [[1, 3, 5, 10, 8, 4, 7, 11, 6, 12], [9], [2]],\n",
       " [[1, 11], [9], [6, 12, 2, 4, 3, 10, 7, 5, 8]],\n",
       " [[1, 6, 4, 5, 10, 3, 7, 12, 2, 8], [11], [9]],\n",
       " [[1, 12], [11], [2, 8, 9, 3, 6, 5, 7, 4, 10]],\n",
       " [[1, 2, 3, 4, 5, 6, 7, 8, 9, 10, 11, 12]],\n",
       " [[1, 8, 11], [12], [9, 10], [6, 2, 4, 7, 3, 5]],\n",
       " [[1, 9, 6, 3, 4, 2, 7, 10], [5, 12, 8], [11]],\n",
       " [[1, 10, 12, 11], [8], [5], [2, 9, 3, 7, 6, 4]],\n",
       " [[1], [2, 6, 3, 9, 7, 5], [4, 8, 10, 11], [12]],\n",
       " [[1, 5, 8, 12, 11, 10], [4], [9], [6, 7, 2, 3]],\n",
       " [[1], [9, 2, 6], [7, 4], [3, 10, 5, 12], [8, 11]],\n",
       " [[1, 4, 10, 8, 12, 5], [3, 11], [2, 7, 9, 6]],\n",
       " [[1], [9, 2], [7, 3, 11, 6, 5, 4, 8], [10, 12]],\n",
       " [[1, 3, 5, 10, 8, 4], [11, 6, 12], [9, 7], [2]],\n",
       " [[1, 11], [9], [7, 6, 12, 2, 4, 3, 10], [5, 8]],\n",
       " [[1, 6, 4, 5, 10, 3], [12, 2, 8], [11], [7], [9]],\n",
       " [[1, 12], [11, 7, 2, 8, 9, 3, 6, 5], [4, 10]],\n",
       " [[1, 2, 3, 4, 5, 6], [8, 9, 10, 11, 12], [7]],\n",
       " [[1, 8, 11], [12, 7, 9, 10], [6, 2, 4], [3, 5]],\n",
       " [[1, 9, 6, 3, 4, 2], [10], [5, 12, 8], [7, 11]],\n",
       " [[1, 10, 12, 11], [8, 7], [5], [2, 9, 3], [6, 4]],\n",
       " [[1], [2, 6, 3, 9], [5], [4, 8, 10, 11, 7, 12]],\n",
       " [[1, 5, 8, 12, 11, 10, 7], [4], [9], [6], [2, 3]],\n",
       " [[1], [9, 2, 6], [4], [3, 10, 5, 12, 7, 8, 11]],\n",
       " [[1, 4, 10, 8, 12, 5, 7], [3, 11], [2], [9, 6]],\n",
       " [[1], [9, 2], [3, 11, 6, 5, 4, 8, 7, 10, 12]],\n",
       " [[1, 3, 5, 10, 8, 4, 7, 11, 6, 12], [9], [2]],\n",
       " [[1, 11], [9], [6, 12, 2, 4, 3, 10, 7, 5, 8]],\n",
       " [[1, 6, 4, 5, 10, 3, 7, 12, 2, 8], [11], [9]],\n",
       " [[1, 12], [11], [2, 8, 9, 3, 6, 5, 7, 4, 10]],\n",
       " [[1, 2, 3, 4, 5, 6, 7, 8, 9, 10, 11, 12]],\n",
       " [[1, 8, 11], [12], [9, 10], [6, 2, 4, 7, 3, 5]],\n",
       " [[1, 9, 6, 3, 4, 2, 7, 10], [5, 12, 8], [11]],\n",
       " [[1, 10, 12, 11], [8], [5], [2, 9, 3, 7, 6, 4]],\n",
       " [[1], [2, 6, 3, 9, 7, 5], [4, 8, 10, 11], [12]],\n",
       " [[1, 5, 8, 12, 11, 10], [4], [9], [6, 7, 2, 3]],\n",
       " [[1], [9, 2, 6], [7, 4], [3, 10, 5, 12], [8, 11]],\n",
       " [[1, 4, 10, 8, 12, 5], [3, 11], [2, 7, 9, 6]],\n",
       " [[1], [9, 2], [7, 3, 11, 6, 5, 4, 8], [10, 12]],\n",
       " [[1, 3, 5, 10, 8, 4], [11, 6, 12], [9, 7], [2]],\n",
       " [[1, 11], [9], [7, 6, 12, 2, 4, 3, 10], [5, 8]],\n",
       " [[1, 6, 4, 5, 10, 3], [12, 2, 8], [11], [7], [9]],\n",
       " [[1, 12], [11, 7, 2, 8, 9, 3, 6, 5], [4, 10]],\n",
       " [[1, 2, 3, 4, 5, 6], [8, 9, 10, 11, 12], [7]],\n",
       " [[1, 8, 11], [12, 7, 9, 10], [6, 2, 4], [3, 5]],\n",
       " [[1, 9, 6, 3, 4, 2], [10], [5, 12, 8], [7, 11]],\n",
       " [[1, 10, 12, 11], [8, 7], [5], [2, 9, 3], [6, 4]],\n",
       " [[1], [2, 6, 3, 9], [5], [4, 8, 10, 11, 7, 12]],\n",
       " [[1, 5, 8, 12, 11, 10, 7], [4], [9], [6], [2, 3]],\n",
       " [[1], [9, 2, 6], [4], [3, 10, 5, 12, 7, 8, 11]],\n",
       " [[1, 4, 10, 8, 12, 5, 7], [3, 11], [2], [9, 6]],\n",
       " [[1], [9, 2], [3, 11, 6, 5, 4, 8, 7, 10, 12]],\n",
       " [[1, 3, 5, 10, 8, 4, 7, 11, 6, 12], [9], [2]],\n",
       " [[1, 11], [9], [6, 12, 2, 4, 3, 10, 7, 5, 8]],\n",
       " [[1, 6, 4, 5, 10, 3, 7, 12, 2, 8], [11], [9]],\n",
       " [[1, 12], [11], [2, 8, 9, 3, 6, 5, 7, 4, 10]],\n",
       " [[1, 2, 3, 4, 5, 6, 7, 8, 9, 10, 11, 12]],\n",
       " [[1, 8, 11], [12], [9, 10], [6, 2, 4, 7, 3, 5]],\n",
       " [[1, 9, 6, 3, 4, 2, 7, 10], [5, 12, 8], [11]],\n",
       " [[1, 10, 12, 11], [8], [5], [2, 9, 3, 7, 6, 4]],\n",
       " [[1], [2, 6, 3, 9, 7, 5], [4, 8, 10, 11], [12]],\n",
       " [[1, 5, 8, 12, 11, 10], [4], [9], [6, 7, 2, 3]],\n",
       " [[1], [9, 2, 6], [7, 4], [3, 10, 5, 12], [8, 11]],\n",
       " [[1, 4, 10, 8, 12, 5], [3, 11], [2, 7, 9, 6]],\n",
       " [[1], [9, 2], [7, 3, 11, 6, 5, 4, 8], [10, 12]],\n",
       " [[1, 3, 5, 10, 8, 4], [11, 6, 12], [9, 7], [2]],\n",
       " [[1, 11], [9], [7, 6, 12, 2, 4, 3, 10], [5, 8]],\n",
       " [[1, 6, 4, 5, 10, 3], [12, 2, 8], [11], [7], [9]],\n",
       " [[1, 12], [11, 7, 2, 8, 9, 3, 6, 5], [4, 10]],\n",
       " [[1, 2, 3, 4, 5, 6], [8, 9, 10, 11, 12], [7]],\n",
       " [[1, 8, 11], [12, 7, 9, 10], [6, 2, 4], [3, 5]],\n",
       " [[1, 9, 6, 3, 4, 2], [10], [5, 12, 8], [7, 11]],\n",
       " [[1, 10, 12, 11], [8, 7], [5], [2, 9, 3], [6, 4]],\n",
       " [[1], [2, 6, 3, 9], [5], [4, 8, 10, 11, 7, 12]],\n",
       " [[1, 5, 8, 12, 11, 10, 7], [4], [9], [6], [2, 3]],\n",
       " [[1], [9, 2, 6], [4], [3, 10, 5, 12, 7, 8, 11]],\n",
       " [[1, 4, 10, 8, 12, 5, 7], [3, 11], [2], [9, 6]],\n",
       " [[1], [9, 2], [3, 11, 6, 5, 4, 8, 7, 10, 12]],\n",
       " [[1, 3, 5, 10, 8, 4, 7, 11, 6, 12], [9], [2]]]"
      ]
     },
     "metadata": {},
     "execution_count": 320
    }
   ],
   "metadata": {}
  },
  {
   "cell_type": "markdown",
   "source": [
    "reorganizar filas y columnas de la matriz maquinas-trabajos en función de lo descrito por el anticuerpo"
   ],
   "metadata": {}
  },
  {
   "cell_type": "code",
   "execution_count": 321,
   "source": [
    "def decode_cells(total_cells):\r\n",
    "    total_machines, total_parts = [], []\r\n",
    "    for antibodie in total_cells:\r\n",
    "        # print(\"antibodie\",antibodie)\r\n",
    "        machines = []\r\n",
    "        parts = []\r\n",
    "        decoded_antibodie = antibodie\r\n",
    "        for i in range(0,len(antibodie)):\r\n",
    "            # print(antibodie[i])\r\n",
    "            for j in range(0,len(antibodie[i])):\r\n",
    "                if antibodie[i][j] <= p: \r\n",
    "                    parts.append(rows[antibodie[i][j]-1])\r\n",
    "                    decoded_antibodie[i][j] = rows[antibodie[i][j]-1]\r\n",
    "                else: \r\n",
    "                    machines.append(columns[antibodie[i][j]-p-1])\r\n",
    "                    decoded_antibodie[i][j] = columns[antibodie[i][j]-p-1]\r\n",
    "            antibodie = decoded_antibodie\r\n",
    "        total_machines.append(machines)\r\n",
    "        total_parts.append(parts)\r\n",
    "        print(\"decoded antibodies\",antibodie)\r\n",
    "\r\n",
    "    return total_machines, total_parts\r\n",
    "    # print(total_machines)\r\n",
    "    # print(total_parts)"
   ],
   "outputs": [],
   "metadata": {}
  },
  {
   "cell_type": "code",
   "execution_count": 322,
   "source": [
    "total_machines, total_parts = decode_cells(total_cells=total_cells)"
   ],
   "outputs": [
    {
     "output_type": "stream",
     "name": "stdout",
     "text": [
      "decoded antibodies [['P1', 'M1', 'M4'], ['M5'], ['M2', 'M3'], ['P6', 'P2', 'P4', 'P7', 'P3', 'P5']]\n",
      "decoded antibodies [['P1', 'M2', 'P6', 'P3', 'P4', 'P2', 'P7', 'M3'], ['P5', 'M5', 'M1'], ['M4']]\n",
      "decoded antibodies [['P1', 'M3', 'M5', 'M4'], ['M1'], ['P5'], ['P2', 'M2', 'P3', 'P7', 'P6', 'P4']]\n",
      "decoded antibodies [['P1'], ['P2', 'P6', 'P3', 'M2', 'P7', 'P5'], ['P4', 'M1', 'M3', 'M4'], ['M5']]\n",
      "decoded antibodies [['P1', 'P5', 'M1', 'M5', 'M4', 'M3'], ['P4'], ['M2'], ['P6', 'P7', 'P2', 'P3']]\n",
      "decoded antibodies [['P1'], ['M2', 'P2', 'P6'], ['P7', 'P4'], ['P3', 'M3', 'P5', 'M5'], ['M1', 'M4']]\n",
      "decoded antibodies [['P1', 'P4', 'M3', 'M1', 'M5', 'P5'], ['P3', 'M4'], ['P2', 'P7', 'M2', 'P6']]\n",
      "decoded antibodies [['P1'], ['M2', 'P2'], ['P7', 'P3', 'M4', 'P6', 'P5', 'P4', 'M1'], ['M3', 'M5']]\n",
      "decoded antibodies [['P1', 'P3', 'P5', 'M3', 'M1', 'P4'], ['M4', 'P6', 'M5'], ['M2', 'P7'], ['P2']]\n",
      "decoded antibodies [['P1', 'M4'], ['M2'], ['P7', 'P6', 'M5', 'P2', 'P4', 'P3', 'M3'], ['P5', 'M1']]\n",
      "decoded antibodies [['P1', 'P6', 'P4', 'P5', 'M3', 'P3'], ['M5', 'P2', 'M1'], ['M4'], ['P7'], ['M2']]\n",
      "decoded antibodies [['P1', 'M5'], ['M4', 'P7', 'P2', 'M1', 'M2', 'P3', 'P6', 'P5'], ['P4', 'M3']]\n",
      "decoded antibodies [['P1', 'P2', 'P3', 'P4', 'P5', 'P6'], ['M1', 'M2', 'M3', 'M4', 'M5'], ['P7']]\n",
      "decoded antibodies [['P1', 'M1', 'M4'], ['M5', 'P7', 'M2', 'M3'], ['P6', 'P2', 'P4'], ['P3', 'P5']]\n",
      "decoded antibodies [['P1', 'M2', 'P6', 'P3', 'P4', 'P2'], ['M3'], ['P5', 'M5', 'M1'], ['P7', 'M4']]\n",
      "decoded antibodies [['P1', 'M3', 'M5', 'M4'], ['M1', 'P7'], ['P5'], ['P2', 'M2', 'P3'], ['P6', 'P4']]\n",
      "decoded antibodies [['P1'], ['P2', 'P6', 'P3', 'M2'], ['P5'], ['P4', 'M1', 'M3', 'M4', 'P7', 'M5']]\n",
      "decoded antibodies [['P1', 'P5', 'M1', 'M5', 'M4', 'M3', 'P7'], ['P4'], ['M2'], ['P6'], ['P2', 'P3']]\n",
      "decoded antibodies [['P1'], ['M2', 'P2', 'P6'], ['P4'], ['P3', 'M3', 'P5', 'M5', 'P7', 'M1', 'M4']]\n",
      "decoded antibodies [['P1', 'P4', 'M3', 'M1', 'M5', 'P5', 'P7'], ['P3', 'M4'], ['P2'], ['M2', 'P6']]\n",
      "decoded antibodies [['P1'], ['M2', 'P2'], ['P3', 'M4', 'P6', 'P5', 'P4', 'M1', 'P7', 'M3', 'M5']]\n",
      "decoded antibodies [['P1', 'P3', 'P5', 'M3', 'M1', 'P4', 'P7', 'M4', 'P6', 'M5'], ['M2'], ['P2']]\n",
      "decoded antibodies [['P1', 'M4'], ['M2'], ['P6', 'M5', 'P2', 'P4', 'P3', 'M3', 'P7', 'P5', 'M1']]\n",
      "decoded antibodies [['P1', 'P6', 'P4', 'P5', 'M3', 'P3', 'P7', 'M5', 'P2', 'M1'], ['M4'], ['M2']]\n",
      "decoded antibodies [['P1', 'M5'], ['M4'], ['P2', 'M1', 'M2', 'P3', 'P6', 'P5', 'P7', 'P4', 'M3']]\n",
      "decoded antibodies [['P1', 'P2', 'P3', 'P4', 'P5', 'P6', 'P7', 'M1', 'M2', 'M3', 'M4', 'M5']]\n",
      "decoded antibodies [['P1', 'M1', 'M4'], ['M5'], ['M2', 'M3'], ['P6', 'P2', 'P4', 'P7', 'P3', 'P5']]\n",
      "decoded antibodies [['P1', 'M2', 'P6', 'P3', 'P4', 'P2', 'P7', 'M3'], ['P5', 'M5', 'M1'], ['M4']]\n",
      "decoded antibodies [['P1', 'M3', 'M5', 'M4'], ['M1'], ['P5'], ['P2', 'M2', 'P3', 'P7', 'P6', 'P4']]\n",
      "decoded antibodies [['P1'], ['P2', 'P6', 'P3', 'M2', 'P7', 'P5'], ['P4', 'M1', 'M3', 'M4'], ['M5']]\n",
      "decoded antibodies [['P1', 'P5', 'M1', 'M5', 'M4', 'M3'], ['P4'], ['M2'], ['P6', 'P7', 'P2', 'P3']]\n",
      "decoded antibodies [['P1'], ['M2', 'P2', 'P6'], ['P7', 'P4'], ['P3', 'M3', 'P5', 'M5'], ['M1', 'M4']]\n",
      "decoded antibodies [['P1', 'P4', 'M3', 'M1', 'M5', 'P5'], ['P3', 'M4'], ['P2', 'P7', 'M2', 'P6']]\n",
      "decoded antibodies [['P1'], ['M2', 'P2'], ['P7', 'P3', 'M4', 'P6', 'P5', 'P4', 'M1'], ['M3', 'M5']]\n",
      "decoded antibodies [['P1', 'P3', 'P5', 'M3', 'M1', 'P4'], ['M4', 'P6', 'M5'], ['M2', 'P7'], ['P2']]\n",
      "decoded antibodies [['P1', 'M4'], ['M2'], ['P7', 'P6', 'M5', 'P2', 'P4', 'P3', 'M3'], ['P5', 'M1']]\n",
      "decoded antibodies [['P1', 'P6', 'P4', 'P5', 'M3', 'P3'], ['M5', 'P2', 'M1'], ['M4'], ['P7'], ['M2']]\n",
      "decoded antibodies [['P1', 'M5'], ['M4', 'P7', 'P2', 'M1', 'M2', 'P3', 'P6', 'P5'], ['P4', 'M3']]\n",
      "decoded antibodies [['P1', 'P2', 'P3', 'P4', 'P5', 'P6'], ['M1', 'M2', 'M3', 'M4', 'M5'], ['P7']]\n",
      "decoded antibodies [['P1', 'M1', 'M4'], ['M5', 'P7', 'M2', 'M3'], ['P6', 'P2', 'P4'], ['P3', 'P5']]\n",
      "decoded antibodies [['P1', 'M2', 'P6', 'P3', 'P4', 'P2'], ['M3'], ['P5', 'M5', 'M1'], ['P7', 'M4']]\n",
      "decoded antibodies [['P1', 'M3', 'M5', 'M4'], ['M1', 'P7'], ['P5'], ['P2', 'M2', 'P3'], ['P6', 'P4']]\n",
      "decoded antibodies [['P1'], ['P2', 'P6', 'P3', 'M2'], ['P5'], ['P4', 'M1', 'M3', 'M4', 'P7', 'M5']]\n",
      "decoded antibodies [['P1', 'P5', 'M1', 'M5', 'M4', 'M3', 'P7'], ['P4'], ['M2'], ['P6'], ['P2', 'P3']]\n",
      "decoded antibodies [['P1'], ['M2', 'P2', 'P6'], ['P4'], ['P3', 'M3', 'P5', 'M5', 'P7', 'M1', 'M4']]\n",
      "decoded antibodies [['P1', 'P4', 'M3', 'M1', 'M5', 'P5', 'P7'], ['P3', 'M4'], ['P2'], ['M2', 'P6']]\n",
      "decoded antibodies [['P1'], ['M2', 'P2'], ['P3', 'M4', 'P6', 'P5', 'P4', 'M1', 'P7', 'M3', 'M5']]\n",
      "decoded antibodies [['P1', 'P3', 'P5', 'M3', 'M1', 'P4', 'P7', 'M4', 'P6', 'M5'], ['M2'], ['P2']]\n",
      "decoded antibodies [['P1', 'M4'], ['M2'], ['P6', 'M5', 'P2', 'P4', 'P3', 'M3', 'P7', 'P5', 'M1']]\n",
      "decoded antibodies [['P1', 'P6', 'P4', 'P5', 'M3', 'P3', 'P7', 'M5', 'P2', 'M1'], ['M4'], ['M2']]\n",
      "decoded antibodies [['P1', 'M5'], ['M4'], ['P2', 'M1', 'M2', 'P3', 'P6', 'P5', 'P7', 'P4', 'M3']]\n",
      "decoded antibodies [['P1', 'P2', 'P3', 'P4', 'P5', 'P6', 'P7', 'M1', 'M2', 'M3', 'M4', 'M5']]\n",
      "decoded antibodies [['P1', 'M1', 'M4'], ['M5'], ['M2', 'M3'], ['P6', 'P2', 'P4', 'P7', 'P3', 'P5']]\n",
      "decoded antibodies [['P1', 'M2', 'P6', 'P3', 'P4', 'P2', 'P7', 'M3'], ['P5', 'M5', 'M1'], ['M4']]\n",
      "decoded antibodies [['P1', 'M3', 'M5', 'M4'], ['M1'], ['P5'], ['P2', 'M2', 'P3', 'P7', 'P6', 'P4']]\n",
      "decoded antibodies [['P1'], ['P2', 'P6', 'P3', 'M2', 'P7', 'P5'], ['P4', 'M1', 'M3', 'M4'], ['M5']]\n",
      "decoded antibodies [['P1', 'P5', 'M1', 'M5', 'M4', 'M3'], ['P4'], ['M2'], ['P6', 'P7', 'P2', 'P3']]\n",
      "decoded antibodies [['P1'], ['M2', 'P2', 'P6'], ['P7', 'P4'], ['P3', 'M3', 'P5', 'M5'], ['M1', 'M4']]\n",
      "decoded antibodies [['P1', 'P4', 'M3', 'M1', 'M5', 'P5'], ['P3', 'M4'], ['P2', 'P7', 'M2', 'P6']]\n",
      "decoded antibodies [['P1'], ['M2', 'P2'], ['P7', 'P3', 'M4', 'P6', 'P5', 'P4', 'M1'], ['M3', 'M5']]\n",
      "decoded antibodies [['P1', 'P3', 'P5', 'M3', 'M1', 'P4'], ['M4', 'P6', 'M5'], ['M2', 'P7'], ['P2']]\n",
      "decoded antibodies [['P1', 'M4'], ['M2'], ['P7', 'P6', 'M5', 'P2', 'P4', 'P3', 'M3'], ['P5', 'M1']]\n",
      "decoded antibodies [['P1', 'P6', 'P4', 'P5', 'M3', 'P3'], ['M5', 'P2', 'M1'], ['M4'], ['P7'], ['M2']]\n",
      "decoded antibodies [['P1', 'M5'], ['M4', 'P7', 'P2', 'M1', 'M2', 'P3', 'P6', 'P5'], ['P4', 'M3']]\n",
      "decoded antibodies [['P1', 'P2', 'P3', 'P4', 'P5', 'P6'], ['M1', 'M2', 'M3', 'M4', 'M5'], ['P7']]\n",
      "decoded antibodies [['P1', 'M1', 'M4'], ['M5', 'P7', 'M2', 'M3'], ['P6', 'P2', 'P4'], ['P3', 'P5']]\n",
      "decoded antibodies [['P1', 'M2', 'P6', 'P3', 'P4', 'P2'], ['M3'], ['P5', 'M5', 'M1'], ['P7', 'M4']]\n",
      "decoded antibodies [['P1', 'M3', 'M5', 'M4'], ['M1', 'P7'], ['P5'], ['P2', 'M2', 'P3'], ['P6', 'P4']]\n",
      "decoded antibodies [['P1'], ['P2', 'P6', 'P3', 'M2'], ['P5'], ['P4', 'M1', 'M3', 'M4', 'P7', 'M5']]\n",
      "decoded antibodies [['P1', 'P5', 'M1', 'M5', 'M4', 'M3', 'P7'], ['P4'], ['M2'], ['P6'], ['P2', 'P3']]\n",
      "decoded antibodies [['P1'], ['M2', 'P2', 'P6'], ['P4'], ['P3', 'M3', 'P5', 'M5', 'P7', 'M1', 'M4']]\n",
      "decoded antibodies [['P1', 'P4', 'M3', 'M1', 'M5', 'P5', 'P7'], ['P3', 'M4'], ['P2'], ['M2', 'P6']]\n",
      "decoded antibodies [['P1'], ['M2', 'P2'], ['P3', 'M4', 'P6', 'P5', 'P4', 'M1', 'P7', 'M3', 'M5']]\n",
      "decoded antibodies [['P1', 'P3', 'P5', 'M3', 'M1', 'P4', 'P7', 'M4', 'P6', 'M5'], ['M2'], ['P2']]\n",
      "decoded antibodies [['P1', 'M4'], ['M2'], ['P6', 'M5', 'P2', 'P4', 'P3', 'M3', 'P7', 'P5', 'M1']]\n",
      "decoded antibodies [['P1', 'P6', 'P4', 'P5', 'M3', 'P3', 'P7', 'M5', 'P2', 'M1'], ['M4'], ['M2']]\n",
      "decoded antibodies [['P1', 'M5'], ['M4'], ['P2', 'M1', 'M2', 'P3', 'P6', 'P5', 'P7', 'P4', 'M3']]\n",
      "decoded antibodies [['P1', 'P2', 'P3', 'P4', 'P5', 'P6', 'P7', 'M1', 'M2', 'M3', 'M4', 'M5']]\n",
      "decoded antibodies [['P1', 'M1', 'M4'], ['M5'], ['M2', 'M3'], ['P6', 'P2', 'P4', 'P7', 'P3', 'P5']]\n",
      "decoded antibodies [['P1', 'M2', 'P6', 'P3', 'P4', 'P2', 'P7', 'M3'], ['P5', 'M5', 'M1'], ['M4']]\n",
      "decoded antibodies [['P1', 'M3', 'M5', 'M4'], ['M1'], ['P5'], ['P2', 'M2', 'P3', 'P7', 'P6', 'P4']]\n",
      "decoded antibodies [['P1'], ['P2', 'P6', 'P3', 'M2', 'P7', 'P5'], ['P4', 'M1', 'M3', 'M4'], ['M5']]\n",
      "decoded antibodies [['P1', 'P5', 'M1', 'M5', 'M4', 'M3'], ['P4'], ['M2'], ['P6', 'P7', 'P2', 'P3']]\n",
      "decoded antibodies [['P1'], ['M2', 'P2', 'P6'], ['P7', 'P4'], ['P3', 'M3', 'P5', 'M5'], ['M1', 'M4']]\n",
      "decoded antibodies [['P1', 'P4', 'M3', 'M1', 'M5', 'P5'], ['P3', 'M4'], ['P2', 'P7', 'M2', 'P6']]\n",
      "decoded antibodies [['P1'], ['M2', 'P2'], ['P7', 'P3', 'M4', 'P6', 'P5', 'P4', 'M1'], ['M3', 'M5']]\n",
      "decoded antibodies [['P1', 'P3', 'P5', 'M3', 'M1', 'P4'], ['M4', 'P6', 'M5'], ['M2', 'P7'], ['P2']]\n",
      "decoded antibodies [['P1', 'M4'], ['M2'], ['P7', 'P6', 'M5', 'P2', 'P4', 'P3', 'M3'], ['P5', 'M1']]\n",
      "decoded antibodies [['P1', 'P6', 'P4', 'P5', 'M3', 'P3'], ['M5', 'P2', 'M1'], ['M4'], ['P7'], ['M2']]\n",
      "decoded antibodies [['P1', 'M5'], ['M4', 'P7', 'P2', 'M1', 'M2', 'P3', 'P6', 'P5'], ['P4', 'M3']]\n",
      "decoded antibodies [['P1', 'P2', 'P3', 'P4', 'P5', 'P6'], ['M1', 'M2', 'M3', 'M4', 'M5'], ['P7']]\n",
      "decoded antibodies [['P1', 'M1', 'M4'], ['M5', 'P7', 'M2', 'M3'], ['P6', 'P2', 'P4'], ['P3', 'P5']]\n",
      "decoded antibodies [['P1', 'M2', 'P6', 'P3', 'P4', 'P2'], ['M3'], ['P5', 'M5', 'M1'], ['P7', 'M4']]\n",
      "decoded antibodies [['P1', 'M3', 'M5', 'M4'], ['M1', 'P7'], ['P5'], ['P2', 'M2', 'P3'], ['P6', 'P4']]\n",
      "decoded antibodies [['P1'], ['P2', 'P6', 'P3', 'M2'], ['P5'], ['P4', 'M1', 'M3', 'M4', 'P7', 'M5']]\n",
      "decoded antibodies [['P1', 'P5', 'M1', 'M5', 'M4', 'M3', 'P7'], ['P4'], ['M2'], ['P6'], ['P2', 'P3']]\n",
      "decoded antibodies [['P1'], ['M2', 'P2', 'P6'], ['P4'], ['P3', 'M3', 'P5', 'M5', 'P7', 'M1', 'M4']]\n",
      "decoded antibodies [['P1', 'P4', 'M3', 'M1', 'M5', 'P5', 'P7'], ['P3', 'M4'], ['P2'], ['M2', 'P6']]\n",
      "decoded antibodies [['P1'], ['M2', 'P2'], ['P3', 'M4', 'P6', 'P5', 'P4', 'M1', 'P7', 'M3', 'M5']]\n",
      "decoded antibodies [['P1', 'P3', 'P5', 'M3', 'M1', 'P4', 'P7', 'M4', 'P6', 'M5'], ['M2'], ['P2']]\n"
     ]
    }
   ],
   "metadata": {}
  },
  {
   "cell_type": "markdown",
   "source": [
    "Representación de la matriz: usamos total_machines y total_parts, donde hemos colocado en orden las máquinas y los trabajos respectivamente.\r\n"
   ],
   "metadata": {}
  },
  {
   "cell_type": "code",
   "execution_count": 323,
   "source": [
    "def create_machine_part_matrix(matrix, antibodies, total_machines, total_parts):\r\n",
    "    antibody_matrices = []\r\n",
    "    for i in range(0,len(antibodies)):\r\n",
    "        antibodie_matrix = matrix.loc[:,total_machines[i]]\r\n",
    "        antibodie_matrix = antibodie_matrix.loc[total_parts[i]]\r\n",
    "        antibody_matrices.append(antibodie_matrix)\r\n",
    "    return antibody_matrices\r\n",
    "\r\n",
    "\r\n",
    "antibody_matrices = create_machine_part_matrix(matrix=matrix,\r\n",
    "                                                antibodies=antibodies, \r\n",
    "                                                total_machines=total_machines, \r\n",
    "                                                total_parts=total_parts)"
   ],
   "outputs": [],
   "metadata": {}
  },
  {
   "cell_type": "code",
   "execution_count": 324,
   "source": [
    "def evaluate_antibodies(antibody_matrices, total_cells): #m and p should be added as parameters\r\n",
    "    exceptions, voids, penalties = [],[],[]\r\n",
    "    for i in range(0,len(total_cells)):\r\n",
    "        # print(\"\\n\",total_cells[i])\r\n",
    "        # print(antibody_matrices[i])\r\n",
    "        void, exception, penalty = 0,0,0\r\n",
    "        cell_machine_flag, cell_flag_part = 0,0\r\n",
    "        for cell in total_cells[i]:\r\n",
    "            # print(cell)\r\n",
    "            machines, parts = [], []\r\n",
    "            machine_flag, part_flag = 0,0\r\n",
    "            for mp in cell:\r\n",
    "                if mp[0] == 'M': \r\n",
    "                    machines.append(mp)\r\n",
    "                    machine_flag = 1\r\n",
    "                    # print(machines)\r\n",
    "                if mp[0] == 'P': \r\n",
    "                    parts.append(mp)\r\n",
    "                    part_flag = 1\r\n",
    "                    # print(parts)\r\n",
    "            if machine_flag == 0: cell_machine_flag = 1\r\n",
    "            if part_flag == 0: cell_flag_part = 1\r\n",
    "            # print(i, cell_machine_flag, cell_flag_part)\r\n",
    "            for machine in machines:\r\n",
    "                for part in antibody_matrices[i].index:\r\n",
    "                    if part in parts and antibody_matrices[i][machine][part] == 0: \r\n",
    "                        void = void+1\r\n",
    "                        # print(\"void\",machine, part)\r\n",
    "                    if part not in parts and antibody_matrices[i][machine][part] == 1:\r\n",
    "                        exception = exception+1\r\n",
    "                        # print(\"exception\",machine, part)\r\n",
    "            # print(void, exception)\r\n",
    "            # print(\"\\n\")\r\n",
    "        voids.append(void)\r\n",
    "        exceptions.append(exception)\r\n",
    "        penalty = 0.5 * (cell_machine_flag + cell_flag_part)\r\n",
    "        # print(penalty)\r\n",
    "        penalties.append(penalty)\r\n",
    "    # print(\"voids\",voids)\r\n",
    "    # print(\"exceptions\",exceptions)\r\n",
    "    efficacies, affinities = [], []\r\n",
    "    matrix_dimension = m*p\r\n",
    "    for i in range(0,len(total_cells)):\r\n",
    "        exceptions_ratio = exceptions[i]/matrix_dimension\r\n",
    "        voids_ratio = voids[i]/matrix_dimension\r\n",
    "        efficacy= (1-exceptions_ratio)/(1+voids_ratio)\r\n",
    "        efficacies.append(efficacy)\r\n",
    "        affinities.append(efficacy - efficacy * penalties[i])\r\n",
    "    return efficacies, affinities, voids, exceptions\r\n"
   ],
   "outputs": [],
   "metadata": {}
  },
  {
   "cell_type": "code",
   "execution_count": 325,
   "source": [
    "efficacies, affinities, voids, exceptions = evaluate_antibodies(antibody_matrices = antibody_matrices, total_cells=total_cells)\r\n",
    "print(efficacies)\r\n",
    "print(affinities)"
   ],
   "outputs": [
    {
     "output_type": "stream",
     "name": "stdout",
     "text": [
      "[0.48571428571428577, 0.5609756097560975, 0.4871794871794872, 0.5263157894736842, 0.5263157894736842, 0.5135135135135136, 0.5750000000000001, 0.525, 0.525, 0.5897435897435898, 0.5405405405405405, 0.5581395348837209, 0.4285714285714286, 0.44736842105263164, 0.5263157894736842, 0.5135135135135136, 0.525, 0.5121951219512195, 0.5238095238095238, 0.5609756097560975, 0.6511627906976745, 0.6444444444444445, 0.6428571428571429, 0.6136363636363636, 0.6046511627906976, 0.7, 0.48571428571428577, 0.5609756097560975, 0.4871794871794872, 0.5263157894736842, 0.5263157894736842, 0.5135135135135136, 0.5750000000000001, 0.525, 0.525, 0.5897435897435898, 0.5405405405405405, 0.5581395348837209, 0.4285714285714286, 0.44736842105263164, 0.5263157894736842, 0.5135135135135136, 0.525, 0.5121951219512195, 0.5238095238095238, 0.5609756097560975, 0.6511627906976745, 0.6444444444444445, 0.6428571428571429, 0.6136363636363636, 0.6046511627906976, 0.7, 0.48571428571428577, 0.5609756097560975, 0.4871794871794872, 0.5263157894736842, 0.5263157894736842, 0.5135135135135136, 0.5750000000000001, 0.525, 0.525, 0.5897435897435898, 0.5405405405405405, 0.5581395348837209, 0.4285714285714286, 0.44736842105263164, 0.5263157894736842, 0.5135135135135136, 0.525, 0.5121951219512195, 0.5238095238095238, 0.5609756097560975, 0.6511627906976745, 0.6444444444444445, 0.6428571428571429, 0.6136363636363636, 0.6046511627906976, 0.7, 0.48571428571428577, 0.5609756097560975, 0.4871794871794872, 0.5263157894736842, 0.5263157894736842, 0.5135135135135136, 0.5750000000000001, 0.525, 0.525, 0.5897435897435898, 0.5405405405405405, 0.5581395348837209, 0.4285714285714286, 0.44736842105263164, 0.5263157894736842, 0.5135135135135136, 0.525, 0.5121951219512195, 0.5238095238095238, 0.5609756097560975, 0.6511627906976745, 0.6444444444444445]\n",
      "[0.0, 0.28048780487804875, 0.0, 0.0, 0.0, 0.0, 0.5750000000000001, 0.0, 0.2625, 0.2948717948717949, 0.0, 0.5581395348837209, 0.0, 0.22368421052631582, 0.2631578947368421, 0.2567567567567568, 0.2625, 0.0, 0.2619047619047619, 0.28048780487804875, 0.32558139534883723, 0.0, 0.32142857142857145, 0.3068181818181818, 0.3023255813953488, 0.7, 0.0, 0.28048780487804875, 0.0, 0.0, 0.0, 0.0, 0.5750000000000001, 0.0, 0.2625, 0.2948717948717949, 0.0, 0.5581395348837209, 0.0, 0.22368421052631582, 0.2631578947368421, 0.2567567567567568, 0.2625, 0.0, 0.2619047619047619, 0.28048780487804875, 0.32558139534883723, 0.0, 0.32142857142857145, 0.3068181818181818, 0.3023255813953488, 0.7, 0.0, 0.28048780487804875, 0.0, 0.0, 0.0, 0.0, 0.5750000000000001, 0.0, 0.2625, 0.2948717948717949, 0.0, 0.5581395348837209, 0.0, 0.22368421052631582, 0.2631578947368421, 0.2567567567567568, 0.2625, 0.0, 0.2619047619047619, 0.28048780487804875, 0.32558139534883723, 0.0, 0.32142857142857145, 0.3068181818181818, 0.3023255813953488, 0.7, 0.0, 0.28048780487804875, 0.0, 0.0, 0.0, 0.0, 0.5750000000000001, 0.0, 0.2625, 0.2948717948717949, 0.0, 0.5581395348837209, 0.0, 0.22368421052631582, 0.2631578947368421, 0.2567567567567568, 0.2625, 0.0, 0.2619047619047619, 0.28048780487804875, 0.32558139534883723, 0.0]\n"
     ]
    }
   ],
   "metadata": {}
  },
  {
   "cell_type": "markdown",
   "source": [
    "# Select N% of antibodies with highest affinities & Clone selected antibodies"
   ],
   "metadata": {}
  },
  {
   "cell_type": "markdown",
   "source": [
    "con el parámetro p de probabilities de np.random.choice podemos pasar un vector de probabilidades para el sampleo"
   ],
   "metadata": {}
  },
  {
   "cell_type": "code",
   "execution_count": 344,
   "source": [
    "lista = [1,5,4,2]\r\n",
    "prob = [0.5,0.3,0.2,0]"
   ],
   "outputs": [],
   "metadata": {}
  },
  {
   "cell_type": "code",
   "execution_count": 353,
   "source": [
    "from __future__ import division\r\n",
    "import numpy as np\r\n",
    "import random,pdb\r\n",
    "import operator\r\n",
    "\r\n",
    "def roulette_selection(weights):\r\n",
    "        '''performs weighted selection or roulette wheel selection on a list\r\n",
    "        and returns the index selected from the list'''\r\n",
    "\r\n",
    "        # sort the weights in ascending order\r\n",
    "        sorted_indexed_weights = sorted(enumerate(weights), key=operator.itemgetter(1));\r\n",
    "        indices, sorted_weights = zip(*sorted_indexed_weights);\r\n",
    "        # calculate the cumulative probability\r\n",
    "        tot_sum=sum(sorted_weights)\r\n",
    "        prob = [x/tot_sum for x in sorted_weights]\r\n",
    "        cum_prob=np.cumsum(prob)\r\n",
    "        # select a random a number in the range [0,1]\r\n",
    "        random_num=random.random()\r\n",
    "\r\n",
    "        for index_value, cum_prob_value in zip(indices,cum_prob):\r\n",
    "            if random_num < cum_prob_value:\r\n",
    "                return index_value\r\n",
    "\r\n",
    "weights=[1,2,6,4,3,7,20]\r\n",
    "print (roulette_selection(weights))\r\n",
    "weights=[1,2,2,2,2,2,2]\r\n",
    "print (roulette_selection(weights))"
   ],
   "outputs": [
    {
     "output_type": "stream",
     "name": "stdout",
     "text": [
      "5\n",
      "4\n"
     ]
    }
   ],
   "metadata": {}
  },
  {
   "cell_type": "code",
   "execution_count": 350,
   "source": [
    "roulette_selection(lista)"
   ],
   "outputs": [
    {
     "output_type": "error",
     "ename": "AttributeError",
     "evalue": "'int' object has no attribute 'fitness'",
     "traceback": [
      "\u001b[1;31m---------------------------------------------------------------------------\u001b[0m",
      "\u001b[1;31mAttributeError\u001b[0m                            Traceback (most recent call last)",
      "\u001b[1;32m<ipython-input-350-bc9a7f852e8a>\u001b[0m in \u001b[0;36m<module>\u001b[1;34m\u001b[0m\n\u001b[1;32m----> 1\u001b[1;33m \u001b[0mroulette_wheel_selection\u001b[0m\u001b[1;33m(\u001b[0m\u001b[0mlista\u001b[0m\u001b[1;33m)\u001b[0m\u001b[1;33m\u001b[0m\u001b[1;33m\u001b[0m\u001b[0m\n\u001b[0m",
      "\u001b[1;32m<ipython-input-349-8e92fd41349c>\u001b[0m in \u001b[0;36mroulette_wheel_selection\u001b[1;34m(population)\u001b[0m\n\u001b[0;32m      4\u001b[0m \u001b[1;33m\u001b[0m\u001b[0m\n\u001b[0;32m      5\u001b[0m     \u001b[1;31m# Computes the totallity of the population fitness\u001b[0m\u001b[1;33m\u001b[0m\u001b[1;33m\u001b[0m\u001b[1;33m\u001b[0m\u001b[0m\n\u001b[1;32m----> 6\u001b[1;33m     \u001b[0mpopulation_fitness\u001b[0m \u001b[1;33m=\u001b[0m \u001b[0msum\u001b[0m\u001b[1;33m(\u001b[0m\u001b[1;33m[\u001b[0m\u001b[0mchromosome\u001b[0m\u001b[1;33m.\u001b[0m\u001b[0mfitness\u001b[0m \u001b[1;32mfor\u001b[0m \u001b[0mchromosome\u001b[0m \u001b[1;32min\u001b[0m \u001b[0mpopulation\u001b[0m\u001b[1;33m]\u001b[0m\u001b[1;33m)\u001b[0m\u001b[1;33m\u001b[0m\u001b[1;33m\u001b[0m\u001b[0m\n\u001b[0m\u001b[0;32m      7\u001b[0m \u001b[1;33m\u001b[0m\u001b[0m\n\u001b[0;32m      8\u001b[0m     \u001b[1;31m# Computes for each chromosome the probability\u001b[0m\u001b[1;33m\u001b[0m\u001b[1;33m\u001b[0m\u001b[1;33m\u001b[0m\u001b[0m\n",
      "\u001b[1;32m<ipython-input-349-8e92fd41349c>\u001b[0m in \u001b[0;36m<listcomp>\u001b[1;34m(.0)\u001b[0m\n\u001b[0;32m      4\u001b[0m \u001b[1;33m\u001b[0m\u001b[0m\n\u001b[0;32m      5\u001b[0m     \u001b[1;31m# Computes the totallity of the population fitness\u001b[0m\u001b[1;33m\u001b[0m\u001b[1;33m\u001b[0m\u001b[1;33m\u001b[0m\u001b[0m\n\u001b[1;32m----> 6\u001b[1;33m     \u001b[0mpopulation_fitness\u001b[0m \u001b[1;33m=\u001b[0m \u001b[0msum\u001b[0m\u001b[1;33m(\u001b[0m\u001b[1;33m[\u001b[0m\u001b[0mchromosome\u001b[0m\u001b[1;33m.\u001b[0m\u001b[0mfitness\u001b[0m \u001b[1;32mfor\u001b[0m \u001b[0mchromosome\u001b[0m \u001b[1;32min\u001b[0m \u001b[0mpopulation\u001b[0m\u001b[1;33m]\u001b[0m\u001b[1;33m)\u001b[0m\u001b[1;33m\u001b[0m\u001b[1;33m\u001b[0m\u001b[0m\n\u001b[0m\u001b[0;32m      7\u001b[0m \u001b[1;33m\u001b[0m\u001b[0m\n\u001b[0;32m      8\u001b[0m     \u001b[1;31m# Computes for each chromosome the probability\u001b[0m\u001b[1;33m\u001b[0m\u001b[1;33m\u001b[0m\u001b[1;33m\u001b[0m\u001b[0m\n",
      "\u001b[1;31mAttributeError\u001b[0m: 'int' object has no attribute 'fitness'"
     ]
    }
   ],
   "metadata": {}
  },
  {
   "cell_type": "code",
   "execution_count": 346,
   "source": [
    "def weighted_random_choice(chromosomes):\r\n",
    "    max = sum(chromosome.fitness for chromosome in chromosomes)\r\n",
    "    pick = random.uniform(0, max)\r\n",
    "    current = 0\r\n",
    "    for chromosome in chromosomes:\r\n",
    "        current += chromosome.fitness\r\n",
    "        if current > pick:\r\n",
    "            return chromosome"
   ],
   "outputs": [],
   "metadata": {}
  },
  {
   "cell_type": "code",
   "execution_count": 347,
   "source": [
    "weighted_random_choice(lista)"
   ],
   "outputs": [
    {
     "output_type": "error",
     "ename": "AttributeError",
     "evalue": "'int' object has no attribute 'fitness'",
     "traceback": [
      "\u001b[1;31m---------------------------------------------------------------------------\u001b[0m",
      "\u001b[1;31mAttributeError\u001b[0m                            Traceback (most recent call last)",
      "\u001b[1;32m<ipython-input-347-7d3758a3355d>\u001b[0m in \u001b[0;36m<module>\u001b[1;34m\u001b[0m\n\u001b[1;32m----> 1\u001b[1;33m \u001b[0mweighted_random_choice\u001b[0m\u001b[1;33m(\u001b[0m\u001b[0mlista\u001b[0m\u001b[1;33m)\u001b[0m\u001b[1;33m\u001b[0m\u001b[1;33m\u001b[0m\u001b[0m\n\u001b[0m",
      "\u001b[1;32m<ipython-input-346-f9abd3b995ee>\u001b[0m in \u001b[0;36mweighted_random_choice\u001b[1;34m(chromosomes)\u001b[0m\n\u001b[0;32m      1\u001b[0m \u001b[1;32mdef\u001b[0m \u001b[0mweighted_random_choice\u001b[0m\u001b[1;33m(\u001b[0m\u001b[0mchromosomes\u001b[0m\u001b[1;33m)\u001b[0m\u001b[1;33m:\u001b[0m\u001b[1;33m\u001b[0m\u001b[1;33m\u001b[0m\u001b[0m\n\u001b[1;32m----> 2\u001b[1;33m     \u001b[0mmax\u001b[0m \u001b[1;33m=\u001b[0m \u001b[0msum\u001b[0m\u001b[1;33m(\u001b[0m\u001b[0mchromosome\u001b[0m\u001b[1;33m.\u001b[0m\u001b[0mfitness\u001b[0m \u001b[1;32mfor\u001b[0m \u001b[0mchromosome\u001b[0m \u001b[1;32min\u001b[0m \u001b[0mchromosomes\u001b[0m\u001b[1;33m)\u001b[0m\u001b[1;33m\u001b[0m\u001b[1;33m\u001b[0m\u001b[0m\n\u001b[0m\u001b[0;32m      3\u001b[0m     \u001b[0mpick\u001b[0m \u001b[1;33m=\u001b[0m \u001b[0mrandom\u001b[0m\u001b[1;33m.\u001b[0m\u001b[0muniform\u001b[0m\u001b[1;33m(\u001b[0m\u001b[1;36m0\u001b[0m\u001b[1;33m,\u001b[0m \u001b[0mmax\u001b[0m\u001b[1;33m)\u001b[0m\u001b[1;33m\u001b[0m\u001b[1;33m\u001b[0m\u001b[0m\n\u001b[0;32m      4\u001b[0m     \u001b[0mcurrent\u001b[0m \u001b[1;33m=\u001b[0m \u001b[1;36m0\u001b[0m\u001b[1;33m\u001b[0m\u001b[1;33m\u001b[0m\u001b[0m\n\u001b[0;32m      5\u001b[0m     \u001b[1;32mfor\u001b[0m \u001b[0mchromosome\u001b[0m \u001b[1;32min\u001b[0m \u001b[0mchromosomes\u001b[0m\u001b[1;33m:\u001b[0m\u001b[1;33m\u001b[0m\u001b[1;33m\u001b[0m\u001b[0m\n",
      "\u001b[1;32m<ipython-input-346-f9abd3b995ee>\u001b[0m in \u001b[0;36m<genexpr>\u001b[1;34m(.0)\u001b[0m\n\u001b[0;32m      1\u001b[0m \u001b[1;32mdef\u001b[0m \u001b[0mweighted_random_choice\u001b[0m\u001b[1;33m(\u001b[0m\u001b[0mchromosomes\u001b[0m\u001b[1;33m)\u001b[0m\u001b[1;33m:\u001b[0m\u001b[1;33m\u001b[0m\u001b[1;33m\u001b[0m\u001b[0m\n\u001b[1;32m----> 2\u001b[1;33m     \u001b[0mmax\u001b[0m \u001b[1;33m=\u001b[0m \u001b[0msum\u001b[0m\u001b[1;33m(\u001b[0m\u001b[0mchromosome\u001b[0m\u001b[1;33m.\u001b[0m\u001b[0mfitness\u001b[0m \u001b[1;32mfor\u001b[0m \u001b[0mchromosome\u001b[0m \u001b[1;32min\u001b[0m \u001b[0mchromosomes\u001b[0m\u001b[1;33m)\u001b[0m\u001b[1;33m\u001b[0m\u001b[1;33m\u001b[0m\u001b[0m\n\u001b[0m\u001b[0;32m      3\u001b[0m     \u001b[0mpick\u001b[0m \u001b[1;33m=\u001b[0m \u001b[0mrandom\u001b[0m\u001b[1;33m.\u001b[0m\u001b[0muniform\u001b[0m\u001b[1;33m(\u001b[0m\u001b[1;36m0\u001b[0m\u001b[1;33m,\u001b[0m \u001b[0mmax\u001b[0m\u001b[1;33m)\u001b[0m\u001b[1;33m\u001b[0m\u001b[1;33m\u001b[0m\u001b[0m\n\u001b[0;32m      4\u001b[0m     \u001b[0mcurrent\u001b[0m \u001b[1;33m=\u001b[0m \u001b[1;36m0\u001b[0m\u001b[1;33m\u001b[0m\u001b[1;33m\u001b[0m\u001b[0m\n\u001b[0;32m      5\u001b[0m     \u001b[1;32mfor\u001b[0m \u001b[0mchromosome\u001b[0m \u001b[1;32min\u001b[0m \u001b[0mchromosomes\u001b[0m\u001b[1;33m:\u001b[0m\u001b[1;33m\u001b[0m\u001b[1;33m\u001b[0m\u001b[0m\n",
      "\u001b[1;31mAttributeError\u001b[0m: 'int' object has no attribute 'fitness'"
     ]
    }
   ],
   "metadata": {}
  },
  {
   "cell_type": "code",
   "execution_count": 326,
   "source": [
    "def antibodies_selection(antibodies, N, affinities):\r\n",
    "    population_pool = len(antibodies)\r\n",
    "    sel_probabilities = affinities/np.sum(affinities)\r\n",
    "    size = round(population_pool*N)\r\n",
    "    if np.count_nonzero(sel_probabilities != 0) < size:\r\n",
    "        print(sel_probabilities)\r\n",
    "        print(size)\r\n",
    "        return print(\"¡¡ERROR!! en la selección inicial de anticuerpos. INSUFICIENTES ANTICUERPOS CON AFINIDAD > 1\")\r\n",
    "    else:\r\n",
    "        positions_antibodies_selected = np.random.choice(population_pool, size=size, replace=False, p = sel_probabilities)\r\n",
    "        antibodies_selected = antibodies[positions_antibodies_selected.tolist()]\r\n",
    "        return antibodies_selected, positions_antibodies_selected\r\n",
    "\r\n",
    "cloned_antibodies, positions_antibodies_selected = antibodies_selection(antibodies=antibodies, N=0.1, affinities= affinities)\r\n",
    "\r\n",
    "print(positions_antibodies_selected)\r\n",
    "cloned_antibodies"
   ],
   "outputs": [
    {
     "output_type": "stream",
     "name": "stdout",
     "text": [
      "[42 74 20 75 84 22 70 76  6 97]\n"
     ]
    },
    {
     "output_type": "execute_result",
     "data": {
      "text/plain": [
       "array([[ 1,  0,  2,  6,  3,  9,  0,  5,  0,  4,  8, 10, 11,  7, 12,  0],\n",
       "       [ 1, 11,  0,  0,  9,  0,  0,  6, 12,  2,  4,  3, 10,  7,  5,  8],\n",
       "       [ 1,  0,  0,  9,  2,  0,  0,  3, 11,  6,  5,  4,  8,  7, 10, 12],\n",
       "       [ 1,  6,  4,  5, 10,  3,  7, 12,  2,  8,  0, 11,  0,  0,  0,  9],\n",
       "       [ 1,  4, 10,  8, 12,  5,  0,  0,  3, 11,  0,  0,  2,  7,  9,  6],\n",
       "       [ 1, 11,  0,  0,  9,  0,  0,  6, 12,  2,  4,  3, 10,  7,  5,  8],\n",
       "       [ 1,  0,  9,  2,  6,  0,  0,  4,  0,  3, 10,  5, 12,  7,  8, 11],\n",
       "       [ 1, 12,  0,  0,  0, 11,  0,  2,  8,  9,  3,  6,  5,  7,  4, 10],\n",
       "       [ 1,  4, 10,  8, 12,  5,  0,  0,  3, 11,  0,  0,  2,  7,  9,  6],\n",
       "       [ 1,  4, 10,  8, 12,  5,  7,  0,  3, 11,  0,  0,  2,  0,  9,  6]])"
      ]
     },
     "metadata": {},
     "execution_count": 326
    }
   ],
   "metadata": {}
  },
  {
   "cell_type": "markdown",
   "source": [
    "# Mutation operator"
   ],
   "metadata": {}
  },
  {
   "cell_type": "markdown",
   "source": [
    "Aqui estoy comentiendo un fallo y es que realizo la mutación en todos los casos.\r\n",
    "Se debe comparar la efficacy del anticuerpo antes y después de la mutación y quedarse con el mejor."
   ],
   "metadata": {}
  },
  {
   "cell_type": "markdown",
   "source": [
    "## Maturate cloned antibodies"
   ],
   "metadata": {}
  },
  {
   "cell_type": "code",
   "execution_count": 327,
   "source": [
    "def mutate_cloned_antibodies(cloned_antibodies):\r\n",
    "    for antibodie in cloned_antibodies:\r\n",
    "        # print(antibodie)\r\n",
    "        positions = np.random.choice(len(antibodie),size=2,replace=False)\r\n",
    "        # print(positions)\r\n",
    "        antibodie[positions[0]], antibodie[positions[1]] = antibodie[positions[1]], antibodie[positions[0]]\r\n",
    "    return cloned_antibodies"
   ],
   "outputs": [],
   "metadata": {}
  },
  {
   "cell_type": "code",
   "execution_count": 328,
   "source": [
    "mutate_cloned_antibodies(cloned_antibodies = cloned_antibodies)"
   ],
   "outputs": [
    {
     "output_type": "execute_result",
     "data": {
      "text/plain": [
       "array([[ 1,  0,  2,  6, 12,  9,  0,  5,  0,  4,  8, 10, 11,  7,  3,  0],\n",
       "       [ 1, 11,  0,  0,  5,  0,  0,  6, 12,  2,  4,  3, 10,  7,  9,  8],\n",
       "       [ 1,  0,  0,  9,  2,  8,  0,  3, 11,  6,  5,  4,  0,  7, 10, 12],\n",
       "       [ 1,  6, 12,  5, 10,  3,  7,  4,  2,  8,  0, 11,  0,  0,  0,  9],\n",
       "       [ 1,  4, 10,  8, 12,  5,  7,  0,  3, 11,  0,  0,  2,  0,  9,  6],\n",
       "       [ 1, 11,  0,  0,  9,  0,  0,  6, 12,  2,  4,  3, 10,  7,  5,  8],\n",
       "       [ 1,  0,  9,  2,  6, 12,  0,  4,  0,  3, 10,  5,  0,  7,  8, 11],\n",
       "       [ 1, 12,  0,  0,  0, 11,  8,  2,  0,  9,  3,  6,  5,  7,  4, 10],\n",
       "       [ 1,  4, 10,  0, 12,  5,  0,  0,  3, 11,  8,  0,  2,  7,  9,  6],\n",
       "       [ 1,  4, 10,  6, 12,  5,  7,  0,  3, 11,  0,  0,  2,  0,  9,  8]])"
      ]
     },
     "metadata": {},
     "execution_count": 328
    }
   ],
   "metadata": {}
  },
  {
   "cell_type": "markdown",
   "source": [
    "## Evaluate cloned antibodies"
   ],
   "metadata": {}
  },
  {
   "cell_type": "code",
   "execution_count": 329,
   "source": [
    "cloned_total_cells = cell_identification(cloned_antibodies)\r\n",
    "cloned_total_cells"
   ],
   "outputs": [
    {
     "output_type": "execute_result",
     "data": {
      "text/plain": [
       "[[[1], [2, 6, 12, 9], [5], [4, 8, 10, 11, 7, 3]],\n",
       " [[1, 11], [5], [6, 12, 2, 4, 3, 10, 7, 9, 8]],\n",
       " [[1], [9, 2, 8], [3, 11, 6, 5, 4], [7, 10, 12]],\n",
       " [[1, 6, 12, 5, 10, 3, 7, 4, 2, 8], [11], [9]],\n",
       " [[1, 4, 10, 8, 12, 5, 7], [3, 11], [2], [9, 6]],\n",
       " [[1, 11], [9], [6, 12, 2, 4, 3, 10, 7, 5, 8]],\n",
       " [[1], [9, 2, 6, 12], [4], [3, 10, 5], [7, 8, 11]],\n",
       " [[1, 12], [11, 8, 2], [9, 3, 6, 5, 7, 4, 10]],\n",
       " [[1, 4, 10], [12, 5], [3, 11, 8], [2, 7, 9, 6]],\n",
       " [[1, 4, 10, 6, 12, 5, 7], [3, 11], [2], [9, 8]]]"
      ]
     },
     "metadata": {},
     "execution_count": 329
    }
   ],
   "metadata": {}
  },
  {
   "cell_type": "code",
   "execution_count": 330,
   "source": [
    "cloned_total_machines, cloned_total_parts = decode_cells(cloned_total_cells)"
   ],
   "outputs": [
    {
     "output_type": "stream",
     "name": "stdout",
     "text": [
      "decoded antibodies [['P1'], ['P2', 'P6', 'M5', 'M2'], ['P5'], ['P4', 'M1', 'M3', 'M4', 'P7', 'P3']]\n",
      "decoded antibodies [['P1', 'M4'], ['P5'], ['P6', 'M5', 'P2', 'P4', 'P3', 'M3', 'P7', 'M2', 'M1']]\n",
      "decoded antibodies [['P1'], ['M2', 'P2', 'M1'], ['P3', 'M4', 'P6', 'P5', 'P4'], ['P7', 'M3', 'M5']]\n",
      "decoded antibodies [['P1', 'P6', 'M5', 'P5', 'M3', 'P3', 'P7', 'P4', 'P2', 'M1'], ['M4'], ['M2']]\n",
      "decoded antibodies [['P1', 'P4', 'M3', 'M1', 'M5', 'P5', 'P7'], ['P3', 'M4'], ['P2'], ['M2', 'P6']]\n",
      "decoded antibodies [['P1', 'M4'], ['M2'], ['P6', 'M5', 'P2', 'P4', 'P3', 'M3', 'P7', 'P5', 'M1']]\n",
      "decoded antibodies [['P1'], ['M2', 'P2', 'P6', 'M5'], ['P4'], ['P3', 'M3', 'P5'], ['P7', 'M1', 'M4']]\n",
      "decoded antibodies [['P1', 'M5'], ['M4', 'M1', 'P2'], ['M2', 'P3', 'P6', 'P5', 'P7', 'P4', 'M3']]\n",
      "decoded antibodies [['P1', 'P4', 'M3'], ['M5', 'P5'], ['P3', 'M4', 'M1'], ['P2', 'P7', 'M2', 'P6']]\n",
      "decoded antibodies [['P1', 'P4', 'M3', 'P6', 'M5', 'P5', 'P7'], ['P3', 'M4'], ['P2'], ['M2', 'M1']]\n"
     ]
    }
   ],
   "metadata": {}
  },
  {
   "cell_type": "code",
   "execution_count": 331,
   "source": [
    "cloned_antibody_matrices = create_machine_part_matrix(matrix = matrix,\r\n",
    "                                                        antibodies=cloned_antibodies, \r\n",
    "                                                        total_machines = cloned_total_machines, \r\n",
    "                                                        total_parts= cloned_total_parts)"
   ],
   "outputs": [],
   "metadata": {}
  },
  {
   "cell_type": "code",
   "execution_count": 332,
   "source": [
    "cloned_efficacies, cloned_affinities, cloned_voids, cloned_exceptions = evaluate_antibodies(cloned_antibody_matrices,\r\n",
    "                                                                                           cloned_total_cells)\r\n",
    "print(\"Pool\\n\",antibodies)\r\n",
    "print(efficacies)\r\n",
    "print(affinities)\r\n",
    "\r\n",
    "print(\"\\nCloned\\n\",cloned_antibodies)\r\n",
    "print(cloned_efficacies)\r\n",
    "print(cloned_affinities)"
   ],
   "outputs": [
    {
     "output_type": "stream",
     "name": "stdout",
     "text": [
      "Pool\n",
      " [[ 1  8 11 ...  7  3  5]\n",
      " [ 1  9  6 ...  0 11  0]\n",
      " [ 1 10 12 ...  7  6  4]\n",
      " ...\n",
      " [ 1  4 10 ...  0  9  6]\n",
      " [ 1  0  0 ...  7 10 12]\n",
      " [ 1  3  5 ...  0  0  2]]\n",
      "[0.48571428571428577, 0.5609756097560975, 0.4871794871794872, 0.5263157894736842, 0.5263157894736842, 0.5135135135135136, 0.5750000000000001, 0.525, 0.525, 0.5897435897435898, 0.5405405405405405, 0.5581395348837209, 0.4285714285714286, 0.44736842105263164, 0.5263157894736842, 0.5135135135135136, 0.525, 0.5121951219512195, 0.5238095238095238, 0.5609756097560975, 0.6511627906976745, 0.6444444444444445, 0.6428571428571429, 0.6136363636363636, 0.6046511627906976, 0.7, 0.48571428571428577, 0.5609756097560975, 0.4871794871794872, 0.5263157894736842, 0.5263157894736842, 0.5135135135135136, 0.5750000000000001, 0.525, 0.525, 0.5897435897435898, 0.5405405405405405, 0.5581395348837209, 0.4285714285714286, 0.44736842105263164, 0.5263157894736842, 0.5135135135135136, 0.525, 0.5121951219512195, 0.5238095238095238, 0.5609756097560975, 0.6511627906976745, 0.6444444444444445, 0.6428571428571429, 0.6136363636363636, 0.6046511627906976, 0.7, 0.48571428571428577, 0.5609756097560975, 0.4871794871794872, 0.5263157894736842, 0.5263157894736842, 0.5135135135135136, 0.5750000000000001, 0.525, 0.525, 0.5897435897435898, 0.5405405405405405, 0.5581395348837209, 0.4285714285714286, 0.44736842105263164, 0.5263157894736842, 0.5135135135135136, 0.525, 0.5121951219512195, 0.5238095238095238, 0.5609756097560975, 0.6511627906976745, 0.6444444444444445, 0.6428571428571429, 0.6136363636363636, 0.6046511627906976, 0.7, 0.48571428571428577, 0.5609756097560975, 0.4871794871794872, 0.5263157894736842, 0.5263157894736842, 0.5135135135135136, 0.5750000000000001, 0.525, 0.525, 0.5897435897435898, 0.5405405405405405, 0.5581395348837209, 0.4285714285714286, 0.44736842105263164, 0.5263157894736842, 0.5135135135135136, 0.525, 0.5121951219512195, 0.5238095238095238, 0.5609756097560975, 0.6511627906976745, 0.6444444444444445]\n",
      "[0.0, 0.28048780487804875, 0.0, 0.0, 0.0, 0.0, 0.5750000000000001, 0.0, 0.2625, 0.2948717948717949, 0.0, 0.5581395348837209, 0.0, 0.22368421052631582, 0.2631578947368421, 0.2567567567567568, 0.2625, 0.0, 0.2619047619047619, 0.28048780487804875, 0.32558139534883723, 0.0, 0.32142857142857145, 0.3068181818181818, 0.3023255813953488, 0.7, 0.0, 0.28048780487804875, 0.0, 0.0, 0.0, 0.0, 0.5750000000000001, 0.0, 0.2625, 0.2948717948717949, 0.0, 0.5581395348837209, 0.0, 0.22368421052631582, 0.2631578947368421, 0.2567567567567568, 0.2625, 0.0, 0.2619047619047619, 0.28048780487804875, 0.32558139534883723, 0.0, 0.32142857142857145, 0.3068181818181818, 0.3023255813953488, 0.7, 0.0, 0.28048780487804875, 0.0, 0.0, 0.0, 0.0, 0.5750000000000001, 0.0, 0.2625, 0.2948717948717949, 0.0, 0.5581395348837209, 0.0, 0.22368421052631582, 0.2631578947368421, 0.2567567567567568, 0.2625, 0.0, 0.2619047619047619, 0.28048780487804875, 0.32558139534883723, 0.0, 0.32142857142857145, 0.3068181818181818, 0.3023255813953488, 0.7, 0.0, 0.28048780487804875, 0.0, 0.0, 0.0, 0.0, 0.5750000000000001, 0.0, 0.2625, 0.2948717948717949, 0.0, 0.5581395348837209, 0.0, 0.22368421052631582, 0.2631578947368421, 0.2567567567567568, 0.2625, 0.0, 0.2619047619047619, 0.28048780487804875, 0.32558139534883723, 0.0]\n",
      "\n",
      "Cloned\n",
      " [[ 1  0  2  6 12  9  0  5  0  4  8 10 11  7  3  0]\n",
      " [ 1 11  0  0  5  0  0  6 12  2  4  3 10  7  9  8]\n",
      " [ 1  0  0  9  2  8  0  3 11  6  5  4  0  7 10 12]\n",
      " [ 1  6 12  5 10  3  7  4  2  8  0 11  0  0  0  9]\n",
      " [ 1  4 10  8 12  5  7  0  3 11  0  0  2  0  9  6]\n",
      " [ 1 11  0  0  9  0  0  6 12  2  4  3 10  7  5  8]\n",
      " [ 1  0  9  2  6 12  0  4  0  3 10  5  0  7  8 11]\n",
      " [ 1 12  0  0  0 11  8  2  0  9  3  6  5  7  4 10]\n",
      " [ 1  4 10  0 12  5  0  0  3 11  8  0  2  7  9  6]\n",
      " [ 1  4 10  6 12  5  7  0  3 11  0  0  2  0  9  8]]\n",
      "[0.5750000000000001, 0.6136363636363636, 0.44999999999999996, 0.6136363636363636, 0.5609756097560975, 0.6428571428571429, 0.5675675675675675, 0.5750000000000001, 0.4871794871794872, 0.5641025641025641]\n",
      "[0.28750000000000003, 0.3068181818181818, 0.22499999999999998, 0.3068181818181818, 0.28048780487804875, 0.32142857142857145, 0.28378378378378377, 0.5750000000000001, 0.4871794871794872, 0.0]\n"
     ]
    }
   ],
   "metadata": {}
  },
  {
   "cell_type": "markdown",
   "source": [
    "## Add R% of best cloned antibodies to the pool of antibodies"
   ],
   "metadata": {}
  },
  {
   "cell_type": "markdown",
   "source": [
    "select the R% of best cloned antibodies and adds them to the pool of antibodies"
   ],
   "metadata": {}
  },
  {
   "cell_type": "code",
   "execution_count": 333,
   "source": [
    "positions_antibodies_selected"
   ],
   "outputs": [
    {
     "output_type": "execute_result",
     "data": {
      "text/plain": [
       "array([42, 74, 20, 75, 84, 22, 70, 76,  6, 97])"
      ]
     },
     "metadata": {},
     "execution_count": 333
    }
   ],
   "metadata": {}
  },
  {
   "cell_type": "code",
   "execution_count": 334,
   "source": [
    "antibodies"
   ],
   "outputs": [
    {
     "output_type": "execute_result",
     "data": {
      "text/plain": [
       "array([[ 1,  8, 11, ...,  7,  3,  5],\n",
       "       [ 1,  9,  6, ...,  0, 11,  0],\n",
       "       [ 1, 10, 12, ...,  7,  6,  4],\n",
       "       ...,\n",
       "       [ 1,  4, 10, ...,  0,  9,  6],\n",
       "       [ 1,  0,  0, ...,  7, 10, 12],\n",
       "       [ 1,  3,  5, ...,  0,  0,  2]])"
      ]
     },
     "metadata": {},
     "execution_count": 334
    }
   ],
   "metadata": {}
  },
  {
   "cell_type": "code",
   "execution_count": 335,
   "source": [
    "efficacies"
   ],
   "outputs": [
    {
     "output_type": "execute_result",
     "data": {
      "text/plain": [
       "[0.48571428571428577,\n",
       " 0.5609756097560975,\n",
       " 0.4871794871794872,\n",
       " 0.5263157894736842,\n",
       " 0.5263157894736842,\n",
       " 0.5135135135135136,\n",
       " 0.5750000000000001,\n",
       " 0.525,\n",
       " 0.525,\n",
       " 0.5897435897435898,\n",
       " 0.5405405405405405,\n",
       " 0.5581395348837209,\n",
       " 0.4285714285714286,\n",
       " 0.44736842105263164,\n",
       " 0.5263157894736842,\n",
       " 0.5135135135135136,\n",
       " 0.525,\n",
       " 0.5121951219512195,\n",
       " 0.5238095238095238,\n",
       " 0.5609756097560975,\n",
       " 0.6511627906976745,\n",
       " 0.6444444444444445,\n",
       " 0.6428571428571429,\n",
       " 0.6136363636363636,\n",
       " 0.6046511627906976,\n",
       " 0.7,\n",
       " 0.48571428571428577,\n",
       " 0.5609756097560975,\n",
       " 0.4871794871794872,\n",
       " 0.5263157894736842,\n",
       " 0.5263157894736842,\n",
       " 0.5135135135135136,\n",
       " 0.5750000000000001,\n",
       " 0.525,\n",
       " 0.525,\n",
       " 0.5897435897435898,\n",
       " 0.5405405405405405,\n",
       " 0.5581395348837209,\n",
       " 0.4285714285714286,\n",
       " 0.44736842105263164,\n",
       " 0.5263157894736842,\n",
       " 0.5135135135135136,\n",
       " 0.525,\n",
       " 0.5121951219512195,\n",
       " 0.5238095238095238,\n",
       " 0.5609756097560975,\n",
       " 0.6511627906976745,\n",
       " 0.6444444444444445,\n",
       " 0.6428571428571429,\n",
       " 0.6136363636363636,\n",
       " 0.6046511627906976,\n",
       " 0.7,\n",
       " 0.48571428571428577,\n",
       " 0.5609756097560975,\n",
       " 0.4871794871794872,\n",
       " 0.5263157894736842,\n",
       " 0.5263157894736842,\n",
       " 0.5135135135135136,\n",
       " 0.5750000000000001,\n",
       " 0.525,\n",
       " 0.525,\n",
       " 0.5897435897435898,\n",
       " 0.5405405405405405,\n",
       " 0.5581395348837209,\n",
       " 0.4285714285714286,\n",
       " 0.44736842105263164,\n",
       " 0.5263157894736842,\n",
       " 0.5135135135135136,\n",
       " 0.525,\n",
       " 0.5121951219512195,\n",
       " 0.5238095238095238,\n",
       " 0.5609756097560975,\n",
       " 0.6511627906976745,\n",
       " 0.6444444444444445,\n",
       " 0.6428571428571429,\n",
       " 0.6136363636363636,\n",
       " 0.6046511627906976,\n",
       " 0.7,\n",
       " 0.48571428571428577,\n",
       " 0.5609756097560975,\n",
       " 0.4871794871794872,\n",
       " 0.5263157894736842,\n",
       " 0.5263157894736842,\n",
       " 0.5135135135135136,\n",
       " 0.5750000000000001,\n",
       " 0.525,\n",
       " 0.525,\n",
       " 0.5897435897435898,\n",
       " 0.5405405405405405,\n",
       " 0.5581395348837209,\n",
       " 0.4285714285714286,\n",
       " 0.44736842105263164,\n",
       " 0.5263157894736842,\n",
       " 0.5135135135135136,\n",
       " 0.525,\n",
       " 0.5121951219512195,\n",
       " 0.5238095238095238,\n",
       " 0.5609756097560975,\n",
       " 0.6511627906976745,\n",
       " 0.6444444444444445]"
      ]
     },
     "metadata": {},
     "execution_count": 335
    }
   ],
   "metadata": {}
  },
  {
   "cell_type": "code",
   "execution_count": 336,
   "source": [
    "cloned_antibodies"
   ],
   "outputs": [
    {
     "output_type": "execute_result",
     "data": {
      "text/plain": [
       "array([[ 1,  0,  2,  6, 12,  9,  0,  5,  0,  4,  8, 10, 11,  7,  3,  0],\n",
       "       [ 1, 11,  0,  0,  5,  0,  0,  6, 12,  2,  4,  3, 10,  7,  9,  8],\n",
       "       [ 1,  0,  0,  9,  2,  8,  0,  3, 11,  6,  5,  4,  0,  7, 10, 12],\n",
       "       [ 1,  6, 12,  5, 10,  3,  7,  4,  2,  8,  0, 11,  0,  0,  0,  9],\n",
       "       [ 1,  4, 10,  8, 12,  5,  7,  0,  3, 11,  0,  0,  2,  0,  9,  6],\n",
       "       [ 1, 11,  0,  0,  9,  0,  0,  6, 12,  2,  4,  3, 10,  7,  5,  8],\n",
       "       [ 1,  0,  9,  2,  6, 12,  0,  4,  0,  3, 10,  5,  0,  7,  8, 11],\n",
       "       [ 1, 12,  0,  0,  0, 11,  8,  2,  0,  9,  3,  6,  5,  7,  4, 10],\n",
       "       [ 1,  4, 10,  0, 12,  5,  0,  0,  3, 11,  8,  0,  2,  7,  9,  6],\n",
       "       [ 1,  4, 10,  6, 12,  5,  7,  0,  3, 11,  0,  0,  2,  0,  9,  8]])"
      ]
     },
     "metadata": {},
     "execution_count": 336
    }
   ],
   "metadata": {}
  },
  {
   "cell_type": "code",
   "execution_count": 337,
   "source": [
    "cloned_efficacies"
   ],
   "outputs": [
    {
     "output_type": "execute_result",
     "data": {
      "text/plain": [
       "[0.5750000000000001,\n",
       " 0.6136363636363636,\n",
       " 0.44999999999999996,\n",
       " 0.6136363636363636,\n",
       " 0.5609756097560975,\n",
       " 0.6428571428571429,\n",
       " 0.5675675675675675,\n",
       " 0.5750000000000001,\n",
       " 0.4871794871794872,\n",
       " 0.5641025641025641]"
      ]
     },
     "metadata": {},
     "execution_count": 337
    }
   ],
   "metadata": {}
  },
  {
   "cell_type": "code",
   "execution_count": 338,
   "source": [
    "def select_best_cloned_antibodies(antibodies, cloned_antibodies, efficacies, \r\n",
    "                                    cloned_efficacies,\r\n",
    "                                    affinities,\r\n",
    "                                    cloned_affinities, \r\n",
    "                                    R, \r\n",
    "                                    positions_antibodies_selected):\r\n",
    "    #if antibody efficacy improves after mutation, we keep the mutated antibody, otherwise we dismiss it.\r\n",
    "    j = 0\r\n",
    "    for i in range(0,len(cloned_antibodies)):\r\n",
    "        if cloned_efficacies[i] < efficacies[(positions_antibodies_selected[i])]:\r\n",
    "            print(\"clon {} presenta peor eficacia al ser mutado\".format(cloned_antibodies[i]))\r\n",
    "            print(\"eficacia clon mutado\",cloned_efficacies[i])\r\n",
    "            print(\"eficacia clon sin mutar\",efficacies[(positions_antibodies_selected[i])])\r\n",
    "            cloned_antibodies[i] = antibodies[(positions_antibodies_selected[i])]\r\n",
    "            cloned_efficacies[i] = efficacies[(positions_antibodies_selected[i])]\r\n",
    "            cloned_affinities[i] = affinities[(positions_antibodies_selected[i])]\r\n",
    "            print(\"Conservamos el clon {} original\".format(cloned_antibodies[i]))\r\n",
    "\r\n",
    "    # second part of the function: select R% of the best (efficacy) cloned antibodies\r\n",
    "    amount_selected_antibodies = round(len(cloned_efficacies)*R)\r\n",
    "    print(\"{} antibodies were selected\".format(amount_selected_antibodies))\r\n",
    "    positions = [i #positions of best R% of selected antibodies\r\n",
    "        for x, i\r\n",
    "        in heapq.nlargest(\r\n",
    "            amount_selected_antibodies,\r\n",
    "            ((x, i) for i, x in enumerate(cloned_efficacies)))]\r\n",
    "    \r\n",
    "    for i in range(0,amount_selected_antibodies):\r\n",
    "        antibodies[(positions_antibodies_selected[(positions[i])])] = cloned_antibodies[(positions[i])]\r\n",
    "        efficacies[(positions_antibodies_selected[(positions[i])])] = cloned_efficacies[(positions[i])]\r\n",
    "        affinities[(positions_antibodies_selected[(positions[i])])] = cloned_affinities[(positions[i])]\r\n",
    "    return antibodies, efficacies, affinities"
   ],
   "outputs": [],
   "metadata": {}
  },
  {
   "cell_type": "code",
   "execution_count": 339,
   "source": [
    "antibodies, efficacies, affinities = select_best_cloned_antibodies(antibodies = antibodies,\r\n",
    "                                    cloned_antibodies = cloned_antibodies,\r\n",
    "                                    efficacies = efficacies, \r\n",
    "                                    cloned_efficacies = cloned_efficacies,\r\n",
    "                                    affinities = affinities,\r\n",
    "                                    cloned_affinities = cloned_affinities,\r\n",
    "                                    R = 0.5,\r\n",
    "                                    positions_antibodies_selected = positions_antibodies_selected)\r\n",
    "print(efficacies)\r\n",
    "print(affinities)\r\n",
    "antibodies\r\n"
   ],
   "outputs": [
    {
     "output_type": "stream",
     "name": "stdout",
     "text": [
      "clon [ 1 11  0  0  5  0  0  6 12  2  4  3 10  7  9  8] presenta peor eficacia al ser mutado\n",
      "eficacia clon mutado 0.6136363636363636\n",
      "eficacia clon sin mutar 0.6428571428571429\n",
      "Conservamos el clon [ 1 11  0  0  9  0  0  6 12  2  4  3 10  7  5  8] original\n",
      "clon [ 1  0  0  9  2  8  0  3 11  6  5  4  0  7 10 12] presenta peor eficacia al ser mutado\n",
      "eficacia clon mutado 0.44999999999999996\n",
      "eficacia clon sin mutar 0.6511627906976745\n",
      "Conservamos el clon [ 1  0  0  9  2  0  0  3 11  6  5  4  8  7 10 12] original\n",
      "clon [ 1  4 10  8 12  5  7  0  3 11  0  0  2  0  9  6] presenta peor eficacia al ser mutado\n",
      "eficacia clon mutado 0.5609756097560975\n",
      "eficacia clon sin mutar 0.5750000000000001\n",
      "Conservamos el clon [ 1  4 10  8 12  5  0  0  3 11  0  0  2  7  9  6] original\n",
      "clon [ 1 12  0  0  0 11  8  2  0  9  3  6  5  7  4 10] presenta peor eficacia al ser mutado\n",
      "eficacia clon mutado 0.5750000000000001\n",
      "eficacia clon sin mutar 0.6046511627906976\n",
      "Conservamos el clon [ 1 12  0  0  0 11  0  2  8  9  3  6  5  7  4 10] original\n",
      "clon [ 1  4 10  0 12  5  0  0  3 11  8  0  2  7  9  6] presenta peor eficacia al ser mutado\n",
      "eficacia clon mutado 0.4871794871794872\n",
      "eficacia clon sin mutar 0.5750000000000001\n",
      "Conservamos el clon [ 1  4 10  8 12  5  0  0  3 11  0  0  2  7  9  6] original\n",
      "5 antibodies were selected\n",
      "[0.48571428571428577, 0.5609756097560975, 0.4871794871794872, 0.5263157894736842, 0.5263157894736842, 0.5135135135135136, 0.5750000000000001, 0.525, 0.525, 0.5897435897435898, 0.5405405405405405, 0.5581395348837209, 0.4285714285714286, 0.44736842105263164, 0.5263157894736842, 0.5135135135135136, 0.525, 0.5121951219512195, 0.5238095238095238, 0.5609756097560975, 0.6511627906976745, 0.6444444444444445, 0.6428571428571429, 0.6136363636363636, 0.6046511627906976, 0.7, 0.48571428571428577, 0.5609756097560975, 0.4871794871794872, 0.5263157894736842, 0.5263157894736842, 0.5135135135135136, 0.5750000000000001, 0.525, 0.525, 0.5897435897435898, 0.5405405405405405, 0.5581395348837209, 0.4285714285714286, 0.44736842105263164, 0.5263157894736842, 0.5135135135135136, 0.525, 0.5121951219512195, 0.5238095238095238, 0.5609756097560975, 0.6511627906976745, 0.6444444444444445, 0.6428571428571429, 0.6136363636363636, 0.6046511627906976, 0.7, 0.48571428571428577, 0.5609756097560975, 0.4871794871794872, 0.5263157894736842, 0.5263157894736842, 0.5135135135135136, 0.5750000000000001, 0.525, 0.525, 0.5897435897435898, 0.5405405405405405, 0.5581395348837209, 0.4285714285714286, 0.44736842105263164, 0.5263157894736842, 0.5135135135135136, 0.525, 0.5121951219512195, 0.5238095238095238, 0.5609756097560975, 0.6511627906976745, 0.6444444444444445, 0.6428571428571429, 0.6136363636363636, 0.6046511627906976, 0.7, 0.48571428571428577, 0.5609756097560975, 0.4871794871794872, 0.5263157894736842, 0.5263157894736842, 0.5135135135135136, 0.5750000000000001, 0.525, 0.525, 0.5897435897435898, 0.5405405405405405, 0.5581395348837209, 0.4285714285714286, 0.44736842105263164, 0.5263157894736842, 0.5135135135135136, 0.525, 0.5121951219512195, 0.5238095238095238, 0.5609756097560975, 0.6511627906976745, 0.6444444444444445]\n",
      "[0.0, 0.28048780487804875, 0.0, 0.0, 0.0, 0.0, 0.5750000000000001, 0.0, 0.2625, 0.2948717948717949, 0.0, 0.5581395348837209, 0.0, 0.22368421052631582, 0.2631578947368421, 0.2567567567567568, 0.2625, 0.0, 0.2619047619047619, 0.28048780487804875, 0.32558139534883723, 0.0, 0.32142857142857145, 0.3068181818181818, 0.3023255813953488, 0.7, 0.0, 0.28048780487804875, 0.0, 0.0, 0.0, 0.0, 0.5750000000000001, 0.0, 0.2625, 0.2948717948717949, 0.0, 0.5581395348837209, 0.0, 0.22368421052631582, 0.2631578947368421, 0.2567567567567568, 0.2625, 0.0, 0.2619047619047619, 0.28048780487804875, 0.32558139534883723, 0.0, 0.32142857142857145, 0.3068181818181818, 0.3023255813953488, 0.7, 0.0, 0.28048780487804875, 0.0, 0.0, 0.0, 0.0, 0.5750000000000001, 0.0, 0.2625, 0.2948717948717949, 0.0, 0.5581395348837209, 0.0, 0.22368421052631582, 0.2631578947368421, 0.2567567567567568, 0.2625, 0.0, 0.2619047619047619, 0.28048780487804875, 0.32558139534883723, 0.0, 0.32142857142857145, 0.3068181818181818, 0.3023255813953488, 0.7, 0.0, 0.28048780487804875, 0.0, 0.0, 0.0, 0.0, 0.5750000000000001, 0.0, 0.2625, 0.2948717948717949, 0.0, 0.5581395348837209, 0.0, 0.22368421052631582, 0.2631578947368421, 0.2567567567567568, 0.2625, 0.0, 0.2619047619047619, 0.28048780487804875, 0.32558139534883723, 0.0]\n"
     ]
    },
    {
     "output_type": "execute_result",
     "data": {
      "text/plain": [
       "array([[ 1,  8, 11, ...,  7,  3,  5],\n",
       "       [ 1,  9,  6, ...,  0, 11,  0],\n",
       "       [ 1, 10, 12, ...,  7,  6,  4],\n",
       "       ...,\n",
       "       [ 1,  4, 10, ...,  0,  9,  6],\n",
       "       [ 1,  0,  0, ...,  7, 10, 12],\n",
       "       [ 1,  3,  5, ...,  0,  0,  2]])"
      ]
     },
     "metadata": {},
     "execution_count": 339
    }
   ],
   "metadata": {}
  },
  {
   "cell_type": "markdown",
   "source": [
    "# Remove worst members of the antibodies pool (RECEPTOR EDITING)"
   ],
   "metadata": {}
  },
  {
   "cell_type": "markdown",
   "source": [
    "\"After mutation processes, the\r\n",
    "antibodies that have worse efficacy values are erased (worst\r\n",
    "%B of the whole population)\""
   ],
   "metadata": {}
  },
  {
   "cell_type": "code",
   "execution_count": 340,
   "source": [
    "def receptor_editing(antibodies_pool,efficacies,affinities, B):\r\n",
    "    amount_antibodies = round(len(efficacies)*B)\r\n",
    "    print(\"Se han borrado {} anticuerpos\".format(amount_antibodies))\r\n",
    "    positions = [i\r\n",
    "        for x, i\r\n",
    "        in heapq.nsmallest(\r\n",
    "            amount_antibodies,\r\n",
    "            ((x, i) for i, x in enumerate(efficacies)))]\r\n",
    "    # print(positions)\r\n",
    "    antibodies_pool = np.delete(antibodies_pool, positions, axis=0)\r\n",
    "    efficacies = np.delete(efficacies, positions, axis=0)\r\n",
    "    affinities = np.delete(affinities, positions, axis=0)\r\n",
    "    return antibodies_pool, efficacies, affinities, amount_antibodies"
   ],
   "outputs": [],
   "metadata": {}
  },
  {
   "cell_type": "code",
   "execution_count": 341,
   "source": [
    "B = 0.5\r\n",
    "antibodies, efficacies, affinities, amount_antibodies_erased = receptor_editing(antibodies_pool = antibodies, \r\n",
    "                                                                                efficacies = efficacies, \r\n",
    "                                                                                affinities=affinities, \r\n",
    "                                                                                B = B)\r\n",
    "antibodies"
   ],
   "outputs": [
    {
     "output_type": "stream",
     "name": "stdout",
     "text": [
      "Se han borrado 50 anticuerpos\n"
     ]
    },
    {
     "output_type": "execute_result",
     "data": {
      "text/plain": [
       "array([[ 1,  9,  6,  3,  4,  2,  7, 10,  0,  5, 12,  8,  0,  0, 11,  0],\n",
       "       [ 1,  4, 10,  8, 12,  5,  0,  0,  3, 11,  0,  0,  2,  7,  9,  6],\n",
       "       [ 1, 11,  0,  0,  9,  0,  7,  6, 12,  2,  4,  3, 10,  0,  5,  8],\n",
       "       [ 1,  6,  4,  5, 10,  3,  0, 12,  2,  8,  0, 11,  0,  7,  0,  9],\n",
       "       [ 1, 12,  0,  0,  0, 11,  7,  2,  8,  9,  3,  6,  5,  0,  4, 10],\n",
       "       [ 1,  4, 10,  8, 12,  5,  7,  0,  3, 11,  0,  0,  2,  0,  9,  6],\n",
       "       [ 1,  0,  0,  9,  2,  0,  0,  3, 11,  6,  5,  4,  8,  7, 10, 12],\n",
       "       [ 1,  3,  5, 10,  8,  4,  7, 11,  6, 12,  0,  0,  9,  0,  0,  2],\n",
       "       [ 1, 11,  0,  0,  9,  0,  0,  6, 12,  2,  4,  3, 10,  7,  5,  8],\n",
       "       [ 1,  6,  4,  5, 10,  3,  7, 12,  2,  8,  0, 11,  0,  0,  0,  9],\n",
       "       [ 1, 12,  0,  0,  0, 11,  0,  2,  8,  9,  3,  6,  5,  7,  4, 10],\n",
       "       [ 1,  2,  3,  4,  5,  6,  7,  8,  9, 10, 11, 12,  0,  0,  0,  0],\n",
       "       [ 1,  9,  6,  3,  4,  2,  7, 10,  0,  5, 12,  8,  0,  0, 11,  0],\n",
       "       [ 1,  4, 10,  8, 12,  5,  0,  0,  3, 11,  0,  0,  2,  7,  9,  6],\n",
       "       [ 1, 11,  0,  0,  9,  0,  7,  6, 12,  2,  4,  3, 10,  0,  5,  8],\n",
       "       [ 1,  6,  4,  5, 10,  3,  0, 12,  2,  8,  0, 11,  0,  7,  0,  9],\n",
       "       [ 1, 12,  0,  0,  0, 11,  7,  2,  8,  9,  3,  6,  5,  0,  4, 10],\n",
       "       [ 1,  4, 10,  8, 12,  5,  7,  0,  3, 11,  0,  0,  2,  0,  9,  6],\n",
       "       [ 1,  0,  0,  9,  2,  0,  0,  3, 11,  6,  5,  4,  8,  7, 10, 12],\n",
       "       [ 1,  3,  5, 10,  8,  4,  7, 11,  6, 12,  0,  0,  9,  0,  0,  2],\n",
       "       [ 1, 11,  0,  0,  9,  0,  0,  6, 12,  2,  4,  3, 10,  7,  5,  8],\n",
       "       [ 1,  6,  4,  5, 10,  3,  7, 12,  2,  8,  0, 11,  0,  0,  0,  9],\n",
       "       [ 1, 12,  0,  0,  0, 11,  0,  2,  8,  9,  3,  6,  5,  7,  4, 10],\n",
       "       [ 1,  2,  3,  4,  5,  6,  7,  8,  9, 10, 11, 12,  0,  0,  0,  0],\n",
       "       [ 1,  9,  6,  3,  4,  2,  7, 10,  0,  5, 12,  8,  0,  0, 11,  0],\n",
       "       [ 1,  0,  2,  6,  3,  9,  7,  5,  0,  4,  8, 10, 11,  0, 12,  0],\n",
       "       [ 1,  5,  8, 12, 11, 10,  0,  0,  4,  0,  9,  0,  6,  7,  2,  3],\n",
       "       [ 1,  4, 10,  8, 12,  5,  0,  0,  3, 11,  0,  0,  2,  7,  9,  6],\n",
       "       [ 1, 11,  0,  0,  9,  0,  7,  6, 12,  2,  4,  3, 10,  0,  5,  8],\n",
       "       [ 1,  6,  4,  5, 10,  3,  0, 12,  2,  8,  0, 11,  0,  7,  0,  9],\n",
       "       [ 1, 12,  0,  0,  0, 11,  7,  2,  8,  9,  3,  6,  5,  0,  4, 10],\n",
       "       [ 1,  9,  6,  3,  4,  2,  0, 10,  0,  5, 12,  8,  0,  7, 11,  0],\n",
       "       [ 1,  4, 10,  8, 12,  5,  7,  0,  3, 11,  0,  0,  2,  0,  9,  6],\n",
       "       [ 1,  0,  0,  9,  2,  0,  0,  3, 11,  6,  5,  4,  8,  7, 10, 12],\n",
       "       [ 1,  3,  5, 10,  8,  4,  7, 11,  6, 12,  0,  0,  9,  0,  0,  2],\n",
       "       [ 1, 11,  0,  0,  9,  0,  0,  6, 12,  2,  4,  3, 10,  7,  5,  8],\n",
       "       [ 1,  6, 12,  5, 10,  3,  7,  4,  2,  8,  0, 11,  0,  0,  0,  9],\n",
       "       [ 1, 12,  0,  0,  0, 11,  0,  2,  8,  9,  3,  6,  5,  7,  4, 10],\n",
       "       [ 1,  2,  3,  4,  5,  6,  7,  8,  9, 10, 11, 12,  0,  0,  0,  0],\n",
       "       [ 1,  9,  6,  3,  4,  2,  7, 10,  0,  5, 12,  8,  0,  0, 11,  0],\n",
       "       [ 1,  0,  2,  6,  3,  9,  7,  5,  0,  4,  8, 10, 11,  0, 12,  0],\n",
       "       [ 1,  5,  8, 12, 11, 10,  0,  0,  4,  0,  9,  0,  6,  7,  2,  3],\n",
       "       [ 1,  4, 10,  8, 12,  5,  0,  0,  3, 11,  0,  0,  2,  7,  9,  6],\n",
       "       [ 1, 11,  0,  0,  9,  0,  7,  6, 12,  2,  4,  3, 10,  0,  5,  8],\n",
       "       [ 1,  6,  4,  5, 10,  3,  0, 12,  2,  8,  0, 11,  0,  7,  0,  9],\n",
       "       [ 1, 12,  0,  0,  0, 11,  7,  2,  8,  9,  3,  6,  5,  0,  4, 10],\n",
       "       [ 1,  9,  6,  3,  4,  2,  0, 10,  0,  5, 12,  8,  0,  7, 11,  0],\n",
       "       [ 1,  4, 10,  8, 12,  5,  7,  0,  3, 11,  0,  0,  2,  0,  9,  6],\n",
       "       [ 1,  0,  0,  9,  2,  0,  0,  3, 11,  6,  5,  4,  8,  7, 10, 12],\n",
       "       [ 1,  3,  5, 10,  8,  4,  7, 11,  6, 12,  0,  0,  9,  0,  0,  2]])"
      ]
     },
     "metadata": {},
     "execution_count": 341
    }
   ],
   "metadata": {}
  },
  {
   "cell_type": "markdown",
   "source": [
    "# New Random antibodies into the population"
   ],
   "metadata": {}
  },
  {
   "cell_type": "markdown",
   "source": [
    "\"Then, same percent of new\r\n",
    "antibodies are randomly generated\"\r\n",
    "\r\n",
    "La pregunta es la misma cantidad de anticuerpos que hemos borrado en el apartado anterior o el mismo porcentaje (B) sobre la nueva población que se ha visto disminuida por el receptor editing."
   ],
   "metadata": {}
  },
  {
   "cell_type": "code",
   "execution_count": 342,
   "source": [
    "number_new_random_antibodies = amount_antibodies_erased\r\n",
    "\r\n",
    "new_random_antibodies = generation_initial_population(p = p, \r\n",
    "                                                    m = m, \r\n",
    "                                                    population_size = number_new_random_antibodies, \r\n",
    "                                                    seed = 1995)\r\n",
    "print(new_random_antibodies)\r\n",
    "\r\n",
    "antibodies = np.concatenate((antibodies, new_random_antibodies), axis = 0)\r\n",
    "antibodies"
   ],
   "outputs": [
    {
     "output_type": "stream",
     "name": "stdout",
     "text": [
      "[[ 1  8 11  0  0 12  0  9 10  0  6  2  4  7  3  5]\n",
      " [ 1  9  6  3  4  2  7 10  0  5 12  8  0  0 11  0]\n",
      " [ 1 10 12 11  0  8  0  0  5  0  2  9  3  7  6  4]\n",
      " [ 1  0  2  6  3  9  7  5  0  4  8 10 11  0 12  0]\n",
      " [ 1  5  8 12 11 10  0  0  4  0  9  0  6  7  2  3]\n",
      " [ 1  0  9  2  6  0  7  4  0  3 10  5 12  0  8 11]\n",
      " [ 1  4 10  8 12  5  0  0  3 11  0  0  2  7  9  6]\n",
      " [ 1  0  0  9  2  0  7  3 11  6  5  4  8  0 10 12]\n",
      " [ 1  3  5 10  8  4  0 11  6 12  0  0  9  7  0  2]\n",
      " [ 1 11  0  0  9  0  7  6 12  2  4  3 10  0  5  8]\n",
      " [ 1  6  4  5 10  3  0 12  2  8  0 11  0  7  0  9]\n",
      " [ 1 12  0  0  0 11  7  2  8  9  3  6  5  0  4 10]\n",
      " [ 1  2  3  4  5  6  0  8  9 10 11 12  0  7  0  0]\n",
      " [ 1  8 11  0  0 12  7  9 10  0  6  2  4  0  3  5]\n",
      " [ 1  9  6  3  4  2  0 10  0  5 12  8  0  7 11  0]\n",
      " [ 1 10 12 11  0  8  7  0  5  0  2  9  3  0  6  4]\n",
      " [ 1  0  2  6  3  9  0  5  0  4  8 10 11  7 12  0]\n",
      " [ 1  5  8 12 11 10  7  0  4  0  9  0  6  0  2  3]\n",
      " [ 1  0  9  2  6  0  0  4  0  3 10  5 12  7  8 11]\n",
      " [ 1  4 10  8 12  5  7  0  3 11  0  0  2  0  9  6]\n",
      " [ 1  0  0  9  2  0  0  3 11  6  5  4  8  7 10 12]\n",
      " [ 1  3  5 10  8  4  7 11  6 12  0  0  9  0  0  2]\n",
      " [ 1 11  0  0  9  0  0  6 12  2  4  3 10  7  5  8]\n",
      " [ 1  6  4  5 10  3  7 12  2  8  0 11  0  0  0  9]\n",
      " [ 1 12  0  0  0 11  0  2  8  9  3  6  5  7  4 10]\n",
      " [ 1  2  3  4  5  6  7  8  9 10 11 12  0  0  0  0]\n",
      " [ 1  8 11  0  0 12  0  9 10  0  6  2  4  7  3  5]\n",
      " [ 1  9  6  3  4  2  7 10  0  5 12  8  0  0 11  0]\n",
      " [ 1 10 12 11  0  8  0  0  5  0  2  9  3  7  6  4]\n",
      " [ 1  0  2  6  3  9  7  5  0  4  8 10 11  0 12  0]\n",
      " [ 1  5  8 12 11 10  0  0  4  0  9  0  6  7  2  3]\n",
      " [ 1  0  9  2  6  0  7  4  0  3 10  5 12  0  8 11]\n",
      " [ 1  4 10  8 12  5  0  0  3 11  0  0  2  7  9  6]\n",
      " [ 1  0  0  9  2  0  7  3 11  6  5  4  8  0 10 12]\n",
      " [ 1  3  5 10  8  4  0 11  6 12  0  0  9  7  0  2]\n",
      " [ 1 11  0  0  9  0  7  6 12  2  4  3 10  0  5  8]\n",
      " [ 1  6  4  5 10  3  0 12  2  8  0 11  0  7  0  9]\n",
      " [ 1 12  0  0  0 11  7  2  8  9  3  6  5  0  4 10]\n",
      " [ 1  2  3  4  5  6  0  8  9 10 11 12  0  7  0  0]\n",
      " [ 1  8 11  0  0 12  7  9 10  0  6  2  4  0  3  5]\n",
      " [ 1  9  6  3  4  2  0 10  0  5 12  8  0  7 11  0]\n",
      " [ 1 10 12 11  0  8  7  0  5  0  2  9  3  0  6  4]\n",
      " [ 1  0  2  6  3  9  0  5  0  4  8 10 11  7 12  0]\n",
      " [ 1  5  8 12 11 10  7  0  4  0  9  0  6  0  2  3]\n",
      " [ 1  0  9  2  6  0  0  4  0  3 10  5 12  7  8 11]\n",
      " [ 1  4 10  8 12  5  7  0  3 11  0  0  2  0  9  6]\n",
      " [ 1  0  0  9  2  0  0  3 11  6  5  4  8  7 10 12]\n",
      " [ 1  3  5 10  8  4  7 11  6 12  0  0  9  0  0  2]\n",
      " [ 1 11  0  0  9  0  0  6 12  2  4  3 10  7  5  8]\n",
      " [ 1  6  4  5 10  3  7 12  2  8  0 11  0  0  0  9]]\n"
     ]
    },
    {
     "output_type": "execute_result",
     "data": {
      "text/plain": [
       "array([[ 1,  9,  6, ...,  0, 11,  0],\n",
       "       [ 1,  4, 10, ...,  7,  9,  6],\n",
       "       [ 1, 11,  0, ...,  0,  5,  8],\n",
       "       ...,\n",
       "       [ 1,  3,  5, ...,  0,  0,  2],\n",
       "       [ 1, 11,  0, ...,  7,  5,  8],\n",
       "       [ 1,  6,  4, ...,  0,  0,  9]])"
      ]
     },
     "metadata": {},
     "execution_count": 342
    }
   ],
   "metadata": {}
  },
  {
   "cell_type": "markdown",
   "source": [
    "# Stopping criteria"
   ],
   "metadata": {}
  },
  {
   "cell_type": "code",
   "execution_count": null,
   "source": [],
   "outputs": [],
   "metadata": {}
  },
  {
   "cell_type": "markdown",
   "source": [],
   "metadata": {}
  }
 ],
 "metadata": {
  "orig_nbformat": 4,
  "language_info": {
   "name": "python",
   "version": "3.8.8",
   "mimetype": "text/x-python",
   "codemirror_mode": {
    "name": "ipython",
    "version": 3
   },
   "pygments_lexer": "ipython3",
   "nbconvert_exporter": "python",
   "file_extension": ".py"
  },
  "kernelspec": {
   "name": "python3",
   "display_name": "Python 3.8.8 64-bit ('base': conda)"
  },
  "interpreter": {
   "hash": "b3ba2566441a7c06988d0923437866b63cedc61552a5af99d1f4fb67d367b25f"
  }
 },
 "nbformat": 4,
 "nbformat_minor": 2
}