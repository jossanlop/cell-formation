{
 "cells": [
  {
   "cell_type": "code",
   "execution_count": 914,
   "source": [
    "import numpy as np\r\n",
    "import pandas as pd\r\n",
    "import heapq"
   ],
   "outputs": [],
   "metadata": {}
  },
  {
   "cell_type": "code",
   "execution_count": 915,
   "source": [
    "data = 'data/instances/testset_a/5x7_Waghodekar_Sahu(1984)[Problem-2].txt'\r\n",
    "# data = 'data/instances/testset_a/30x50_Stanfel(1985)[Figure-5].txt'\r\n",
    "log = False\r\n",
    "R = 0.5\r\n",
    "B = 0.5"
   ],
   "outputs": [],
   "metadata": {}
  },
  {
   "cell_type": "markdown",
   "source": [
    "# Generation of initial population of random antibodies"
   ],
   "metadata": {}
  },
  {
   "cell_type": "code",
   "execution_count": 916,
   "source": [
    "# m: number of machines\r\n",
    "# p: number of parts\r\n",
    "# population_size : number of antibody of the initial population\r\n",
    "# seed: seed for reproducible results\r\n",
    "def generation_initial_population(p, m, population_size):\r\n",
    "    MaxCell = min(p,m) #calculation of max number of cells\r\n",
    "    number_of_zeros = MaxCell - 1 #number of zeros in each antibody\r\n",
    "    antibodies = np.empty(shape=(population_size, p+m+number_of_zeros), dtype=int)\r\n",
    "    antibody = np.append(np.array([*range(1,p+m+1)]), np.zeros(number_of_zeros,dtype=int))\r\n",
    "    for i in range(0,population_size):\r\n",
    "        # np.random.seed(seed) \r\n",
    "        np.random.shuffle(antibody) #random positions in the array\r\n",
    "        antibodies[i] = antibody\r\n",
    "    return antibodies"
   ],
   "outputs": [],
   "metadata": {}
  },
  {
   "cell_type": "markdown",
   "source": [
    "# Evaluate all existing antibodies and compute their affinities"
   ],
   "metadata": {}
  },
  {
   "cell_type": "markdown",
   "source": [
    "Lectura de los datos del problema + Traducción del formato del dataset a matriz trabajo-estación"
   ],
   "metadata": {}
  },
  {
   "cell_type": "code",
   "execution_count": 917,
   "source": [
    "def part_machine_incidence_matrix(data):    \r\n",
    "    f = open(data,'r')\r\n",
    "    lines = [line.split('\\n') for line in f]\r\n",
    "    f.close()\r\n",
    "\r\n",
    "    m,p = [int(num) for num in lines[8][0].split(' ')] #m: number of machines, p: number of parts\r\n",
    "\r\n",
    "    machines=[] # matrix with representation of data\r\n",
    "    for i in range(9,9+m):\r\n",
    "        machine_line = []\r\n",
    "        for operation in lines[i][0].split(' '):\r\n",
    "            if operation != '': machine_line.append(int(operation))\r\n",
    "        machines.append(machine_line)\r\n",
    "    columns, rows = ['M'+str(i) for i in range(1,m+1)], ['P'+str(i) for i in range(1,p+1)]\r\n",
    "    m_p_matrix = pd.DataFrame(columns= columns, index= rows)\r\n",
    "    ones_zeros = [] #ones and zeros vector\r\n",
    "    number_of_operations = 0 #number of 'ones' in the part-machine matrix\r\n",
    "    for i in range(0,len(machines)):\r\n",
    "        aux = []\r\n",
    "        for j in range(1,p+1):\r\n",
    "            if j in machines[i]: \r\n",
    "                aux.append(1)\r\n",
    "                number_of_operations = number_of_operations +1\r\n",
    "            else: aux.append(0)\r\n",
    "        ones_zeros.append(aux) \r\n",
    "    for i in range(0,len(columns)):\r\n",
    "        m_p_matrix[columns[i]] = ones_zeros[i]\r\n",
    "\r\n",
    "    return m_p_matrix, m, p, number_of_operations, columns, rows"
   ],
   "outputs": [],
   "metadata": {}
  },
  {
   "cell_type": "code",
   "execution_count": 918,
   "source": [
    "matrix, m, p, number_of_operations, columns, rows = part_machine_incidence_matrix(data)\r\n",
    "matrix"
   ],
   "outputs": [
    {
     "output_type": "execute_result",
     "data": {
      "text/html": [
       "<div>\n",
       "<style scoped>\n",
       "    .dataframe tbody tr th:only-of-type {\n",
       "        vertical-align: middle;\n",
       "    }\n",
       "\n",
       "    .dataframe tbody tr th {\n",
       "        vertical-align: top;\n",
       "    }\n",
       "\n",
       "    .dataframe thead th {\n",
       "        text-align: right;\n",
       "    }\n",
       "</style>\n",
       "<table border=\"1\" class=\"dataframe\">\n",
       "  <thead>\n",
       "    <tr style=\"text-align: right;\">\n",
       "      <th></th>\n",
       "      <th>M1</th>\n",
       "      <th>M2</th>\n",
       "      <th>M3</th>\n",
       "      <th>M4</th>\n",
       "      <th>M5</th>\n",
       "    </tr>\n",
       "  </thead>\n",
       "  <tbody>\n",
       "    <tr>\n",
       "      <th>P1</th>\n",
       "      <td>1</td>\n",
       "      <td>0</td>\n",
       "      <td>0</td>\n",
       "      <td>1</td>\n",
       "      <td>0</td>\n",
       "    </tr>\n",
       "    <tr>\n",
       "      <th>P2</th>\n",
       "      <td>0</td>\n",
       "      <td>1</td>\n",
       "      <td>0</td>\n",
       "      <td>1</td>\n",
       "      <td>1</td>\n",
       "    </tr>\n",
       "    <tr>\n",
       "      <th>P3</th>\n",
       "      <td>0</td>\n",
       "      <td>1</td>\n",
       "      <td>1</td>\n",
       "      <td>1</td>\n",
       "      <td>0</td>\n",
       "    </tr>\n",
       "    <tr>\n",
       "      <th>P4</th>\n",
       "      <td>0</td>\n",
       "      <td>1</td>\n",
       "      <td>1</td>\n",
       "      <td>1</td>\n",
       "      <td>1</td>\n",
       "    </tr>\n",
       "    <tr>\n",
       "      <th>P5</th>\n",
       "      <td>1</td>\n",
       "      <td>1</td>\n",
       "      <td>1</td>\n",
       "      <td>0</td>\n",
       "      <td>1</td>\n",
       "    </tr>\n",
       "    <tr>\n",
       "      <th>P6</th>\n",
       "      <td>1</td>\n",
       "      <td>0</td>\n",
       "      <td>1</td>\n",
       "      <td>0</td>\n",
       "      <td>1</td>\n",
       "    </tr>\n",
       "    <tr>\n",
       "      <th>P7</th>\n",
       "      <td>1</td>\n",
       "      <td>0</td>\n",
       "      <td>0</td>\n",
       "      <td>0</td>\n",
       "      <td>0</td>\n",
       "    </tr>\n",
       "  </tbody>\n",
       "</table>\n",
       "</div>"
      ],
      "text/plain": [
       "    M1  M2  M3  M4  M5\n",
       "P1   1   0   0   1   0\n",
       "P2   0   1   0   1   1\n",
       "P3   0   1   1   1   0\n",
       "P4   0   1   1   1   1\n",
       "P5   1   1   1   0   1\n",
       "P6   1   0   1   0   1\n",
       "P7   1   0   0   0   0"
      ]
     },
     "metadata": {},
     "execution_count": 918
    }
   ],
   "metadata": {}
  },
  {
   "cell_type": "code",
   "execution_count": 919,
   "source": [
    "antibodies = generation_initial_population(p = p, m = m, population_size = 3)\r\n",
    "antibodies"
   ],
   "outputs": [
    {
     "output_type": "execute_result",
     "data": {
      "text/plain": [
       "array([[ 0,  0,  3,  1, 12,  4,  2,  8,  6,  0,  9,  0, 10,  7,  5, 11],\n",
       "       [12,  0,  0, 11, 10,  8,  2,  3,  1,  4,  5,  7,  6,  9,  0,  0],\n",
       "       [ 6,  2,  9, 10,  7, 12,  8,  4,  0,  0,  0,  3,  1,  0,  5, 11]])"
      ]
     },
     "metadata": {},
     "execution_count": 919
    }
   ],
   "metadata": {}
  },
  {
   "cell_type": "markdown",
   "source": [
    "## Decodificación de anticuerpos\r\n",
    "1er Paso: Separación de celdas."
   ],
   "metadata": {}
  },
  {
   "cell_type": "code",
   "execution_count": 920,
   "source": [
    "def cell_identification(antibodies):\r\n",
    "    total_cells = []\r\n",
    "    for antibodie in antibodies:\r\n",
    "        # print(\"antibodie\", antibodie)\r\n",
    "        flag = 1 #bandera que indica si el num anterior es un cero\r\n",
    "        cells, cell = [],[]\r\n",
    "        i = 0\r\n",
    "        for num in antibodie:\r\n",
    "            if (num == 0): \r\n",
    "                if flag == 0: \r\n",
    "                    i=i+1\r\n",
    "                    cells.append(cell)\r\n",
    "                    # print(cell)\r\n",
    "                    cell = []\r\n",
    "                flag = 1\r\n",
    "            else: \r\n",
    "                cell.append(num)\r\n",
    "                # print(num)\r\n",
    "                flag = 0\r\n",
    "                if num == antibodie[len(antibodie)-1]:\r\n",
    "                    cells.append(cell)\r\n",
    "        total_cells.append(cells)\r\n",
    "        # print(\"cells\", cells)\r\n",
    "    # print(\"list of all cells for all antibodies\",total_cells)\r\n",
    "    # print(\"cells for antibody 1\",total_cells[0])\r\n",
    "    return total_cells"
   ],
   "outputs": [],
   "metadata": {}
  },
  {
   "cell_type": "code",
   "execution_count": 921,
   "source": [
    "total_cells = cell_identification(antibodies = antibodies)\r\n",
    "total_cells[0]"
   ],
   "outputs": [
    {
     "output_type": "execute_result",
     "data": {
      "text/plain": [
       "[[3, 1, 12, 4, 2, 8, 6], [9], [10, 7, 5, 11]]"
      ]
     },
     "metadata": {},
     "execution_count": 921
    }
   ],
   "metadata": {}
  },
  {
   "cell_type": "markdown",
   "source": [
    "reorganizar filas y columnas de la matriz maquinas-trabajos en función de lo descrito por el anticuerpo"
   ],
   "metadata": {}
  },
  {
   "cell_type": "code",
   "execution_count": 922,
   "source": [
    "def decode_cells(total_cells, rows, columns, p, log):\r\n",
    "    total_machines, total_parts = [], []\r\n",
    "    for antibodie in total_cells:\r\n",
    "        # print(\"antibodie\",antibodie)\r\n",
    "        machines = []\r\n",
    "        parts = []\r\n",
    "        decoded_antibodie = antibodie\r\n",
    "        for i in range(0,len(antibodie)):\r\n",
    "            # print(antibodie[i])\r\n",
    "            for j in range(0,len(antibodie[i])):\r\n",
    "                if antibodie[i][j] <= p: \r\n",
    "                    parts.append(rows[antibodie[i][j]-1])\r\n",
    "                    decoded_antibodie[i][j] = rows[antibodie[i][j]-1]\r\n",
    "                else: \r\n",
    "                    machines.append(columns[antibodie[i][j]-p-1])\r\n",
    "                    decoded_antibodie[i][j] = columns[antibodie[i][j]-p-1]\r\n",
    "            antibodie = decoded_antibodie\r\n",
    "        total_machines.append(machines)\r\n",
    "        total_parts.append(parts)\r\n",
    "        if log: print(\"decoded antibodies\",antibodie)\r\n",
    "\r\n",
    "    return total_machines, total_parts\r\n",
    "    # print(total_machines)\r\n",
    "    # print(total_parts)"
   ],
   "outputs": [],
   "metadata": {}
  },
  {
   "cell_type": "code",
   "execution_count": 923,
   "source": [
    "total_machines, total_parts = decode_cells(total_cells=total_cells, rows=rows, columns=columns, p=p, log = log)"
   ],
   "outputs": [],
   "metadata": {}
  },
  {
   "cell_type": "markdown",
   "source": [
    "Representación de la matriz: usamos total_machines y total_parts, donde hemos colocado en orden las máquinas y los trabajos respectivamente.\r\n"
   ],
   "metadata": {}
  },
  {
   "cell_type": "code",
   "execution_count": 924,
   "source": [
    "def create_machine_part_matrix(matrix, antibodies, total_machines, total_parts):\r\n",
    "    antibody_matrices = []\r\n",
    "    for i in range(0,len(antibodies)):\r\n",
    "        antibodie_matrix = matrix.loc[:,total_machines[i]]\r\n",
    "        antibodie_matrix = antibodie_matrix.loc[total_parts[i]]\r\n",
    "        antibody_matrices.append(antibodie_matrix)\r\n",
    "    return antibody_matrices\r\n",
    "\r\n",
    "\r\n",
    "antibody_matrices = create_machine_part_matrix(matrix=matrix,\r\n",
    "                                                antibodies=antibodies, \r\n",
    "                                                total_machines=total_machines, \r\n",
    "                                                total_parts=total_parts)"
   ],
   "outputs": [],
   "metadata": {}
  },
  {
   "cell_type": "code",
   "execution_count": 925,
   "source": [
    "def evaluate_antibodies(antibody_matrices, total_cells, number_of_operations): #m and p should be added as parameters\r\n",
    "    exceptions, voids, penalties = [],[],[]\r\n",
    "    for i in range(0,len(total_cells)):\r\n",
    "        # print(\"\\n\",total_cells[i])\r\n",
    "        # print(antibody_matrices[i])\r\n",
    "        void, exception, penalty, operations_number = 0,0,0,0 #operations_number is number of 'ones' in part-machine matrix\r\n",
    "        cell_machine_flag, cell_flag_part = 0,0\r\n",
    "        for cell in total_cells[i]:\r\n",
    "            # print(cell)\r\n",
    "            machines, parts = [], []\r\n",
    "            machine_flag, part_flag = 0,0 #flag variables for calculation of penalties\r\n",
    "            for mp in cell:\r\n",
    "                if mp[0] == 'M': \r\n",
    "                    machines.append(mp)\r\n",
    "                    machine_flag = 1\r\n",
    "                    # print(machines)\r\n",
    "                if mp[0] == 'P': \r\n",
    "                    parts.append(mp)\r\n",
    "                    part_flag = 1\r\n",
    "                    # print(parts)\r\n",
    "            if machine_flag == 0: cell_machine_flag = 1\r\n",
    "            if part_flag == 0: cell_flag_part = 1\r\n",
    "            # print(i, cell_machine_flag, cell_flag_part)\r\n",
    "            for machine in machines:\r\n",
    "                for part in antibody_matrices[i].index:\r\n",
    "                    if part in parts and antibody_matrices[i][machine][part] == 0: \r\n",
    "                        void = void+1\r\n",
    "                        # print(\"void\",machine, part)\r\n",
    "                    if part not in parts and antibody_matrices[i][machine][part] == 1:\r\n",
    "                        exception = exception+1\r\n",
    "                        # print(\"exception\",machine, part)\r\n",
    "            # print(void, exception)\r\n",
    "            # print(\"\\n\")\r\n",
    "        voids.append(void)\r\n",
    "        exceptions.append(exception)\r\n",
    "        penalty = 0.5 * (cell_machine_flag + cell_flag_part)\r\n",
    "        # print(penalty)\r\n",
    "        penalties.append(penalty)\r\n",
    "    # print(\"voids\",voids)\r\n",
    "    # print(\"exceptions\",exceptions)\r\n",
    "    efficacies, affinities = [], []\r\n",
    "    # matrix_dimension = m*p\r\n",
    "    for i in range(0,len(total_cells)):\r\n",
    "        exceptions_ratio = exceptions[i]/number_of_operations\r\n",
    "        voids_ratio = voids[i]/number_of_operations\r\n",
    "        efficacy= (1-exceptions_ratio)/(1+voids_ratio)\r\n",
    "        # efficacies.append(efficacy)\r\n",
    "        efficacies.append(efficacy - efficacy * penalties[i])\r\n",
    "        affinities.append(efficacy - efficacy * penalties[i])\r\n",
    "    return efficacies, affinities, voids, exceptions\r\n"
   ],
   "outputs": [],
   "metadata": {}
  },
  {
   "cell_type": "code",
   "execution_count": 926,
   "source": [
    "efficacies, affinities, voids, exceptions = evaluate_antibodies(antibody_matrices = antibody_matrices, \r\n",
    "                                                                total_cells=total_cells,\r\n",
    "                                                                number_of_operations=number_of_operations)\r\n",
    "print(efficacies)\r\n",
    "print(affinities)\r\n",
    "# affinities[1] = 0.5\r\n",
    "# affinities[5] = 0.6"
   ],
   "outputs": [
    {
     "output_type": "stream",
     "name": "stdout",
     "text": [
      "[0.10714285714285716, 0.25, 0.1607142857142857]\n",
      "[0.10714285714285716, 0.25, 0.1607142857142857]\n"
     ]
    }
   ],
   "metadata": {}
  },
  {
   "cell_type": "markdown",
   "source": [
    "# Select N% of antibodies with highest affinities & Clone selected antibodies"
   ],
   "metadata": {}
  },
  {
   "cell_type": "markdown",
   "source": [
    "con el parámetro p de probabilities de np.random.choice podemos pasar un vector de probabilidades para el sampleo"
   ],
   "metadata": {}
  },
  {
   "cell_type": "code",
   "execution_count": 927,
   "source": [
    "def antibodies_selection(antibodies, N, affinities):\r\n",
    "    population_pool = len(antibodies)\r\n",
    "    # special treatment if all affinities are 0:\r\n",
    "    if np.count_nonzero(affinities): #if there are non-zero values, we calculate normally de selection probabilities\r\n",
    "        sel_probabilities = affinities/np.sum(affinities) #selection probabilities\r\n",
    "    else: #if all affinity values are zero, then we set equal probabilities to the whole population.\r\n",
    "        sel_probabilities = np.ones(len(affinities))\r\n",
    "        # print(sel_probabilities)\r\n",
    "        sel_probabilities = sel_probabilities/np.sum(sel_probabilities)\r\n",
    "        # print(sel_probabilities)\r\n",
    "\r\n",
    "    size = round(population_pool*N)\r\n",
    "    nonzero_affinities = np.count_nonzero(sel_probabilities)\r\n",
    "    if nonzero_affinities < size: # if there are more antibodies to be selected than affinities different from zero\r\n",
    "        # print(\"MORE antibodies to be selected than affinities different from zero\")\r\n",
    "        # print(sel_probabilities)\r\n",
    "        # print(\"number of antibodies to be selected\",type(nonzero_affinities))\r\n",
    "        # print(nonzero_affinities)\r\n",
    "        positions_antibodies_selected = np.random.choice(population_pool, size=int(nonzero_affinities), replace=False, p = sel_probabilities)\r\n",
    "        sel_probabilities[:] = 1\r\n",
    "        sel_probabilities[positions_antibodies_selected] = 0\r\n",
    "        sel_probabilities = sel_probabilities/np.sum(sel_probabilities)\r\n",
    "        # print(\"new probabilities\",sel_probabilities)\r\n",
    "        add_number_of_antibodies = size - nonzero_affinities\r\n",
    "        add_positions_antibodies_selected = np.random.choice(population_pool, size=int(add_number_of_antibodies), replace=False, p = sel_probabilities)\r\n",
    "        positions_antibodies_selected = np.concatenate((positions_antibodies_selected, add_positions_antibodies_selected), axis = 0)\r\n",
    "        antibodies_selected = antibodies[positions_antibodies_selected.tolist()]\r\n",
    "        # return print(\"¡¡ERROR!! en la selección inicial de anticuerpos. INSUFICIENTES ANTICUERPOS CON AFINIDAD > 1\")\r\n",
    "        return antibodies_selected, positions_antibodies_selected\r\n",
    "    else:\r\n",
    "        # print(\"LESS antibodies to be selected than affinities different from zero\")\r\n",
    "        # print(sel_probabilities)\r\n",
    "        # print(size)\r\n",
    "        # print(type(size))\r\n",
    "        positions_antibodies_selected = np.random.choice(population_pool, size=int(size), replace=False, p = sel_probabilities)\r\n",
    "        antibodies_selected = antibodies[positions_antibodies_selected.tolist()]\r\n",
    "        return antibodies_selected, positions_antibodies_selected\r\n",
    "\r\n",
    "N = np.random.rand(1)\r\n",
    "print(\"N% =\",N[0])\r\n",
    "cloned_antibodies, positions_antibodies_selected = antibodies_selection(antibodies=antibodies, N=N[0], affinities= affinities)\r\n",
    "\r\n",
    "positions_antibodies_selected"
   ],
   "outputs": [
    {
     "output_type": "stream",
     "name": "stdout",
     "text": [
      "N% = 0.4528873795762638\n"
     ]
    },
    {
     "output_type": "execute_result",
     "data": {
      "text/plain": [
       "array([1])"
      ]
     },
     "metadata": {},
     "execution_count": 927
    }
   ],
   "metadata": {}
  },
  {
   "cell_type": "code",
   "execution_count": 928,
   "source": [
    "# def antibodies_selection_v2(antibodies, N, affinities):\r\n",
    "#     positions_antibodies_selected = []\r\n",
    "#     if np.count_nonzero(affinities):\r\n",
    "#         sel_probabilities = affinities/np.sum(affinities) #selection probabilities\r\n",
    "#     else:\r\n",
    "#         sel_probabilities = np.ones(len(affinities))\r\n",
    "#         sel_probabilities = sel_probabilities/np.sum(sel_probabilities)\r\n",
    "#     print(sel_probabilities)\r\n",
    "#     for i in range(0,len(sel_probabilities)):\r\n",
    "#         if N < sel_probabilities[i]: \r\n",
    "#                 positions_antibodies_selected.append(i)\r\n",
    "#     antibodies_selected = antibodies[(positions_antibodies_selected)]        \r\n",
    "#     return antibodies_selected, positions_antibodies_selected\r\n",
    "\r\n",
    "# N = np.random.rand(1)\r\n",
    "# print(\"N% =\",N[0])\r\n",
    "# cloned_antibodies, positions_antibodies_selected = antibodies_selection_v2(antibodies=antibodies, N=N[0], affinities= affinities)\r\n",
    "\r\n",
    "# print(\"positions of selected antibodies\",positions_antibodies_selected)"
   ],
   "outputs": [],
   "metadata": {}
  },
  {
   "cell_type": "code",
   "execution_count": 929,
   "source": [
    "def antibodies_selection_v3(antibodies, N, affinities):\r\n",
    "    # print(affinities)\r\n",
    "    positions_antibodies_selected = []\r\n",
    "    if not np.count_nonzero(affinities): \r\n",
    "        sel_probabilities = np.ones(len(affinities)) #solventamos el caso en el que todas las afinidades sean 0\r\n",
    "    else: \r\n",
    "        sel_probabilities = []\r\n",
    "    affinities = pd.Series(affinities).sort_values()\r\n",
    "    # print(affinities)\r\n",
    "    total_affinity = np.sum(affinities)\r\n",
    "    # print(\"tota_affinity\", total_affinity)\r\n",
    "    sel_probabilities.append(affinities[0]/total_affinity)\r\n",
    "    # print(\"valor inicial\",sel_probabilities[0])\r\n",
    "    for i in range(1,len(affinities)):\r\n",
    "        sel_probabilities.append(sel_probabilities[i-1] + affinities[i]/np.sum(affinities))\r\n",
    "    # print(sel_probabilities)\r\n",
    "    for i in range(0,len(sel_probabilities)):\r\n",
    "        if N < sel_probabilities[i]: \r\n",
    "            positions_antibodies_selected.append(affinities.index[i])\r\n",
    "    antibodies_selected = antibodies[(positions_antibodies_selected)]        \r\n",
    "    return antibodies_selected, np.array(positions_antibodies_selected)\r\n",
    "N = np.random.rand(1)\r\n",
    "print(\"N% =\",N[0])\r\n",
    "cloned_antibodies, positions_antibodies_selected = antibodies_selection_v3(antibodies=antibodies, N=N[0], affinities= affinities)\r\n",
    "positions_antibodies_selected"
   ],
   "outputs": [
    {
     "output_type": "stream",
     "name": "stdout",
     "text": [
      "N% = 0.06822617071774018\n"
     ]
    },
    {
     "output_type": "execute_result",
     "data": {
      "text/plain": [
       "array([0, 2, 1], dtype=int64)"
      ]
     },
     "metadata": {},
     "execution_count": 929
    }
   ],
   "metadata": {}
  },
  {
   "cell_type": "code",
   "execution_count": 930,
   "source": [
    "positions_antibodies_selected"
   ],
   "outputs": [
    {
     "output_type": "execute_result",
     "data": {
      "text/plain": [
       "array([0, 2, 1], dtype=int64)"
      ]
     },
     "metadata": {},
     "execution_count": 930
    }
   ],
   "metadata": {}
  },
  {
   "cell_type": "code",
   "execution_count": 931,
   "source": [
    "random_number = 0.6\r\n",
    "if random_number < 0.1:\r\n",
    "    print(1)\r\n",
    "elif random_number < 0.3: # 0.3 − 0.1 = 0.2 probability\r\n",
    "    print(2)\r\n",
    "elif random_number < 0.6: # 0.6 − 0.3 = 0.3 probability\r\n",
    "    print(3)\r\n",
    "elif random_number < 1.0: # 1.0 − 0.6 = 0.4 probability\r\n",
    "    print(4)"
   ],
   "outputs": [
    {
     "output_type": "stream",
     "name": "stdout",
     "text": [
      "4\n"
     ]
    }
   ],
   "metadata": {}
  },
  {
   "cell_type": "markdown",
   "source": [
    "# Mutation operator"
   ],
   "metadata": {}
  },
  {
   "cell_type": "markdown",
   "source": [
    "## Maturate cloned antibodies"
   ],
   "metadata": {}
  },
  {
   "cell_type": "code",
   "execution_count": 932,
   "source": [
    "def mutate_cloned_antibodies(cloned_antibodies, log):\r\n",
    "    for antibodie in cloned_antibodies:\r\n",
    "        # print(antibodie)\r\n",
    "        positions = np.random.choice(len(antibodie),size=2,replace=False)\r\n",
    "        # print(positions)\r\n",
    "        antibodie[positions[0]], antibodie[positions[1]] = antibodie[positions[1]], antibodie[positions[0]]\r\n",
    "    if log: return cloned_antibodies\r\n",
    "    else: return"
   ],
   "outputs": [],
   "metadata": {}
  },
  {
   "cell_type": "code",
   "execution_count": 933,
   "source": [
    "mutate_cloned_antibodies(cloned_antibodies = cloned_antibodies, log= log)"
   ],
   "outputs": [],
   "metadata": {}
  },
  {
   "cell_type": "markdown",
   "source": [
    "## Evaluate cloned antibodies"
   ],
   "metadata": {}
  },
  {
   "cell_type": "code",
   "execution_count": 934,
   "source": [
    "cloned_total_cells = cell_identification(cloned_antibodies)"
   ],
   "outputs": [],
   "metadata": {}
  },
  {
   "cell_type": "code",
   "execution_count": 935,
   "source": [
    "cloned_total_machines, cloned_total_parts = decode_cells(total_cells=cloned_total_cells, rows=rows, columns=columns, p=p, log = log)"
   ],
   "outputs": [],
   "metadata": {}
  },
  {
   "cell_type": "code",
   "execution_count": 936,
   "source": [
    "cloned_antibody_matrices = create_machine_part_matrix(matrix = matrix,\r\n",
    "                                                        antibodies=cloned_antibodies, \r\n",
    "                                                        total_machines = cloned_total_machines, \r\n",
    "                                                        total_parts= cloned_total_parts)"
   ],
   "outputs": [],
   "metadata": {}
  },
  {
   "cell_type": "code",
   "execution_count": 937,
   "source": [
    "cloned_efficacies, cloned_affinities, cloned_voids, cloned_exceptions = evaluate_antibodies(cloned_antibody_matrices,\r\n",
    "                                                                                           cloned_total_cells,\r\n",
    "                                                                                           number_of_operations)\r\n",
    "print(\"Pool\\n\",antibodies)\r\n",
    "print(efficacies)\r\n",
    "print(affinities)\r\n",
    "\r\n",
    "print(\"\\nCloned\\n\",cloned_antibodies)\r\n",
    "print(cloned_efficacies)\r\n",
    "print(cloned_affinities)"
   ],
   "outputs": [
    {
     "output_type": "stream",
     "name": "stdout",
     "text": [
      "Pool\n",
      " [[ 0  0  3  1 12  4  2  8  6  0  9  0 10  7  5 11]\n",
      " [12  0  0 11 10  8  2  3  1  4  5  7  6  9  0  0]\n",
      " [ 6  2  9 10  7 12  8  4  0  0  0  3  1  0  5 11]]\n",
      "[0.10714285714285716, 0.25, 0.1607142857142857]\n",
      "[0.10714285714285716, 0.25, 0.1607142857142857]\n",
      "\n",
      "Cloned\n",
      " [[ 0  0  3  1 12  4  2 10  6  0  9  0  8  7  5 11]\n",
      " [ 6  2  7 10  9 12  8  4  0  0  0  3  1  0  5 11]\n",
      " [12  0  0 11 10  6  2  3  1  4  5  7  8  9  0  0]]\n",
      "[0.15384615384615385, 0.1607142857142857, 0.25]\n",
      "[0.15384615384615385, 0.1607142857142857, 0.25]\n"
     ]
    }
   ],
   "metadata": {}
  },
  {
   "cell_type": "markdown",
   "source": [
    "## Add R% of best cloned antibodies to the pool of antibodies"
   ],
   "metadata": {}
  },
  {
   "cell_type": "markdown",
   "source": [
    "select the R% of best cloned antibodies and adds them to the pool of antibodies"
   ],
   "metadata": {}
  },
  {
   "cell_type": "code",
   "execution_count": 938,
   "source": [
    "def select_best_cloned_antibodies(antibodies, cloned_antibodies, efficacies, \r\n",
    "                                    cloned_efficacies,\r\n",
    "                                    affinities,\r\n",
    "                                    cloned_affinities, \r\n",
    "                                    R, \r\n",
    "                                    positions_antibodies_selected,\r\n",
    "                                    log):\r\n",
    "    #if antibody efficacy improves after mutation, we keep the mutated antibody, otherwise we dismiss it.\r\n",
    "    for i in range(0,len(cloned_antibodies)):\r\n",
    "        if cloned_efficacies[i] < efficacies[(positions_antibodies_selected[i])]:\r\n",
    "            if log: print(\"\\nclon {} presenta peor eficacia al ser mutado\".format(cloned_antibodies[i]))\r\n",
    "            if log: print(\"eficacia clon mutado\",cloned_efficacies[i])\r\n",
    "            if log: print(\"eficacia clon sin mutar\",efficacies[(positions_antibodies_selected[i])])\r\n",
    "            cloned_antibodies[i] = antibodies[(positions_antibodies_selected[i])]\r\n",
    "            cloned_efficacies[i] = efficacies[(positions_antibodies_selected[i])]\r\n",
    "            cloned_affinities[i] = affinities[(positions_antibodies_selected[i])]\r\n",
    "            # print(\"Conservamos el clon {} original\".format(cloned_antibodies[i]))\r\n",
    "\r\n",
    "    # second part of the function: select R% of the best (efficacy) cloned antibodies\r\n",
    "    amount_selected_antibodies = round(len(cloned_efficacies)*R)\r\n",
    "    if log: print(\"\\n{} antibodies were selected and updated in the pool\".format(amount_selected_antibodies))\r\n",
    "    positions = [i #positions of best R% of selected antibodies\r\n",
    "        for x, i\r\n",
    "        in heapq.nlargest(\r\n",
    "            amount_selected_antibodies,\r\n",
    "            ((x, i) for i, x in enumerate(cloned_efficacies)))]\r\n",
    "    print(positions)\r\n",
    "    if log: print(\"Positions in the pool of updated antibodies\",positions_antibodies_selected[(positions)])\r\n",
    "    for i in range(0,amount_selected_antibodies):\r\n",
    "        antibodies[(positions_antibodies_selected[(positions[i])])] = cloned_antibodies[(positions[i])]\r\n",
    "        efficacies[(positions_antibodies_selected[(positions[i])])] = cloned_efficacies[(positions[i])]\r\n",
    "        affinities[(positions_antibodies_selected[(positions[i])])] = cloned_affinities[(positions[i])]\r\n",
    "    return antibodies, efficacies, affinities"
   ],
   "outputs": [],
   "metadata": {}
  },
  {
   "cell_type": "code",
   "execution_count": 939,
   "source": [
    "antibodies, efficacies, affinities = select_best_cloned_antibodies(antibodies = antibodies,\r\n",
    "                                    cloned_antibodies = cloned_antibodies,\r\n",
    "                                    efficacies = efficacies, \r\n",
    "                                    cloned_efficacies = cloned_efficacies,\r\n",
    "                                    affinities = affinities,\r\n",
    "                                    cloned_affinities = cloned_affinities,\r\n",
    "                                    R = R,\r\n",
    "                                    positions_antibodies_selected = positions_antibodies_selected,\r\n",
    "                                    log = log)\r\n",
    "# print(efficacies)\r\n",
    "# print(affinities)\r\n",
    "print(cloned_antibodies)\r\n",
    "antibodies"
   ],
   "outputs": [
    {
     "output_type": "stream",
     "name": "stdout",
     "text": [
      "[2, 1]\n",
      "[[ 0  0  3  1 12  4  2 10  6  0  9  0  8  7  5 11]\n",
      " [ 6  2  7 10  9 12  8  4  0  0  0  3  1  0  5 11]\n",
      " [12  0  0 11 10  6  2  3  1  4  5  7  8  9  0  0]]\n"
     ]
    },
    {
     "output_type": "execute_result",
     "data": {
      "text/plain": [
       "array([[ 0,  0,  3,  1, 12,  4,  2,  8,  6,  0,  9,  0, 10,  7,  5, 11],\n",
       "       [12,  0,  0, 11, 10,  6,  2,  3,  1,  4,  5,  7,  8,  9,  0,  0],\n",
       "       [ 6,  2,  7, 10,  9, 12,  8,  4,  0,  0,  0,  3,  1,  0,  5, 11]])"
      ]
     },
     "metadata": {},
     "execution_count": 939
    }
   ],
   "metadata": {}
  },
  {
   "cell_type": "code",
   "execution_count": 940,
   "source": [
    "# #10% de los que mejoran al mutar\r\n",
    "# def select_best_cloned_antibodies_v2(antibodies, cloned_antibodies, efficacies, \r\n",
    "#                                     cloned_efficacies,\r\n",
    "#                                     affinities,\r\n",
    "#                                     cloned_affinities, \r\n",
    "#                                     R, \r\n",
    "#                                     positions_antibodies_selected,\r\n",
    "#                                     log):\r\n",
    "#     #if antibody efficacy improves after mutation, we keep the mutated antibody, otherwise we dismiss it.\r\n",
    "#     pool_positions_antibodies_improved, position_antibodies_improved = [], []\r\n",
    "#     cloned_efficacies = np.array(cloned_efficacies)\r\n",
    "#     cloned_affinities = np.array(cloned_affinities)\r\n",
    "#     for i in range(0,len(cloned_antibodies)):\r\n",
    "#         if cloned_efficacies[i] < efficacies[(positions_antibodies_selected[i])]:\r\n",
    "#             if log: print(\"\\nclon {} presents worse efficacy while mutating\".format(cloned_antibodies[i]))\r\n",
    "#             if log: print(\"Mutated clon efficacy\",cloned_efficacies[i])\r\n",
    "#             if log: print(\"Non-mutated clon efficacy\",efficacies[(positions_antibodies_selected[i])])\r\n",
    "#             if log: print(\"Keep original clon {}\".format(antibodies[(positions_antibodies_selected[i])]))\r\n",
    "#         else:\r\n",
    "#             pool_positions_antibodies_improved.append(positions_antibodies_selected[i])\r\n",
    "#             position_antibodies_improved.append(i)\r\n",
    "#     if log: print(\"\\nPositions (clone-pool) of antibodies that improved while mutating\", position_antibodies_improved)\r\n",
    "        \r\n",
    "#     cloned_antibodies = cloned_antibodies[(position_antibodies_improved)]\r\n",
    "#     cloned_efficacies = cloned_efficacies[(position_antibodies_improved)]\r\n",
    "#     cloned_affinities = cloned_affinities[(position_antibodies_improved)]\r\n",
    "#     amount_selected_antibodies = round(len(pool_positions_antibodies_improved)*R)\r\n",
    "\r\n",
    "#     #2nd part of the function: select R% of the best (efficacy) cloned antibodies\r\n",
    "#     if log: print(\"\\n{} antibodies were selected and updated in the pool\".format(amount_selected_antibodies))\r\n",
    "#     positions = [i #positions of best R% of selected antibodies\r\n",
    "#         for x, i\r\n",
    "#         in heapq.nlargest(\r\n",
    "#             amount_selected_antibodies,\r\n",
    "#             ((x, i) for i, x in enumerate(cloned_efficacies)))]\r\n",
    "#     # print(positions)\r\n",
    "#     if log: print(\"Positions (pool) of updated antibodies\",positions_antibodies_selected[(positions)])\r\n",
    "#     for i in range(0,amount_selected_antibodies):\r\n",
    "#         antibodies[(pool_positions_antibodies_improved[(positions[i])])] = cloned_antibodies[(positions[i])]\r\n",
    "#         efficacies[(pool_positions_antibodies_improved[(positions[i])])] = cloned_efficacies[(positions[i])]\r\n",
    "#         affinities[(pool_positions_antibodies_improved[(positions[i])])] = cloned_affinities[(positions[i])]\r\n",
    "#     return antibodies, efficacies, affinities"
   ],
   "outputs": [],
   "metadata": {}
  },
  {
   "cell_type": "code",
   "execution_count": 941,
   "source": [
    "# antibodies, efficacies, affinities = select_best_cloned_antibodies_v2(antibodies = antibodies,\r\n",
    "#                                     cloned_antibodies = cloned_antibodies,\r\n",
    "#                                     efficacies = efficacies, \r\n",
    "#                                     cloned_efficacies = cloned_efficacies,\r\n",
    "#                                     affinities = affinities,\r\n",
    "#                                     cloned_affinities = cloned_affinities,\r\n",
    "#                                     R = R,\r\n",
    "#                                     positions_antibodies_selected = positions_antibodies_selected,\r\n",
    "#                                     log = log)\r\n",
    "# # print(efficacies)\r\n",
    "# # print(affinities)\r\n",
    "\r\n",
    "# antibodies"
   ],
   "outputs": [],
   "metadata": {}
  },
  {
   "cell_type": "markdown",
   "source": [
    "# Remove worst members of the antibodies pool (RECEPTOR EDITING)"
   ],
   "metadata": {}
  },
  {
   "cell_type": "markdown",
   "source": [
    "\"After mutation processes, the\r\n",
    "antibodies that have worse efficacy values are erased (worst\r\n",
    "%B of the whole population)\""
   ],
   "metadata": {}
  },
  {
   "cell_type": "code",
   "execution_count": 942,
   "source": [
    "def receptor_editing(antibodies_pool,efficacies,affinities, B, log):\r\n",
    "    amount_antibodies = round(len(efficacies)*B)\r\n",
    "    if log: print(\"\\n{} antibodies were deleted\".format(amount_antibodies))\r\n",
    "    positions = [i\r\n",
    "        for x, i\r\n",
    "        in heapq.nsmallest(\r\n",
    "            amount_antibodies,\r\n",
    "            ((x, i) for i, x in enumerate(efficacies)))]\r\n",
    "    # print(positions)\r\n",
    "    antibodies_pool = np.delete(antibodies_pool, positions, axis=0)\r\n",
    "    efficacies = np.delete(efficacies, positions, axis=0)\r\n",
    "    affinities = np.delete(affinities, positions, axis=0)\r\n",
    "    return antibodies_pool, efficacies, affinities, amount_antibodies"
   ],
   "outputs": [],
   "metadata": {}
  },
  {
   "cell_type": "code",
   "execution_count": 943,
   "source": [
    "antibodies, efficacies, affinities, amount_antibodies_erased = receptor_editing(antibodies_pool = antibodies, \r\n",
    "                                                                                efficacies = efficacies, \r\n",
    "                                                                                affinities=affinities, \r\n",
    "                                                                                B = B,\r\n",
    "                                                                                log = log)"
   ],
   "outputs": [],
   "metadata": {}
  },
  {
   "cell_type": "code",
   "execution_count": 944,
   "source": [
    "# def receptor_editing_v2(antibodies_pool,efficacies,affinities, B, log):\r\n",
    "#     amount_antibodies = round(len(efficacies)*B)\r\n",
    "#     if log: print(\"\\n{} antibodies were deleted\".format(amount_antibodies))\r\n",
    "#     positions = [i\r\n",
    "#         for x, i\r\n",
    "#         in heapq.nsmallest(\r\n",
    "#             amount_antibodies,\r\n",
    "#             ((x, i) for i, x in enumerate(affinities)))]\r\n",
    "#     # print(positions)\r\n",
    "#     antibodies_pool = np.delete(antibodies_pool, positions, axis=0)\r\n",
    "#     efficacies = np.delete(efficacies, positions, axis=0)\r\n",
    "#     affinities = np.delete(affinities, positions, axis=0)\r\n",
    "#     return antibodies_pool, efficacies, affinities, amount_antibodies"
   ],
   "outputs": [],
   "metadata": {}
  },
  {
   "cell_type": "code",
   "execution_count": 945,
   "source": [
    "# antibodies, efficacies, affinities, amount_antibodies_erased = receptor_editing_v2(antibodies_pool = antibodies, \r\n",
    "#                                                                                 efficacies = efficacies, \r\n",
    "#                                                                                 affinities=affinities, \r\n",
    "#                                                                                 B = B,\r\n",
    "#                                                                                 log = log)"
   ],
   "outputs": [],
   "metadata": {}
  },
  {
   "cell_type": "markdown",
   "source": [
    "# New Random antibodies into the population"
   ],
   "metadata": {}
  },
  {
   "cell_type": "markdown",
   "source": [
    "\"Then, same percent of new\r\n",
    "antibodies are randomly generated\"\r\n",
    "\r\n",
    "La pregunta es la misma cantidad de anticuerpos que hemos borrado en el apartado anterior o el mismo porcentaje (B) sobre la nueva población que se ha visto disminuida por el receptor editing."
   ],
   "metadata": {}
  },
  {
   "cell_type": "code",
   "execution_count": 946,
   "source": [
    "number_new_random_antibodies = amount_antibodies_erased\r\n",
    "\r\n",
    "new_random_antibodies = generation_initial_population(p = p, \r\n",
    "                                                    m = m, \r\n",
    "                                                    population_size = number_new_random_antibodies)\r\n",
    "if log: print(\"{} new random antibodies were added\".format(len(new_random_antibodies)))\r\n",
    "\r\n",
    "antibodies = np.concatenate((antibodies, new_random_antibodies), axis = 0)"
   ],
   "outputs": [],
   "metadata": {}
  },
  {
   "cell_type": "markdown",
   "source": [
    "# Stopping criteria"
   ],
   "metadata": {}
  },
  {
   "cell_type": "markdown",
   "source": [],
   "metadata": {}
  },
  {
   "cell_type": "markdown",
   "source": [
    "## 1. ~~Select N% of antibodies with highest affinities.~~\r\n",
    "        SELECTION ROULETTE WHEEL: antibodies that have higher efficacy values have a higher selection probability.\r\n",
    "        N is a random number at each iteration\r\n",
    "        \r\n",
    "        Esos anticuerpos no se duplican, se clonan, se mutan y, si mejora su eficacia, son actualizados en el pool de anticuerpos\r\n",
    "\r\n",
    "## 2. Incluir semilla en la **mutación** para que los resultados sean reproducibles\r\n",
    "        \r\n",
    "\r\n",
    "## 3. ~~Add new random antibodies into the population~~ \r\n",
    "~~La misma cantidad de anticuerpos que hemos borrado en el apartado anterior~~\r\n",
    "\r\n",
    "## 4. Termination criteria\r\n",
    "        Algorithm is terminated if no improvement is obtained in the efficacy value after 1000 iterations\r\n",
    "\r\n",
    "## 5. ~~Penalties: calculation of affinity.~~\r\n",
    "        each cell must contain at least one part and one machine. (cezali*(efficacy/2)) + (cresing*(efficacy/2))\r\n",
    "        \r\n",
    "        During calculation of the efficacy value, a penalty is defined because Cell#2 does not include any part. \r\n",
    "        Likewise, if a cell does not include any machine, a penalty value is defined and antibody’s objective function value gets a lower efficacy value. \r\n",
    "        The penalty value reduces the chance of the antibody to be selected in the next iteration\r\n",
    "        \r\n",
    "\r\n",
    "## 6. ~~Mutation: if new efficacy value is higher, antibody is updated.~~\r\n",
    "        Parece que la AFFINITY solo se utiliza en el primer paso del algoritmo, para hacer la selección del N% para la mutación"
   ],
   "metadata": {}
  },
  {
   "cell_type": "markdown",
   "source": [],
   "metadata": {}
  }
 ],
 "metadata": {
  "orig_nbformat": 4,
  "language_info": {
   "name": "python",
   "version": "3.8.8",
   "mimetype": "text/x-python",
   "codemirror_mode": {
    "name": "ipython",
    "version": 3
   },
   "pygments_lexer": "ipython3",
   "nbconvert_exporter": "python",
   "file_extension": ".py"
  },
  "kernelspec": {
   "name": "python3",
   "display_name": "Python 3.8.8 64-bit ('base': conda)"
  },
  "interpreter": {
   "hash": "b3ba2566441a7c06988d0923437866b63cedc61552a5af99d1f4fb67d367b25f"
  }
 },
 "nbformat": 4,
 "nbformat_minor": 2
}