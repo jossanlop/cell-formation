{
 "cells": [
  {
   "cell_type": "code",
   "execution_count": 1,
   "source": [
    "import numpy as np"
   ],
   "outputs": [],
   "metadata": {}
  },
  {
   "cell_type": "markdown",
   "source": [
    "# Generation of initial population of random antibodies"
   ],
   "metadata": {}
  },
  {
   "cell_type": "code",
   "execution_count": 1113,
   "source": [
    "# m: number of machines\r\n",
    "# p: number of parts\r\n",
    "# population_size : number of antibody of the initial population\r\n",
    "def generation_initial_population(p, m, population_size):\r\n",
    "    MaxCell = min(p,m) #calculation of max number of cells\r\n",
    "    number_of_zeros = MaxCell - 1 #number of zeros in each antibody\r\n",
    "    antibodies = np.empty(shape=(population_size, p+m+number_of_zeros), dtype=int)\r\n",
    "    antibody = np.append(np.array([*range(1,p+m+1)]), np.zeros(number_of_zeros,dtype=int))\r\n",
    "    for i in range(0,population_size):\r\n",
    "        np.random.shuffle(antibody) #random positions in the array\r\n",
    "        antibodies[i] = antibody\r\n",
    "    return antibodies"
   ],
   "outputs": [],
   "metadata": {}
  },
  {
   "cell_type": "code",
   "execution_count": 1125,
   "source": [
    "generation_initial_population(p = 4, m = 8, population_size = 3)"
   ],
   "outputs": [
    {
     "output_type": "execute_result",
     "data": {
      "text/plain": [
       "array([[ 0,  2,  3, 12, 10,  6,  7,  8,  5,  0, 11,  9,  1,  4,  0],\n",
       "       [ 1, 12,  9,  0,  3,  7,  8,  2,  4,  6, 10, 11,  5,  0,  0],\n",
       "       [ 3,  0,  2,  9, 10, 12, 11,  0,  1,  4,  6,  7,  5,  8,  0]])"
      ]
     },
     "metadata": {},
     "execution_count": 1125
    }
   ],
   "metadata": {}
  },
  {
   "cell_type": "markdown",
   "source": [
    "# Evaluate all existing antibodies and compute their affinities"
   ],
   "metadata": {}
  },
  {
   "cell_type": "markdown",
   "source": [
    "traducción del formato del dataset a matriz trabajo-estación"
   ],
   "metadata": {}
  },
  {
   "cell_type": "code",
   "execution_count": null,
   "source": [],
   "outputs": [],
   "metadata": {}
  },
  {
   "cell_type": "markdown",
   "source": [
    "# Select N% of antibodies with highest affinities"
   ],
   "metadata": {}
  },
  {
   "cell_type": "code",
   "execution_count": null,
   "source": [],
   "outputs": [],
   "metadata": {}
  },
  {
   "cell_type": "markdown",
   "source": [],
   "metadata": {}
  },
  {
   "cell_type": "markdown",
   "source": [
    "# Clone the selected antibodies"
   ],
   "metadata": {}
  },
  {
   "cell_type": "code",
   "execution_count": null,
   "source": [],
   "outputs": [],
   "metadata": {}
  }
 ],
 "metadata": {
  "orig_nbformat": 4,
  "language_info": {
   "name": "python",
   "version": "3.7.3",
   "mimetype": "text/x-python",
   "codemirror_mode": {
    "name": "ipython",
    "version": 3
   },
   "pygments_lexer": "ipython3",
   "nbconvert_exporter": "python",
   "file_extension": ".py"
  },
  "kernelspec": {
   "name": "python3",
   "display_name": "Python 3.7.3 64-bit ('base': conda)"
  },
  "interpreter": {
   "hash": "260c81b1808bb268933ac0cd2d87e46c10df0a6720413cb9cd024e4be74a9d76"
  }
 },
 "nbformat": 4,
 "nbformat_minor": 2
}