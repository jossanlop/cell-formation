{
 "cells": [
  {
   "cell_type": "code",
   "execution_count": 2,
   "source": [
    "import numpy as np\r\n",
    "import pandas as pd\r\n",
    "import heapq\r\n",
    "import random"
   ],
   "outputs": [],
   "metadata": {}
  },
  {
   "cell_type": "markdown",
   "source": [
    "# Generation of initial population of random antibodies"
   ],
   "metadata": {}
  },
  {
   "cell_type": "code",
   "execution_count": 3,
   "source": [
    "# m: number of machines\r\n",
    "# p: number of parts\r\n",
    "# population_size : number of antibody of the initial population\r\n",
    "# seed: seed for reproducible results\r\n",
    "def generation_initial_population(p, m, population_size, seed):\r\n",
    "    MaxCell = min(p,m) #calculation of max number of cells\r\n",
    "    number_of_zeros = MaxCell - 1 #number of zeros in each antibody\r\n",
    "    antibodies = np.empty(shape=(population_size, p+m+number_of_zeros), dtype=int)\r\n",
    "    antibody = np.append(np.array([*range(1,p+m+1)]), np.zeros(number_of_zeros,dtype=int))\r\n",
    "    for i in range(0,population_size):\r\n",
    "        np.random.seed(seed) \r\n",
    "        np.random.shuffle(antibody) #random positions in the array\r\n",
    "        antibodies[i] = antibody\r\n",
    "    return antibodies"
   ],
   "outputs": [],
   "metadata": {}
  },
  {
   "cell_type": "code",
   "execution_count": 31,
   "source": [
    "antibodies = generation_initial_population(p = 7, m = 5, population_size = 3, seed = 1995)\r\n",
    "antibodies"
   ],
   "outputs": [
    {
     "output_type": "execute_result",
     "data": {
      "text/plain": [
       "array([[ 1,  8, 11,  0,  0, 12,  0,  9, 10,  0,  6,  2,  4,  7,  3,  5],\n",
       "       [ 1,  9,  6,  3,  4,  2,  7, 10,  0,  5, 12,  8,  0,  0, 11,  0],\n",
       "       [ 1, 10, 12, 11,  0,  8,  0,  0,  5,  0,  2,  9,  3,  7,  6,  4]])"
      ]
     },
     "metadata": {},
     "execution_count": 31
    }
   ],
   "metadata": {}
  },
  {
   "cell_type": "markdown",
   "source": [
    "# Evaluate all existing antibodies and compute their affinities"
   ],
   "metadata": {}
  },
  {
   "cell_type": "markdown",
   "source": [
    "Lectura de los datos del problema + Traducción del formato del dataset a matriz trabajo-estación"
   ],
   "metadata": {}
  },
  {
   "cell_type": "code",
   "execution_count": 5,
   "source": [
    "def part_machine_incidence_matrix(data):    \r\n",
    "    f = open(data,'r')\r\n",
    "    lines = [line.split('\\n') for line in f]\r\n",
    "    f.close()\r\n",
    "\r\n",
    "    m,p = [int(num) for num in lines[8][0].split(' ')] #m: number of machines, p: number of parts\r\n",
    "\r\n",
    "    machines=[[m,p]]\r\n",
    "    for i in range(9,9+m):\r\n",
    "        #machines.append([int(num) for num in lines[i][0].split(' ')])\r\n",
    "        machines.append([int(lines[i][0].split(' ')[j]) for j in range(1,m)])\r\n",
    "\r\n",
    "    columns, rows = ['M'+str(i) for i in range(1,m+1)], ['P'+str(i) for i in range(1,p+1)]\r\n",
    "    m_p_matrix = pd.DataFrame(columns= columns, index= rows)\r\n",
    "\r\n",
    "    ones_zeros = []\r\n",
    "    for i in range(1,len(machines)):\r\n",
    "        aux = []\r\n",
    "        for j in range(1,p+1):\r\n",
    "            if j in machines[i]: aux.append(1)\r\n",
    "            else: aux.append(0)\r\n",
    "        ones_zeros.append(aux)\r\n",
    "\r\n",
    "    for i in range(0,len(columns)):\r\n",
    "        m_p_matrix[columns[i]] = ones_zeros[i]\r\n",
    "\r\n",
    "    return m_p_matrix, m, p, columns, rows"
   ],
   "outputs": [],
   "metadata": {}
  },
  {
   "cell_type": "code",
   "execution_count": 6,
   "source": [
    "matrix, m, p, columns, rows = part_machine_incidence_matrix('data/instances/testset_a/5x7_Waghodekar_Sahu(1984)[Problem-2].txt')\r\n",
    "matrix"
   ],
   "outputs": [
    {
     "output_type": "execute_result",
     "data": {
      "text/html": [
       "<div>\n",
       "<style scoped>\n",
       "    .dataframe tbody tr th:only-of-type {\n",
       "        vertical-align: middle;\n",
       "    }\n",
       "\n",
       "    .dataframe tbody tr th {\n",
       "        vertical-align: top;\n",
       "    }\n",
       "\n",
       "    .dataframe thead th {\n",
       "        text-align: right;\n",
       "    }\n",
       "</style>\n",
       "<table border=\"1\" class=\"dataframe\">\n",
       "  <thead>\n",
       "    <tr style=\"text-align: right;\">\n",
       "      <th></th>\n",
       "      <th>M1</th>\n",
       "      <th>M2</th>\n",
       "      <th>M3</th>\n",
       "      <th>M4</th>\n",
       "      <th>M5</th>\n",
       "    </tr>\n",
       "  </thead>\n",
       "  <tbody>\n",
       "    <tr>\n",
       "      <th>P1</th>\n",
       "      <td>1</td>\n",
       "      <td>0</td>\n",
       "      <td>0</td>\n",
       "      <td>1</td>\n",
       "      <td>0</td>\n",
       "    </tr>\n",
       "    <tr>\n",
       "      <th>P2</th>\n",
       "      <td>0</td>\n",
       "      <td>1</td>\n",
       "      <td>0</td>\n",
       "      <td>1</td>\n",
       "      <td>1</td>\n",
       "    </tr>\n",
       "    <tr>\n",
       "      <th>P3</th>\n",
       "      <td>0</td>\n",
       "      <td>1</td>\n",
       "      <td>1</td>\n",
       "      <td>1</td>\n",
       "      <td>0</td>\n",
       "    </tr>\n",
       "    <tr>\n",
       "      <th>P4</th>\n",
       "      <td>0</td>\n",
       "      <td>1</td>\n",
       "      <td>1</td>\n",
       "      <td>1</td>\n",
       "      <td>1</td>\n",
       "    </tr>\n",
       "    <tr>\n",
       "      <th>P5</th>\n",
       "      <td>1</td>\n",
       "      <td>1</td>\n",
       "      <td>1</td>\n",
       "      <td>0</td>\n",
       "      <td>1</td>\n",
       "    </tr>\n",
       "    <tr>\n",
       "      <th>P6</th>\n",
       "      <td>1</td>\n",
       "      <td>0</td>\n",
       "      <td>1</td>\n",
       "      <td>0</td>\n",
       "      <td>1</td>\n",
       "    </tr>\n",
       "    <tr>\n",
       "      <th>P7</th>\n",
       "      <td>1</td>\n",
       "      <td>0</td>\n",
       "      <td>0</td>\n",
       "      <td>0</td>\n",
       "      <td>0</td>\n",
       "    </tr>\n",
       "  </tbody>\n",
       "</table>\n",
       "</div>"
      ],
      "text/plain": [
       "    M1  M2  M3  M4  M5\n",
       "P1   1   0   0   1   0\n",
       "P2   0   1   0   1   1\n",
       "P3   0   1   1   1   0\n",
       "P4   0   1   1   1   1\n",
       "P5   1   1   1   0   1\n",
       "P6   1   0   1   0   1\n",
       "P7   1   0   0   0   0"
      ]
     },
     "metadata": {},
     "execution_count": 6
    }
   ],
   "metadata": {}
  },
  {
   "cell_type": "markdown",
   "source": [
    "## Decodificación de anticuerpos\r\n",
    "1er Paso: Separación de celdas."
   ],
   "metadata": {}
  },
  {
   "cell_type": "code",
   "execution_count": 33,
   "source": [
    "def cell_identification(antibodies):\r\n",
    "    total_cells = []\r\n",
    "    for antibodie in antibodies:\r\n",
    "        print(\"antibodie\", antibodie)\r\n",
    "        flag = 1 #bandera que indica si el num anterior es un cero\r\n",
    "        cells, cell = [],[]\r\n",
    "        i = 0\r\n",
    "        for num in antibodie:\r\n",
    "            if (num == 0): \r\n",
    "                if flag == 0: \r\n",
    "                    i=i+1\r\n",
    "                    cells.append(cell)\r\n",
    "                    # print(cell)\r\n",
    "                    cell = []\r\n",
    "                flag = 1\r\n",
    "            else: \r\n",
    "                cell.append(num)\r\n",
    "                # print(num)\r\n",
    "                flag = 0\r\n",
    "                if num == antibodie[len(antibodie)-1]:\r\n",
    "                    cells.append(cell)\r\n",
    "        total_cells.append(cells)\r\n",
    "        # print(\"cells\", cells)\r\n",
    "    # print(\"list of all cells for all antibodies\",total_cells)\r\n",
    "    # print(\"cells for antibody 1\",total_cells[0])\r\n",
    "    return total_cells"
   ],
   "outputs": [],
   "metadata": {}
  },
  {
   "cell_type": "code",
   "execution_count": null,
   "source": [
    "#PRUEBA PARA SOLVENTAR PROBLEMA DE ANTICUERPOS  QUE EMPIEZAN POR CERO\r\n",
    "antibodies[1][0] = 0"
   ],
   "outputs": [],
   "metadata": {}
  },
  {
   "cell_type": "code",
   "execution_count": 34,
   "source": [
    "total_cells = cell_identification(antibodies = antibodies)\r\n",
    "total_cells"
   ],
   "outputs": [
    {
     "output_type": "stream",
     "name": "stdout",
     "text": [
      "antibodie [ 1  8 11  0  0 12  0  9 10  0  6  2  4  7  3  5]\n",
      "antibodie [ 0  9  6  3  4  2  7 10  0  5 12  8  0  0 11  0]\n",
      "antibodie [ 1 10 12 11  0  8  0  0  5  0  2  9  3  7  6  4]\n"
     ]
    },
    {
     "output_type": "execute_result",
     "data": {
      "text/plain": [
       "[[[1, 8, 11], [12], [9, 10], [6, 2, 4, 7, 3, 5]],\n",
       " [[9, 6, 3, 4, 2, 7, 10], [5, 12, 8], [11]],\n",
       " [[1, 10, 12, 11], [8], [5], [2, 9, 3, 7, 6, 4]]]"
      ]
     },
     "metadata": {},
     "execution_count": 34
    }
   ],
   "metadata": {}
  },
  {
   "cell_type": "markdown",
   "source": [
    "reorganizar filas y columnas de la matriz maquinas-trabajos en función de lo descrito por el anticuerpo"
   ],
   "metadata": {}
  },
  {
   "cell_type": "code",
   "execution_count": 9,
   "source": [
    "def decode_cells(total_cells):\r\n",
    "    total_machines, total_parts = [], []\r\n",
    "    for antibodie in total_cells:\r\n",
    "        print(\"antibodie\",antibodie)\r\n",
    "        machines = []\r\n",
    "        parts = []\r\n",
    "        decoded_antibodie = antibodie\r\n",
    "        for i in range(0,len(antibodie)):\r\n",
    "            # print(antibodie[i])\r\n",
    "            for j in range(0,len(antibodie[i])):\r\n",
    "                if antibodie[i][j] <= p: \r\n",
    "                    parts.append(rows[antibodie[i][j]-1])\r\n",
    "                    decoded_antibodie[i][j] = rows[antibodie[i][j]-1]\r\n",
    "                else: \r\n",
    "                    machines.append(columns[antibodie[i][j]-p-1])\r\n",
    "                    decoded_antibodie[i][j] = columns[antibodie[i][j]-p-1]\r\n",
    "            antibodie = decoded_antibodie\r\n",
    "        total_machines.append(machines)\r\n",
    "        total_parts.append(parts)\r\n",
    "        print(\"decoded\",antibodie)\r\n",
    "\r\n",
    "    return total_machines, total_parts\r\n",
    "    # print(total_machines)\r\n",
    "    # print(total_parts)"
   ],
   "outputs": [],
   "metadata": {}
  },
  {
   "cell_type": "code",
   "execution_count": 10,
   "source": [
    "total_machines, total_parts = decode_cells(total_cells=total_cells)"
   ],
   "outputs": [
    {
     "output_type": "stream",
     "name": "stdout",
     "text": [
      "antibodie [[1, 8, 11], [12], [9, 10], [6, 2, 4, 7, 3, 5]]\n",
      "decoded [['P1', 'M1', 'M4'], ['M5'], ['M2', 'M3'], ['P6', 'P2', 'P4', 'P7', 'P3', 'P5']]\n",
      "antibodie [[1, 9, 6, 3, 4, 2, 7, 10], [5, 12, 8], [11]]\n",
      "decoded [['P1', 'M2', 'P6', 'P3', 'P4', 'P2', 'P7', 'M3'], ['P5', 'M5', 'M1'], ['M4']]\n",
      "antibodie [[1, 10, 12, 11], [8], [5], [2, 9, 3, 7, 6, 4]]\n",
      "decoded [['P1', 'M3', 'M5', 'M4'], ['M1'], ['P5'], ['P2', 'M2', 'P3', 'P7', 'P6', 'P4']]\n"
     ]
    }
   ],
   "metadata": {}
  },
  {
   "cell_type": "markdown",
   "source": [
    "Representación de la matriz: usamos total_machines y total_parts, donde hemos colocado en orden las máquinas y los trabajos respectivamente.\r\n"
   ],
   "metadata": {}
  },
  {
   "cell_type": "code",
   "execution_count": 11,
   "source": [
    "def create_machine_part_matrix(matrix, antibodies, total_machines, total_parts):\r\n",
    "    antibody_matrices = []\r\n",
    "    for i in range(0,len(antibodies)):\r\n",
    "        antibodie_matrix = matrix.loc[:,total_machines[i]]\r\n",
    "        antibodie_matrix = antibodie_matrix.loc[total_parts[i]]\r\n",
    "        antibody_matrices.append(antibodie_matrix)\r\n",
    "    return antibody_matrices\r\n",
    "\r\n",
    "\r\n",
    "antibody_matrices = create_machine_part_matrix(matrix=matrix,\r\n",
    "                                                antibodies=antibodies, \r\n",
    "                                                total_machines=total_machines, \r\n",
    "                                                total_parts=total_parts)\r\n",
    "antibody_matrices"
   ],
   "outputs": [
    {
     "output_type": "execute_result",
     "data": {
      "text/plain": [
       "[    M1  M4  M5  M2  M3\n",
       " P1   1   1   0   0   0\n",
       " P6   1   0   1   0   1\n",
       " P2   0   1   1   1   0\n",
       " P4   0   1   1   1   1\n",
       " P7   1   0   0   0   0\n",
       " P3   0   1   0   1   1\n",
       " P5   1   0   1   1   1,\n",
       "     M2  M3  M5  M1  M4\n",
       " P1   0   0   0   1   1\n",
       " P6   0   1   1   1   0\n",
       " P3   1   1   0   0   1\n",
       " P4   1   1   1   0   1\n",
       " P2   1   0   1   0   1\n",
       " P7   0   0   0   1   0\n",
       " P5   1   1   1   1   0,\n",
       "     M3  M5  M4  M1  M2\n",
       " P1   0   0   1   1   0\n",
       " P5   1   1   0   1   1\n",
       " P2   0   1   1   0   1\n",
       " P3   1   0   1   0   1\n",
       " P7   0   0   0   1   0\n",
       " P6   1   1   0   1   0\n",
       " P4   1   1   1   0   1]"
      ]
     },
     "metadata": {},
     "execution_count": 11
    }
   ],
   "metadata": {}
  },
  {
   "cell_type": "code",
   "execution_count": 12,
   "source": [
    "def evaluate_antibodies(antibody_matrices, total_cells): #m and p should be added as parameters\r\n",
    "    exceptions, voids = [],[]\r\n",
    "    for i in range(0,len(total_cells)):\r\n",
    "        # print(\"\\n\",total_cells[i])\r\n",
    "        # print(antibody_matrices[i])\r\n",
    "        void, exception = 0,0\r\n",
    "        for cell in total_cells[i]:\r\n",
    "            # print(cell)\r\n",
    "            machines, parts = [], []\r\n",
    "            for mp in cell:\r\n",
    "                if mp[0] == 'M': \r\n",
    "                    machines.append(mp)\r\n",
    "                    # print(machines)\r\n",
    "                if mp[0] == 'P': \r\n",
    "                    parts.append(mp)\r\n",
    "                    # print(parts)\r\n",
    "                # else: print('error')\r\n",
    "            \r\n",
    "            for machine in machines:\r\n",
    "                for part in antibody_matrices[i].index:\r\n",
    "                    if part in parts and antibody_matrices[i][machine][part] == 0: \r\n",
    "                        void = void+1\r\n",
    "                        # print(\"void\",machine, part)\r\n",
    "                    if part not in parts and antibody_matrices[i][machine][part] == 1:\r\n",
    "                        exception = exception+1\r\n",
    "                        # print(\"exception\",machine, part)\r\n",
    "            # print(void, exception)\r\n",
    "            # print(\"\\n\")\r\n",
    "        voids.append(void)\r\n",
    "        exceptions.append(exception)\r\n",
    "    # print(\"voids\",voids)\r\n",
    "    # print(\"exceptions\",exceptions)\r\n",
    "    efficacies = []\r\n",
    "    matrix_dimension = m*p\r\n",
    "    for i in range(0,len(total_cells)):\r\n",
    "        exceptions_ratio = exceptions[i]/matrix_dimension\r\n",
    "        voids_ratio = voids[i]/matrix_dimension\r\n",
    "        efficacy= (1-exceptions_ratio)/(1+voids_ratio)\r\n",
    "        efficacies.append(efficacy)\r\n",
    "    return efficacies, voids, exceptions\r\n"
   ],
   "outputs": [],
   "metadata": {}
  },
  {
   "cell_type": "code",
   "execution_count": 13,
   "source": [
    "efficacies, voids, exceptions = evaluate_antibodies(antibody_matrices = antibody_matrices, total_cells=total_cells)\r\n",
    "efficacies"
   ],
   "outputs": [
    {
     "output_type": "execute_result",
     "data": {
      "text/plain": [
       "[0.48571428571428577, 0.5609756097560975, 0.4871794871794872]"
      ]
     },
     "metadata": {},
     "execution_count": 13
    }
   ],
   "metadata": {}
  },
  {
   "cell_type": "code",
   "execution_count": 14,
   "source": [
    "def calculate_efficacies(total_cells, m, p):\r\n",
    "    efficacies = []\r\n",
    "    matrix_dimension = m*p\r\n",
    "    for i in range(0,len(total_cells)):\r\n",
    "        exceptions_ratio = exceptions[i]/matrix_dimension\r\n",
    "        voids_ratio = voids[i]/matrix_dimension\r\n",
    "        efficacy= (1-exceptions_ratio)/(1+voids_ratio)\r\n",
    "        efficacies.append(efficacy)\r\n",
    "    return efficacies "
   ],
   "outputs": [],
   "metadata": {}
  },
  {
   "cell_type": "code",
   "execution_count": 15,
   "source": [
    "efficacies = calculate_efficacies(total_cells = total_cells, m = m, p = p)\r\n",
    "efficacies"
   ],
   "outputs": [
    {
     "output_type": "execute_result",
     "data": {
      "text/plain": [
       "[0.48571428571428577, 0.5609756097560975, 0.4871794871794872]"
      ]
     },
     "metadata": {},
     "execution_count": 15
    }
   ],
   "metadata": {}
  },
  {
   "cell_type": "markdown",
   "source": [
    "# Select N% of antibodies with highest affinities & Clone selected antibodies"
   ],
   "metadata": {}
  },
  {
   "cell_type": "markdown",
   "source": [
    "con el parámetro p de probabilities de np.random.choice podemos pasar un vector de probabilidades para el sampleo"
   ],
   "metadata": {}
  },
  {
   "cell_type": "code",
   "execution_count": 16,
   "source": [
    "def antibodies_selection(antibodies, N):\r\n",
    "    positions_antibodies_selected = np.random.choice(len(antibodies), size=(round(len(antibodies)*N)), replace=False)\r\n",
    "    antibodies_selected = antibodies[positions_antibodies_selected.tolist()]\r\n",
    "    return antibodies_selected, positions_antibodies_selected\r\n",
    "\r\n",
    "cloned_antibodies, positions_antibodies_selected = antibodies_selection(antibodies=antibodies, N=0.66)\r\n",
    "\r\n",
    "print(positions_antibodies_selected)\r\n",
    "cloned_antibodies"
   ],
   "outputs": [
    {
     "output_type": "stream",
     "name": "stdout",
     "text": [
      "[1 2]\n"
     ]
    },
    {
     "output_type": "execute_result",
     "data": {
      "text/plain": [
       "array([[ 1,  9,  6,  3,  4,  2,  7, 10,  0,  5, 12,  8,  0,  0, 11,  0],\n",
       "       [ 1, 10, 12, 11,  0,  8,  0,  0,  5,  0,  2,  9,  3,  7,  6,  4]])"
      ]
     },
     "metadata": {},
     "execution_count": 16
    }
   ],
   "metadata": {}
  },
  {
   "cell_type": "markdown",
   "source": [
    "# Mutation operator"
   ],
   "metadata": {}
  },
  {
   "cell_type": "markdown",
   "source": [
    "Aqui estoy comentiendo un fallo y es que realizo la mutación en todos los casos.\r\n",
    "Se debe comparar la efficacy del anticuerpo antes y después de la mutación y quedarse con el mejor."
   ],
   "metadata": {}
  },
  {
   "cell_type": "markdown",
   "source": [
    "## Maturate cloned antibodies"
   ],
   "metadata": {}
  },
  {
   "cell_type": "code",
   "execution_count": 17,
   "source": [
    "def mutate_cloned_antibodies(cloned_antibodies):\r\n",
    "    for antibodie in cloned_antibodies:\r\n",
    "        print(antibodie)\r\n",
    "        positions = np.random.choice(len(antibodie),size=2,replace=False)\r\n",
    "        print(positions)\r\n",
    "        antibodie[positions[0]], antibodie[positions[1]] = antibodie[positions[1]], antibodie[positions[0]]\r\n",
    "    return cloned_antibodies"
   ],
   "outputs": [],
   "metadata": {}
  },
  {
   "cell_type": "code",
   "execution_count": 18,
   "source": [
    "mutate_cloned_antibodies(cloned_antibodies = cloned_antibodies)"
   ],
   "outputs": [
    {
     "output_type": "stream",
     "name": "stdout",
     "text": [
      "[ 1  9  6  3  4  2  7 10  0  5 12  8  0  0 11  0]\n",
      "[ 6 15]\n",
      "[ 1 10 12 11  0  8  0  0  5  0  2  9  3  7  6  4]\n",
      "[13  9]\n"
     ]
    },
    {
     "output_type": "execute_result",
     "data": {
      "text/plain": [
       "array([[ 1,  9,  6,  3,  4,  2,  0, 10,  0,  5, 12,  8,  0,  0, 11,  7],\n",
       "       [ 1, 10, 12, 11,  0,  8,  0,  0,  5,  7,  2,  9,  3,  0,  6,  4]])"
      ]
     },
     "metadata": {},
     "execution_count": 18
    }
   ],
   "metadata": {}
  },
  {
   "cell_type": "markdown",
   "source": [
    "## Evaluate cloned antibodies"
   ],
   "metadata": {}
  },
  {
   "cell_type": "code",
   "execution_count": 19,
   "source": [
    "cloned_total_cells = cell_identification(cloned_antibodies)\r\n",
    "cloned_total_cells"
   ],
   "outputs": [
    {
     "output_type": "stream",
     "name": "stdout",
     "text": [
      "antibodie [ 1  9  6  3  4  2  0 10  0  5 12  8  0  0 11  7]\n",
      "antibodie [ 1 10 12 11  0  8  0  0  5  7  2  9  3  0  6  4]\n"
     ]
    },
    {
     "output_type": "execute_result",
     "data": {
      "text/plain": [
       "[[[1, 9, 6, 3, 4, 2], [10], [5, 12, 8], [11, 7]],\n",
       " [[1, 10, 12, 11], [8], [5, 7, 2, 9, 3], [6, 4]]]"
      ]
     },
     "metadata": {},
     "execution_count": 19
    }
   ],
   "metadata": {}
  },
  {
   "cell_type": "code",
   "execution_count": 20,
   "source": [
    "cloned_total_machines, cloned_total_parts = decode_cells(cloned_total_cells)"
   ],
   "outputs": [
    {
     "output_type": "stream",
     "name": "stdout",
     "text": [
      "antibodie [[1, 9, 6, 3, 4, 2], [10], [5, 12, 8], [11, 7]]\n",
      "decoded [['P1', 'M2', 'P6', 'P3', 'P4', 'P2'], ['M3'], ['P5', 'M5', 'M1'], ['M4', 'P7']]\n",
      "antibodie [[1, 10, 12, 11], [8], [5, 7, 2, 9, 3], [6, 4]]\n",
      "decoded [['P1', 'M3', 'M5', 'M4'], ['M1'], ['P5', 'P7', 'P2', 'M2', 'P3'], ['P6', 'P4']]\n"
     ]
    }
   ],
   "metadata": {}
  },
  {
   "cell_type": "code",
   "execution_count": 21,
   "source": [
    "cloned_antibody_matrices = create_machine_part_matrix(matrix = matrix,\r\n",
    "                                                        antibodies=cloned_antibodies, \r\n",
    "                                                        total_machines = cloned_total_machines, \r\n",
    "                                                        total_parts= cloned_total_parts)\r\n",
    "cloned_antibody_matrices"
   ],
   "outputs": [
    {
     "output_type": "execute_result",
     "data": {
      "text/plain": [
       "[    M2  M3  M5  M1  M4\n",
       " P1   0   0   0   1   1\n",
       " P6   0   1   1   1   0\n",
       " P3   1   1   0   0   1\n",
       " P4   1   1   1   0   1\n",
       " P2   1   0   1   0   1\n",
       " P5   1   1   1   1   0\n",
       " P7   0   0   0   1   0,\n",
       "     M3  M5  M4  M1  M2\n",
       " P1   0   0   1   1   0\n",
       " P5   1   1   0   1   1\n",
       " P7   0   0   0   1   0\n",
       " P2   0   1   1   0   1\n",
       " P3   1   0   1   0   1\n",
       " P6   1   1   0   1   0\n",
       " P4   1   1   1   0   1]"
      ]
     },
     "metadata": {},
     "execution_count": 21
    }
   ],
   "metadata": {}
  },
  {
   "cell_type": "code",
   "execution_count": 22,
   "source": [
    "cloned_efficacies, cloned_voids, cloned_exceptions = evaluate_antibodies(cloned_antibody_matrices, cloned_total_cells)\r\n",
    "cloned_efficacies"
   ],
   "outputs": [
    {
     "output_type": "execute_result",
     "data": {
      "text/plain": [
       "[0.5263157894736842, 0.5000000000000001]"
      ]
     },
     "metadata": {},
     "execution_count": 22
    }
   ],
   "metadata": {}
  },
  {
   "cell_type": "markdown",
   "source": [
    "## Add R% of best cloned antibodies to the pool of antibodies"
   ],
   "metadata": {}
  },
  {
   "cell_type": "markdown",
   "source": [
    "select the R% of best cloned antibodies and adds them to the pool of antibodies"
   ],
   "metadata": {}
  },
  {
   "cell_type": "code",
   "execution_count": 23,
   "source": [
    "def select_best_cloned_antibodies(antibodies, cloned_antibodies, efficacies, cloned_efficacies, R):\r\n",
    "    updated_efficacies = 0\r\n",
    "    amount_antibodies = round(len(cloned_efficacies)*R)\r\n",
    "    print(\"{} antibodies were added to the antibodies pool\".format(amount_antibodies))\r\n",
    "    positions = [i\r\n",
    "        for x, i\r\n",
    "        in heapq.nlargest(\r\n",
    "            amount_antibodies,\r\n",
    "            ((x, i) for i, x in enumerate(cloned_efficacies)))]\r\n",
    "    updated_antibodies_pool = np.concatenate((antibodies, cloned_antibodies[(positions)]), axis = 0)\r\n",
    "    cloned_efficacies = np.array(cloned_efficacies)\r\n",
    "    updated_efficacies = efficacies + cloned_efficacies[(positions)].tolist()\r\n",
    "    return updated_antibodies_pool, updated_efficacies"
   ],
   "outputs": [],
   "metadata": {}
  },
  {
   "cell_type": "code",
   "execution_count": 24,
   "source": [
    "antibodies_pool, updated_efficacies = select_best_cloned_antibodies(antibodies = antibodies,\r\n",
    "                                                                    cloned_antibodies = cloned_antibodies,\r\n",
    "                                                                    efficacies = efficacies, cloned_efficacies = cloned_efficacies, R = 0.5)\r\n",
    "print(updated_efficacies)\r\n",
    "antibodies_pool\r\n"
   ],
   "outputs": [
    {
     "output_type": "stream",
     "name": "stdout",
     "text": [
      "1 antibodies were added to the antibodies pool\n",
      "[0.48571428571428577, 0.5609756097560975, 0.4871794871794872, 0.5263157894736842]\n"
     ]
    },
    {
     "output_type": "execute_result",
     "data": {
      "text/plain": [
       "array([[ 1,  8, 11,  0,  0, 12,  0,  9, 10,  0,  6,  2,  4,  7,  3,  5],\n",
       "       [ 1,  9,  6,  3,  4,  2,  7, 10,  0,  5, 12,  8,  0,  0, 11,  0],\n",
       "       [ 1, 10, 12, 11,  0,  8,  0,  0,  5,  0,  2,  9,  3,  7,  6,  4],\n",
       "       [ 1,  9,  6,  3,  4,  2,  0, 10,  0,  5, 12,  8,  0,  0, 11,  7]])"
      ]
     },
     "metadata": {},
     "execution_count": 24
    }
   ],
   "metadata": {}
  },
  {
   "cell_type": "markdown",
   "source": [
    "# Remove worst members of the antibodies pool (RECEPTOR EDITING)"
   ],
   "metadata": {}
  },
  {
   "cell_type": "markdown",
   "source": [
    "\"After mutation processes, the\r\n",
    "antibodies that have worse efficacy values are erased (worst\r\n",
    "%B of the whole population)\""
   ],
   "metadata": {}
  },
  {
   "cell_type": "code",
   "execution_count": 25,
   "source": [
    "def receptor_editing(antibodies_pool,updated_efficacies, B):\r\n",
    "    amount_antibodies = round(len(updated_efficacies)*B)\r\n",
    "    print(\"Se han borrado {} anticuerpos\".format(amount_antibodies))\r\n",
    "    positions = [i\r\n",
    "        for x, i\r\n",
    "        in heapq.nsmallest(\r\n",
    "            amount_antibodies,\r\n",
    "            ((x, i) for i, x in enumerate(updated_efficacies)))]\r\n",
    "    print(positions)\r\n",
    "    antibodies_pool = np.delete(antibodies_pool, positions, axis=0)\r\n",
    "    return antibodies_pool"
   ],
   "outputs": [],
   "metadata": {}
  },
  {
   "cell_type": "code",
   "execution_count": 26,
   "source": [
    "B = 0.5\r\n",
    "antibodies_pool = receptor_editing(antibodies_pool = antibodies_pool, updated_efficacies = updated_efficacies, B = B)\r\n",
    "antibodies_pool"
   ],
   "outputs": [
    {
     "output_type": "stream",
     "name": "stdout",
     "text": [
      "Se han borrado 2 anticuerpos\n",
      "[0, 2]\n"
     ]
    },
    {
     "output_type": "execute_result",
     "data": {
      "text/plain": [
       "array([[ 1,  9,  6,  3,  4,  2,  7, 10,  0,  5, 12,  8,  0,  0, 11,  0],\n",
       "       [ 1,  9,  6,  3,  4,  2,  0, 10,  0,  5, 12,  8,  0,  0, 11,  7]])"
      ]
     },
     "metadata": {},
     "execution_count": 26
    }
   ],
   "metadata": {}
  },
  {
   "cell_type": "markdown",
   "source": [
    "# New Random antibodies into the population"
   ],
   "metadata": {}
  },
  {
   "cell_type": "markdown",
   "source": [
    "\"Then, same percent of new\r\n",
    "antibodies are randomly generated\"\r\n",
    "\r\n",
    "La pregunta es la misma cantidad de anticuerpos que hemos borrado en el apartado anterior o el mismo porcentaje (B) sobre la nueva población que se ha visto disminuida por el receptor editing."
   ],
   "metadata": {}
  },
  {
   "cell_type": "code",
   "execution_count": 27,
   "source": [
    "number_new_random_antibodies = round(len(antibodies_pool)*B)\r\n",
    "\r\n",
    "new_random_antibodies = generation_initial_population(p = p, \r\n",
    "                                                    m = m, \r\n",
    "                                                    population_size = number_new_random_antibodies, \r\n",
    "                                                    seed = 1995)\r\n",
    "print(new_random_antibodies)\r\n",
    "\r\n",
    "antibodies_pool = np.concatenate((antibodies_pool, new_random_antibodies), axis = 0)\r\n",
    "antibodies_pool"
   ],
   "outputs": [
    {
     "output_type": "stream",
     "name": "stdout",
     "text": [
      "[[ 1  8 11  0  0 12  0  9 10  0  6  2  4  7  3  5]]\n"
     ]
    },
    {
     "output_type": "execute_result",
     "data": {
      "text/plain": [
       "array([[ 1,  9,  6,  3,  4,  2,  7, 10,  0,  5, 12,  8,  0,  0, 11,  0],\n",
       "       [ 1,  9,  6,  3,  4,  2,  0, 10,  0,  5, 12,  8,  0,  0, 11,  7],\n",
       "       [ 1,  8, 11,  0,  0, 12,  0,  9, 10,  0,  6,  2,  4,  7,  3,  5]])"
      ]
     },
     "metadata": {},
     "execution_count": 27
    }
   ],
   "metadata": {}
  },
  {
   "cell_type": "markdown",
   "source": [
    "# Stopping criteria"
   ],
   "metadata": {}
  },
  {
   "cell_type": "code",
   "execution_count": null,
   "source": [],
   "outputs": [],
   "metadata": {}
  },
  {
   "cell_type": "markdown",
   "source": [],
   "metadata": {}
  }
 ],
 "metadata": {
  "orig_nbformat": 4,
  "language_info": {
   "name": "python",
   "version": "3.8.8",
   "mimetype": "text/x-python",
   "codemirror_mode": {
    "name": "ipython",
    "version": 3
   },
   "pygments_lexer": "ipython3",
   "nbconvert_exporter": "python",
   "file_extension": ".py"
  },
  "kernelspec": {
   "name": "python3",
   "display_name": "Python 3.8.8 64-bit ('base': conda)"
  },
  "interpreter": {
   "hash": "b3ba2566441a7c06988d0923437866b63cedc61552a5af99d1f4fb67d367b25f"
  }
 },
 "nbformat": 4,
 "nbformat_minor": 2
}