{
 "cells": [
  {
   "cell_type": "code",
   "execution_count": 9,
   "source": [
    "import numpy as np\r\n",
    "# from importnb import Notebook\r\n",
    "# with Notebook(): \r\n",
    "#     import reproduccion_ulutas as rp\r\n",
    "\r\n",
    "import reproduccion_ulutas as rp"
   ],
   "outputs": [],
   "metadata": {}
  },
  {
   "cell_type": "markdown",
   "source": [
    "## Parameters"
   ],
   "metadata": {}
  },
  {
   "cell_type": "code",
   "execution_count": 10,
   "source": [
    "POPULATION_SIZE = 100   # indicate the initial size of antibodies population\r\n",
    "# N is a random % of antibodies with highest affinities selected to be cloned\r\n",
    "R = 1 # % of best cloned antibodies to the pool of antibodies\r\n",
    "B = 0.1 # worst % of the whole population (RECEPTOR EDITING)\r\n",
    "\r\n",
    "# dataset = 'data/instances/testset_a/5x7_King_Nakornchai(1982)[Figure-1a].txt'\r\n",
    "# dataset = 'data/instances/testset_a/5x7_Waghodekar_Sahu(1984)[Problem-2].txt'\r\n",
    "dataset = 'data/instances/testset_a/5x18_Seifoddini(1989b).txt'\r\n",
    "# dataset = 'data/instances/testset_a/6x8_Kusiak_Cho(1992).txt'\r\n",
    "# dataset = 'data/instances/testset_a/7x11_Boctor(1991)[Example-1].txt' #A6\r\n",
    "# dataset = 'data/instances/testset_a/8x20_Chandrasekharan_Rajagopalan(1986a).txt' #A8\r\n",
    "\r\n",
    "\r\n",
    "\r\n",
    "\r\n",
    "# dataset = 'data/instances/testset_a/30x50_Stanfel(1985)[Figure-5].txt'\r\n",
    "\r\n",
    "MAX_ITERATIONS = 1000\r\n",
    "MAX_ITERATIONS_WITHOUT_IMPROVEMENT = 150\r\n",
    "log = False # Boolean: print logs at the execution of the algorithm."
   ],
   "outputs": [],
   "metadata": {}
  },
  {
   "cell_type": "markdown",
   "source": [
    "## Algorithm"
   ],
   "metadata": {}
  },
  {
   "cell_type": "code",
   "execution_count": 11,
   "source": [
    "#reads data and translates it into part-machine matrix\r\n",
    "matrix, m, p,number_of_operations, columns, rows = rp.part_machine_incidence_matrix(dataset)\r\n",
    "if log == True: print(\"\\nPart-machine matrix\\n\",matrix)\r\n",
    "#GENERATION OF INITIAL POPULATION\r\n",
    "antibodies = rp.generation_initial_population(p = p, m= m, population_size = POPULATION_SIZE)\r\n",
    "if log == True: print(\"\\nInitial antibodies\\n\",antibodies)\r\n",
    "\r\n",
    "iterations, best_solution, improvement_counter = 0, 0, 0\r\n",
    "\r\n",
    "while iterations <= MAX_ITERATIONS:\r\n",
    "    if log == True: print(\"\\n Iteration number\",iterations+1)\r\n",
    "    #identifies cells in the antibodies\r\n",
    "    total_cells = rp.cell_identification(antibodies = antibodies)\r\n",
    "    if log == True: print(\"\\n Cells\\n\", total_cells)\r\n",
    "\r\n",
    "    #translates numbers into parts and machines\r\n",
    "    total_machines, total_parts = rp.decode_cells(total_cells = total_cells, rows= rows, columns = columns, p = p, log = log) \r\n",
    "\r\n",
    "    #calculates part-machine matrix for each antibody\r\n",
    "    antibody_matrices = rp.create_machine_part_matrix(matrix = matrix, \r\n",
    "                                                    antibodies = antibodies, \r\n",
    "                                                    total_machines = total_machines, \r\n",
    "                                                    total_parts = total_parts)\r\n",
    "    #evaluates efficacie of each antibody\r\n",
    "    efficacies, affinities, voids, exceptions = rp.evaluate_antibodies(antibody_matrices = antibody_matrices, \r\n",
    "                                                                        total_cells = total_cells,\r\n",
    "                                                                        number_of_operations = number_of_operations)\r\n",
    "    if log == True: print(\"\\n Efficacies\",efficacies)\r\n",
    "    if log == True: print(\"\\n Affinities\",affinities)\r\n",
    "\r\n",
    "    # SELECTS N% OF ANTIBODIES WITH HIGHES ANTIBODIES (SELECTION ROULETTE WHEEL)\r\n",
    "    N = np.random.rand(1) # N is a random number each iteration\r\n",
    "    if log: print(\"N% =\",N[0])\r\n",
    "    cloned_antibodies, positions_antibodies_selected = rp.antibodies_selection_v3(antibodies=antibodies, N=N[0], affinities = affinities)\r\n",
    "    if log == True: print(\"\\n Cloned antibodies\\n\",cloned_antibodies)\r\n",
    "    if log == True: print(\"\\n Cloned antibodies positions (pool)\\n\",positions_antibodies_selected)\r\n",
    "    \r\n",
    "    # MUTATION\r\n",
    "    rp.mutate_cloned_antibodies(cloned_antibodies = cloned_antibodies, log= log)\r\n",
    "    if log == True: print(\"\\n Mutation of cloned antibodies\\n\",cloned_antibodies)\r\n",
    "\r\n",
    "    #CLONES: identifies cells in the antibody\r\n",
    "    cloned_total_cells = rp.cell_identification(cloned_antibodies)\r\n",
    "    #CLONES: translates numbers into parts and machines\r\n",
    "    cloned_total_machines, cloned_total_parts = rp.decode_cells(total_cells = cloned_total_cells,rows= rows, columns = columns, p = p, log = log)\r\n",
    "    #CLONES: calculates part-machine matrix for each antibody\r\n",
    "    cloned_antibody_matrices = rp.create_machine_part_matrix(matrix = matrix,\r\n",
    "                                                                antibodies = cloned_antibodies, \r\n",
    "                                                                total_machines = cloned_total_machines, \r\n",
    "                                                                total_parts = cloned_total_parts)                                                          \r\n",
    "    #CLONES evaluates efficacie of each antibody\r\n",
    "    cloned_efficacies, cloned_affinities, cloned_voids, cloned_exceptions = rp.evaluate_antibodies(cloned_antibody_matrices,\r\n",
    "                                                                                                    cloned_total_cells,\r\n",
    "                                                                                                    number_of_operations)\r\n",
    "    if log == True: print(\"\\n Cloned Efficacies\",cloned_efficacies)\r\n",
    "    if log == True: print(\"\\n Cloned Affinities\",cloned_affinities)\r\n",
    "    # Add R% of best cloned antibodies to the pool of antibodies\r\n",
    "    antibodies, efficacies, affinities = rp.select_best_cloned_antibodies_v2(antibodies = antibodies,\r\n",
    "                                        cloned_antibodies = cloned_antibodies,\r\n",
    "                                        efficacies = efficacies, \r\n",
    "                                        cloned_efficacies = cloned_efficacies,\r\n",
    "                                        affinities = affinities, \r\n",
    "                                        cloned_affinities = cloned_affinities,\r\n",
    "                                        R = R,\r\n",
    "                                        positions_antibodies_selected = positions_antibodies_selected, \r\n",
    "                                        log = log)\r\n",
    "    if log == True: print(\"\\n New antibodies pool \\n\",antibodies)                                                                        \r\n",
    "    # RECEPTOR EDITING: Remove worst members of the antibodies pool\r\n",
    "    antibodies, efficacies, affinities, amount_antibodies_erased = rp.receptor_editing(antibodies_pool = antibodies, \r\n",
    "                                                                                efficacies = efficacies, \r\n",
    "                                                                                affinities=affinities, \r\n",
    "                                                                                B = B, \r\n",
    "                                                                                log = log)\r\n",
    "    if log == True: print(\"\\n Antibodies pool after removal \\n\", antibodies)\r\n",
    "    #GENERATION OF NEW RANDOM ANTIBODIES\r\n",
    "    number_new_random_antibodies = amount_antibodies_erased\r\n",
    "    new_random_antibodies = rp.generation_initial_population(p = p, \r\n",
    "                                                        m = m, \r\n",
    "                                                        population_size = number_new_random_antibodies)\r\n",
    "    if log == True: print(\"\\n New random antibodies \\n\",new_random_antibodies)                                                        \r\n",
    "    antibodies = np.concatenate((antibodies, new_random_antibodies), axis = 0)\r\n",
    "    if log == True: print(\"\\n Antibodies pool after adding new random antibodies \\n\",antibodies)\r\n",
    "    \r\n",
    "    #TERMINATION CRITERIA AND SELECTION OF BEST SOLUTION\r\n",
    "    iteration_best_solution = np.amax(efficacies) #max value efficacy for this iteration\r\n",
    "    index_best_solution = np.argmax(efficacies)\r\n",
    "    best_antibody = antibodies[index_best_solution]\r\n",
    "    if log: print(\"\\n Best solution at the moment is {} (antibody {}, index {})\".format(iteration_best_solution,best_antibody,index_best_solution))\r\n",
    "    if iteration_best_solution <= best_solution:\r\n",
    "        improvement_counter = improvement_counter + 1\r\n",
    "        if improvement_counter >= MAX_ITERATIONS_WITHOUT_IMPROVEMENT:\r\n",
    "            print(\"Maximun number of iterations without improvement reached: {}\".format(MAX_ITERATIONS_WITHOUT_IMPROVEMENT))\r\n",
    "            print(\"Best solution obtained is {}\".format(best_solution))\r\n",
    "            break\r\n",
    "    else:\r\n",
    "        best_solution = iteration_best_solution\r\n",
    "        improvement_counter = 0\r\n",
    "    #update iteration counter\r\n",
    "    iterations = iterations + 1"
   ],
   "outputs": [
    {
     "output_type": "stream",
     "name": "stdout",
     "text": [
      "Maximun number of iterations without improvement reached: 150\n",
      "Best solution obtained is 0.7959183673469388\n"
     ]
    }
   ],
   "metadata": {}
  },
  {
   "cell_type": "code",
   "execution_count": 12,
   "source": [
    "iterations"
   ],
   "outputs": [
    {
     "output_type": "execute_result",
     "data": {
      "text/plain": [
       "550"
      ]
     },
     "metadata": {},
     "execution_count": 12
    }
   ],
   "metadata": {}
  },
  {
   "cell_type": "code",
   "execution_count": 13,
   "source": [
    "best_solution"
   ],
   "outputs": [
    {
     "output_type": "execute_result",
     "data": {
      "text/plain": [
       "0.7959183673469388"
      ]
     },
     "metadata": {},
     "execution_count": 13
    }
   ],
   "metadata": {}
  },
  {
   "cell_type": "code",
   "execution_count": 14,
   "source": [
    "best_antibody"
   ],
   "outputs": [
    {
     "output_type": "execute_result",
     "data": {
      "text/plain": [
       "array([ 0,  0,  7, 10,  4, 21, 23, 15, 18, 20,  9,  0,  0, 12, 14, 19, 16,\n",
       "       13,  1,  8,  5, 22, 17,  6,  2,  3, 11])"
      ]
     },
     "metadata": {},
     "execution_count": 14
    }
   ],
   "metadata": {}
  },
  {
   "cell_type": "code",
   "execution_count": 15,
   "source": [
    "cell_identified_best_antibody = rp.cell_identification([best_antibody])\r\n",
    "total_machines, total_parts = rp.decode_cells(total_cells = cell_identified_best_antibody, rows= rows, columns = columns, p = p, log = log)\r\n",
    "\r\n",
    "antibody_matrices = rp.create_machine_part_matrix(matrix=matrix,\r\n",
    "                                                antibodies=[best_antibody], \r\n",
    "                                                total_machines=total_machines, \r\n",
    "                                                total_parts=total_parts)\r\n",
    "antibody_matrices                                                "
   ],
   "outputs": [
    {
     "output_type": "execute_result",
     "data": {
      "text/plain": [
       "[     M3  M5  M2  M1  M4\n",
       " P7    1   0   1   0   0\n",
       " P10   1   1   1   0   0\n",
       " P4    1   1   1   0   0\n",
       " P15   1   1   1   0   0\n",
       " P18   1   1   1   0   0\n",
       " P9    0   1   0   0   0\n",
       " P12   0   0   1   1   1\n",
       " P14   0   0   0   1   1\n",
       " P16   0   0   0   1   1\n",
       " P13   0   0   1   1   1\n",
       " P1    0   0   1   1   1\n",
       " P8    0   0   1   1   1\n",
       " P5    0   0   0   1   1\n",
       " P17   0   0   0   1   1\n",
       " P6    0   0   1   1   1\n",
       " P2    0   0   0   1   1\n",
       " P3    0   0   1   1   1\n",
       " P11   0   0   1   1   1]"
      ]
     },
     "metadata": {},
     "execution_count": 15
    }
   ],
   "metadata": {}
  },
  {
   "cell_type": "code",
   "execution_count": 16,
   "source": [
    "efficacies, affinities, voids, exceptions = rp.evaluate_antibodies(antibody_matrices = antibody_matrices, \r\n",
    "                                                                    total_cells=cell_identified_best_antibody,\r\n",
    "                                                                    number_of_operations = number_of_operations)\r\n",
    "efficacies"
   ],
   "outputs": [
    {
     "output_type": "execute_result",
     "data": {
      "text/plain": [
       "[0.7959183673469388]"
      ]
     },
     "metadata": {},
     "execution_count": 16
    }
   ],
   "metadata": {}
  },
  {
   "cell_type": "code",
   "execution_count": null,
   "source": [],
   "outputs": [],
   "metadata": {}
  }
 ],
 "metadata": {
  "orig_nbformat": 4,
  "language_info": {
   "name": "python",
   "version": "3.7.3",
   "mimetype": "text/x-python",
   "codemirror_mode": {
    "name": "ipython",
    "version": 3
   },
   "pygments_lexer": "ipython3",
   "nbconvert_exporter": "python",
   "file_extension": ".py"
  },
  "kernelspec": {
   "name": "python3",
   "display_name": "Python 3.7.3 64-bit ('base': conda)"
  },
  "interpreter": {
   "hash": "260c81b1808bb268933ac0cd2d87e46c10df0a6720413cb9cd024e4be74a9d76"
  }
 },
 "nbformat": 4,
 "nbformat_minor": 2
}