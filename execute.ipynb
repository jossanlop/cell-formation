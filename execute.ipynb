{
 "cells": [
  {
   "cell_type": "code",
   "execution_count": 13,
   "source": [
    "import numpy as np\r\n",
    "from importnb import Notebook\r\n",
    "\r\n",
    "with Notebook(): \r\n",
    "    import reproduccion_ulutas as rp"
   ],
   "outputs": [],
   "metadata": {}
  },
  {
   "cell_type": "code",
   "execution_count": 14,
   "source": [
    "POPULATION_SIZE = 100   # indicate the initial size of antibodies population\r\n",
    "N = 0.5 # % of antibodies with highest affinities selected to be cloned\r\n",
    "R = 0.10 # % of best cloned antibodies to the pool of antibodies\r\n",
    "B = 0.10 # worst % of the whole population (RECEPTOR EDITING)\r\n",
    "dataset = 'data/instances/testset_a/5x7_Waghodekar_Sahu(1984)[Problem-2].txt'\r\n",
    "MAX_ITERATIONS = 10"
   ],
   "outputs": [],
   "metadata": {}
  },
  {
   "cell_type": "markdown",
   "source": [
    "## 1. Select N% of antibodies with highest affinities. FALTA POR INCLUIR SELECTION ROULETTE WHEEL\r\n",
    "\r\n",
    "## 2. Incluir semilla en la mutación para que los resultados sean reproducibles\r\n",
    "\r\n",
    "## 3. Add new random antibodies into the population. \"Then, same percent of new antibodies are randomly generated\" La pregunta es la misma cantidad de anticuerpos que hemos borrado en el apartado anterior o el mismo porcentaje (B) sobre la nueva población que se ha visto disminuida por el receptor editing."
   ],
   "metadata": {}
  },
  {
   "cell_type": "code",
   "execution_count": 15,
   "source": [
    "#reads data and translates it into part-machine matrix\r\n",
    "matrix, m, p, columns, rows = rp.part_machine_incidence_matrix(dataset) \r\n",
    "#generation of initial pop.\r\n",
    "antibodies = rp.generation_initial_population(p = p, m= m, population_size = POPULATION_SIZE, seed = 2021)\r\n",
    "\r\n",
    "\r\n",
    "iterations = 0\r\n",
    "while iterations <= MAX_ITERATIONS:\r\n",
    "    #identifies cells in the antibodies\r\n",
    "    total_cells = rp.cell_identification(antibodies = antibodies) \r\n",
    "    #translates numbers into parts and machines\r\n",
    "    total_machines, total_parts = rp.decode_cells(total_cells = total_cells) \r\n",
    "    #calculates part-machine matrix for each antibody\r\n",
    "    antibody_matrices = rp.create_machine_part_matrix(matrix = matrix, \r\n",
    "                                                    antibodies = antibodies, \r\n",
    "                                                    total_machines = total_machines, \r\n",
    "                                                    total_parts = total_parts)\r\n",
    "    #evaluates efficacie of each antibody\r\n",
    "    efficacies, voids, exceptions = rp.evaluate_antibodies(antibody_matrices = antibody_matrices, total_cells = total_cells)\r\n",
    "    # Select N% of antibodies with highest affinities. FALTA POR INCLUIR SELECTION ROULETTE WHEEL\r\n",
    "    cloned_antibodies, positions_antibodies_selected = rp.antibodies_selection(antibodies=antibodies, N=N)\r\n",
    "    # Mutation\r\n",
    "    rp.mutate_cloned_antibodies(cloned_antibodies = cloned_antibodies)\r\n",
    "\r\n",
    "    #CLONES: identifies cells in the antibody\r\n",
    "    cloned_total_cells = rp.cell_identification(cloned_antibodies)\r\n",
    "    #CLONES: translates numbers into parts and machines\r\n",
    "    cloned_total_machines, cloned_total_parts = rp.decode_cells(cloned_total_cells)\r\n",
    "    #CLONES: calculates part-machine matrix for each antibody\r\n",
    "    cloned_antibody_matrices = rp.create_machine_part_matrix(matrix = matrix,\r\n",
    "                                                            antibodies = cloned_antibodies, \r\n",
    "                                                            total_machines = cloned_total_machines, \r\n",
    "                                                            total_parts = cloned_total_parts)\r\n",
    "    #CLONES evaluates efficacie of each antibody\r\n",
    "    cloned_efficacies, cloned_voids, cloned_exceptions = rp.evaluate_antibodies(cloned_antibody_matrices, cloned_total_cells)\r\n",
    "    # Add R% of best cloned antibodies to the pool of antibodies\r\n",
    "    antibodies_pool, updated_efficacies = rp.select_best_cloned_antibodies(antibodies = antibodies,\r\n",
    "                                                                        cloned_antibodies = cloned_antibodies,\r\n",
    "                                                                        efficacies = efficacies, cloned_efficacies = cloned_efficacies, R = R)\r\n",
    "    # Remove worst members of the antibodies pool (receptor editing)\r\n",
    "    antibodies_pool = rp.receptor_editing(antibodies_pool = antibodies_pool, \r\n",
    "                                        updated_efficacies = updated_efficacies, \r\n",
    "                                        B = B)\r\n",
    "    \r\n",
    "    #generate new random antibodies\r\n",
    "    number_new_random_antibodies = round(len(antibodies_pool)*B)\r\n",
    "    new_random_antibodies = rp.generation_initial_population(p = p, \r\n",
    "                                                        m = m, \r\n",
    "                                                        population_size = number_new_random_antibodies, \r\n",
    "                                                        seed = 1995)\r\n",
    "    antibodies = np.concatenate((antibodies_pool, new_random_antibodies), axis = 0)\r\n",
    "\r\n",
    "    #update iteration counter\r\n",
    "    iterations = iterations + 1\r\n",
    "\r\n",
    "\r\n",
    "#select best antibody. FALTA UNA EVALUACIÓN FINAL DE L\r\n"
   ],
   "outputs": [
    {
     "output_type": "stream",
     "name": "stdout",
     "text": [
      "4 antibodies were added to the antibodies pool\n",
      "Se han borrado 7 anticuerpos\n",
      "4 antibodies were added to the antibodies pool\n",
      "Se han borrado 8 anticuerpos\n",
      "4 antibodies were added to the antibodies pool\n",
      "Se han borrado 8 anticuerpos\n",
      "4 antibodies were added to the antibodies pool\n",
      "Se han borrado 8 anticuerpos\n",
      "4 antibodies were added to the antibodies pool\n",
      "Se han borrado 8 anticuerpos\n",
      "4 antibodies were added to the antibodies pool\n",
      "Se han borrado 8 anticuerpos\n",
      "4 antibodies were added to the antibodies pool\n",
      "Se han borrado 8 anticuerpos\n",
      "4 antibodies were added to the antibodies pool\n",
      "Se han borrado 8 anticuerpos\n",
      "4 antibodies were added to the antibodies pool\n",
      "Se han borrado 8 anticuerpos\n",
      "4 antibodies were added to the antibodies pool\n",
      "Se han borrado 8 anticuerpos\n",
      "4 antibodies were added to the antibodies pool\n",
      "Se han borrado 8 anticuerpos\n"
     ]
    }
   ],
   "metadata": {}
  },
  {
   "cell_type": "code",
   "execution_count": 16,
   "source": [
    "efficacies"
   ],
   "outputs": [
    {
     "output_type": "execute_result",
     "data": {
      "text/plain": [
       "[0.7073170731707317,\n",
       " 0.7073170731707317,\n",
       " 0.7073170731707317,\n",
       " 0.7073170731707317,\n",
       " 0.7073170731707317,\n",
       " 0.7073170731707317,\n",
       " 0.7073170731707317,\n",
       " 0.48571428571428577,\n",
       " 0.5609756097560975,\n",
       " 0.4871794871794872,\n",
       " 0.5263157894736842]"
      ]
     },
     "metadata": {},
     "execution_count": 16
    }
   ],
   "metadata": {}
  },
  {
   "cell_type": "code",
   "execution_count": null,
   "source": [],
   "outputs": [],
   "metadata": {}
  }
 ],
 "metadata": {
  "orig_nbformat": 4,
  "language_info": {
   "name": "python",
   "version": "3.8.8",
   "mimetype": "text/x-python",
   "codemirror_mode": {
    "name": "ipython",
    "version": 3
   },
   "pygments_lexer": "ipython3",
   "nbconvert_exporter": "python",
   "file_extension": ".py"
  },
  "kernelspec": {
   "name": "python3",
   "display_name": "Python 3.8.8 64-bit ('base': conda)"
  },
  "interpreter": {
   "hash": "b3ba2566441a7c06988d0923437866b63cedc61552a5af99d1f4fb67d367b25f"
  }
 },
 "nbformat": 4,
 "nbformat_minor": 2
}