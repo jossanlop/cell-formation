{
 "cells": [
  {
   "cell_type": "code",
   "execution_count": 14,
   "metadata": {},
   "outputs": [],
   "source": [
    "import numpy as np\n",
    "import pandas as pd\n",
    "from os import listdir\n",
    "import reproduccion_ulutas as rp\n",
    "import time"
   ]
  },
  {
   "cell_type": "code",
   "execution_count": 15,
   "metadata": {},
   "outputs": [],
   "source": [
    "data = 'data/instances/testset_a/5x7_Waghodekar_Sahu(1984)[Problem-2].txt'\n",
    "log = False\n",
    "POPULATION_SIZE = 3\n",
    "R = 0.5\n",
    "B = 0.5"
   ]
  },
  {
   "cell_type": "code",
   "execution_count": null,
   "metadata": {},
   "outputs": [],
   "source": []
  },
  {
   "cell_type": "code",
   "execution_count": 16,
   "metadata": {},
   "outputs": [
    {
     "data": {
      "text/plain": [
       "[['M3', 'P5', 'M4', 'P4', 'P7'],\n",
       " ['M2'],\n",
       " ['P2', 'M5'],\n",
       " ['P3', 'P1', 'M1', 'P6']]"
      ]
     },
     "execution_count": 16,
     "metadata": {},
     "output_type": "execute_result"
    }
   ],
   "source": [
    "matrix, m, p, number_of_operations, columns, rows = rp.part_machine_incidence_matrix(data)\n",
    "antibodies = rp.generation_initial_population(p = p, m = m, population_size = POPULATION_SIZE)\n",
    "total_cells = rp.cell_identification(antibodies = antibodies)\n",
    "total_machines, total_parts = rp.decode_cells(total_cells=total_cells, rows=rows, columns=columns, p=p, log = log)\n",
    "total_cells[0]"
   ]
  },
  {
   "cell_type": "code",
   "execution_count": 17,
   "metadata": {},
   "outputs": [
    {
     "data": {
      "text/html": [
       "<div>\n",
       "<style scoped>\n",
       "    .dataframe tbody tr th:only-of-type {\n",
       "        vertical-align: middle;\n",
       "    }\n",
       "\n",
       "    .dataframe tbody tr th {\n",
       "        vertical-align: top;\n",
       "    }\n",
       "\n",
       "    .dataframe thead th {\n",
       "        text-align: right;\n",
       "    }\n",
       "</style>\n",
       "<table border=\"1\" class=\"dataframe\">\n",
       "  <thead>\n",
       "    <tr style=\"text-align: right;\">\n",
       "      <th></th>\n",
       "      <th>M3</th>\n",
       "      <th>M4</th>\n",
       "      <th>M2</th>\n",
       "      <th>M5</th>\n",
       "      <th>M1</th>\n",
       "    </tr>\n",
       "  </thead>\n",
       "  <tbody>\n",
       "    <tr>\n",
       "      <th>P5</th>\n",
       "      <td>1</td>\n",
       "      <td>0</td>\n",
       "      <td>1</td>\n",
       "      <td>1</td>\n",
       "      <td>1</td>\n",
       "    </tr>\n",
       "    <tr>\n",
       "      <th>P4</th>\n",
       "      <td>1</td>\n",
       "      <td>1</td>\n",
       "      <td>1</td>\n",
       "      <td>1</td>\n",
       "      <td>0</td>\n",
       "    </tr>\n",
       "    <tr>\n",
       "      <th>P7</th>\n",
       "      <td>0</td>\n",
       "      <td>0</td>\n",
       "      <td>0</td>\n",
       "      <td>0</td>\n",
       "      <td>1</td>\n",
       "    </tr>\n",
       "    <tr>\n",
       "      <th>P2</th>\n",
       "      <td>0</td>\n",
       "      <td>1</td>\n",
       "      <td>1</td>\n",
       "      <td>1</td>\n",
       "      <td>0</td>\n",
       "    </tr>\n",
       "    <tr>\n",
       "      <th>P3</th>\n",
       "      <td>1</td>\n",
       "      <td>1</td>\n",
       "      <td>1</td>\n",
       "      <td>0</td>\n",
       "      <td>0</td>\n",
       "    </tr>\n",
       "    <tr>\n",
       "      <th>P1</th>\n",
       "      <td>0</td>\n",
       "      <td>1</td>\n",
       "      <td>0</td>\n",
       "      <td>0</td>\n",
       "      <td>1</td>\n",
       "    </tr>\n",
       "    <tr>\n",
       "      <th>P6</th>\n",
       "      <td>1</td>\n",
       "      <td>0</td>\n",
       "      <td>0</td>\n",
       "      <td>1</td>\n",
       "      <td>1</td>\n",
       "    </tr>\n",
       "  </tbody>\n",
       "</table>\n",
       "</div>"
      ],
      "text/plain": [
       "    M3  M4  M2  M5  M1\n",
       "P5   1   0   1   1   1\n",
       "P4   1   1   1   1   0\n",
       "P7   0   0   0   0   1\n",
       "P2   0   1   1   1   0\n",
       "P3   1   1   1   0   0\n",
       "P1   0   1   0   0   1\n",
       "P6   1   0   0   1   1"
      ]
     },
     "execution_count": 17,
     "metadata": {},
     "output_type": "execute_result"
    }
   ],
   "source": [
    "antibody_matrices = rp.create_machine_part_matrix(matrix=matrix,\n",
    "                                                antibodies=antibodies, \n",
    "                                                total_machines=total_machines, \n",
    "                                                total_parts=total_parts)\n",
    "antibody_matrices[0]"
   ]
  },
  {
   "cell_type": "code",
   "execution_count": 18,
   "metadata": {},
   "outputs": [],
   "source": [
    "def evaluate_intercell_transport(antibody_matrices,total_cells,rows):   \n",
    "    intercell_transports, sum_intercell_transport = [], []\n",
    "    for i,matrix in enumerate(antibody_matrices): #recorremos todas las matrices de incidencia\n",
    "        intercell_transport = []\n",
    "        for part in rows: # recorremos todas las partes para cada matriz\n",
    "            part_incidence = matrix.loc[part]\n",
    "            part_incidence_1 = part_incidence[part_incidence == 1]\n",
    "            cont = 0 # contador para el número de celdas por las que pasa un trabajo\n",
    "            for cell in total_cells[i]: # recorremos, para cada \n",
    "                if any(machine in cell for machine in part_incidence_1.index): cont = cont + 1\n",
    "            intercell_transport.append(cont)\n",
    "        intercell_transports.append(intercell_transport)\n",
    "        sum_intercell_transport.append(sum(intercell_transport))\n",
    "    return intercell_transports,sum_intercell_transport"
   ]
  },
  {
   "cell_type": "code",
   "execution_count": 19,
   "metadata": {},
   "outputs": [
    {
     "data": {
      "text/plain": [
       "[18, 11, 15]"
      ]
     },
     "execution_count": 19,
     "metadata": {},
     "output_type": "execute_result"
    }
   ],
   "source": [
    "intercell_transports, sum_intercell_transport = evaluate_intercell_transport(antibody_matrices = antibody_matrices,\n",
    "                                                    total_cells = total_cells,\n",
    "                                                    rows = rows)\n",
    "sum_intercell_transport                                                    "
   ]
  },
  {
   "cell_type": "code",
   "execution_count": 20,
   "metadata": {},
   "outputs": [
    {
     "data": {
      "text/plain": [
       "[[2, 3, 2, 3, 4, 3, 1], [1, 2, 1, 2, 2, 2, 1], [2, 2, 3, 3, 2, 2, 1]]"
      ]
     },
     "execution_count": 20,
     "metadata": {},
     "output_type": "execute_result"
    }
   ],
   "source": [
    "intercell_transports"
   ]
  }
 ],
 "metadata": {
  "interpreter": {
   "hash": "b3ba2566441a7c06988d0923437866b63cedc61552a5af99d1f4fb67d367b25f"
  },
  "kernelspec": {
   "display_name": "Python 3.8.8 64-bit ('base': conda)",
   "name": "python3"
  },
  "language_info": {
   "codemirror_mode": {
    "name": "ipython",
    "version": 3
   },
   "file_extension": ".py",
   "mimetype": "text/x-python",
   "name": "python",
   "nbconvert_exporter": "python",
   "pygments_lexer": "ipython3",
   "version": "3.8.8"
  },
  "orig_nbformat": 4
 },
 "nbformat": 4,
 "nbformat_minor": 2
}
