{
 "cells": [
  {
   "cell_type": "code",
   "execution_count": 40,
   "metadata": {},
   "outputs": [],
   "source": [
    "import numpy as np\n",
    "import pandas as pd\n",
    "from os import listdir\n",
    "import reproduccion_ulutas as rp\n",
    "import time"
   ]
  },
  {
   "cell_type": "code",
   "execution_count": 41,
   "metadata": {},
   "outputs": [],
   "source": [
    "data = 'data/instances/testset_a/5x7_Waghodekar_Sahu(1984)[Problem-2].txt'\n",
    "log = False\n",
    "R = 0.5\n",
    "B = 0.5"
   ]
  },
  {
   "cell_type": "code",
   "execution_count": 42,
   "metadata": {},
   "outputs": [
    {
     "data": {
      "text/html": [
       "<div>\n",
       "<style scoped>\n",
       "    .dataframe tbody tr th:only-of-type {\n",
       "        vertical-align: middle;\n",
       "    }\n",
       "\n",
       "    .dataframe tbody tr th {\n",
       "        vertical-align: top;\n",
       "    }\n",
       "\n",
       "    .dataframe thead th {\n",
       "        text-align: right;\n",
       "    }\n",
       "</style>\n",
       "<table border=\"1\" class=\"dataframe\">\n",
       "  <thead>\n",
       "    <tr style=\"text-align: right;\">\n",
       "      <th></th>\n",
       "      <th>M1</th>\n",
       "      <th>M2</th>\n",
       "      <th>M3</th>\n",
       "      <th>M4</th>\n",
       "      <th>M5</th>\n",
       "    </tr>\n",
       "  </thead>\n",
       "  <tbody>\n",
       "    <tr>\n",
       "      <th>P1</th>\n",
       "      <td>1</td>\n",
       "      <td>0</td>\n",
       "      <td>0</td>\n",
       "      <td>1</td>\n",
       "      <td>0</td>\n",
       "    </tr>\n",
       "    <tr>\n",
       "      <th>P2</th>\n",
       "      <td>0</td>\n",
       "      <td>1</td>\n",
       "      <td>0</td>\n",
       "      <td>1</td>\n",
       "      <td>1</td>\n",
       "    </tr>\n",
       "    <tr>\n",
       "      <th>P3</th>\n",
       "      <td>0</td>\n",
       "      <td>1</td>\n",
       "      <td>1</td>\n",
       "      <td>1</td>\n",
       "      <td>0</td>\n",
       "    </tr>\n",
       "    <tr>\n",
       "      <th>P4</th>\n",
       "      <td>0</td>\n",
       "      <td>1</td>\n",
       "      <td>1</td>\n",
       "      <td>1</td>\n",
       "      <td>1</td>\n",
       "    </tr>\n",
       "    <tr>\n",
       "      <th>P5</th>\n",
       "      <td>1</td>\n",
       "      <td>1</td>\n",
       "      <td>1</td>\n",
       "      <td>0</td>\n",
       "      <td>1</td>\n",
       "    </tr>\n",
       "    <tr>\n",
       "      <th>P6</th>\n",
       "      <td>1</td>\n",
       "      <td>0</td>\n",
       "      <td>1</td>\n",
       "      <td>0</td>\n",
       "      <td>1</td>\n",
       "    </tr>\n",
       "    <tr>\n",
       "      <th>P7</th>\n",
       "      <td>1</td>\n",
       "      <td>0</td>\n",
       "      <td>0</td>\n",
       "      <td>0</td>\n",
       "      <td>0</td>\n",
       "    </tr>\n",
       "  </tbody>\n",
       "</table>\n",
       "</div>"
      ],
      "text/plain": [
       "    M1  M2  M3  M4  M5\n",
       "P1   1   0   0   1   0\n",
       "P2   0   1   0   1   1\n",
       "P3   0   1   1   1   0\n",
       "P4   0   1   1   1   1\n",
       "P5   1   1   1   0   1\n",
       "P6   1   0   1   0   1\n",
       "P7   1   0   0   0   0"
      ]
     },
     "execution_count": 42,
     "metadata": {},
     "output_type": "execute_result"
    }
   ],
   "source": [
    "matrix, m, p, number_of_operations, columns, rows = rp.part_machine_incidence_matrix(data)\n",
    "matrix"
   ]
  },
  {
   "cell_type": "code",
   "execution_count": 43,
   "metadata": {},
   "outputs": [
    {
     "data": {
      "text/plain": [
       "array([[10, 12,  5,  7,  4,  2, 11,  0,  0,  9,  8,  0,  0,  1,  6,  3],\n",
       "       [ 9, 11,  1,  4, 12,  8,  3,  5,  0,  0,  2, 10,  0,  7,  6,  0],\n",
       "       [ 5,  8,  7,  3,  1,  4, 12,  0,  0,  0,  0,  9, 11, 10,  6,  2]])"
      ]
     },
     "execution_count": 43,
     "metadata": {},
     "output_type": "execute_result"
    }
   ],
   "source": [
    "antibodies = rp.generation_initial_population(p = p, m = m, population_size = 3)\n",
    "antibodies"
   ]
  },
  {
   "cell_type": "code",
   "execution_count": 44,
   "metadata": {},
   "outputs": [
    {
     "data": {
      "text/plain": [
       "[[[10, 12, 5, 7, 4, 2, 11], [9, 8], [1, 6, 3]],\n",
       " [[9, 11, 1, 4, 12, 8, 3, 5], [2, 10], [7, 6]],\n",
       " [[5, 8, 7, 3, 1, 4, 12], [9, 11, 10, 6, 2]]]"
      ]
     },
     "execution_count": 44,
     "metadata": {},
     "output_type": "execute_result"
    }
   ],
   "source": [
    "total_cells = rp.cell_identification(antibodies = antibodies)\n",
    "total_cells"
   ]
  },
  {
   "cell_type": "code",
   "execution_count": 45,
   "metadata": {},
   "outputs": [
    {
     "name": "stdout",
     "output_type": "stream",
     "text": [
      "decoded antibodies [['M3', 'M5', 'P5', 'P7', 'P4', 'P2', 'M4'], ['M2', 'M1'], ['P1', 'P6', 'P3']]\n",
      "decoded antibodies [['M2', 'M4', 'P1', 'P4', 'M5', 'M1', 'P3', 'P5'], ['P2', 'M3'], ['P7', 'P6']]\n",
      "decoded antibodies [['P5', 'M1', 'P7', 'P3', 'P1', 'P4', 'M5'], ['M2', 'M4', 'M3', 'P6', 'P2']]\n"
     ]
    },
    {
     "data": {
      "text/plain": [
       "[['M3', 'M5', 'M4', 'M2', 'M1'],\n",
       " ['M2', 'M4', 'M5', 'M1', 'M3'],\n",
       " ['M1', 'M5', 'M2', 'M4', 'M3']]"
      ]
     },
     "execution_count": 45,
     "metadata": {},
     "output_type": "execute_result"
    }
   ],
   "source": [
    "total_machines, total_parts = rp.decode_cells(total_cells=total_cells, rows=rows, columns=columns, p=p, log = True)\n",
    "total_machines"
   ]
  },
  {
   "cell_type": "code",
   "execution_count": 47,
   "metadata": {},
   "outputs": [
    {
     "data": {
      "text/plain": [
       "M3    1\n",
       "M5    1\n",
       "M4    0\n",
       "M2    1\n",
       "M1    1\n",
       "Name: P5, dtype: int64"
      ]
     },
     "execution_count": 47,
     "metadata": {},
     "output_type": "execute_result"
    }
   ],
   "source": [
    "antibody_matrices = rp.create_machine_part_matrix(matrix=matrix,\n",
    "                                                antibodies=antibodies, \n",
    "                                                total_machines=total_machines, \n",
    "                                                total_parts=total_parts)\n",
    "antibody_matrices[0].loc['P5']                                           "
   ]
  },
  {
   "cell_type": "code",
   "execution_count": null,
   "metadata": {},
   "outputs": [],
   "source": []
  }
 ],
 "metadata": {
  "language_info": {
   "name": "python"
  },
  "orig_nbformat": 4
 },
 "nbformat": 4,
 "nbformat_minor": 2
}
